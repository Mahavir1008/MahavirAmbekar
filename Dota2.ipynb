{
 "cells": [
  {
   "cell_type": "code",
   "execution_count": 2,
   "metadata": {
    "collapsed": true
   },
   "outputs": [],
   "source": [
    "import numpy as np\n",
    "import pandas as pd\n",
    "import matplotlib.pyplot as plt\n",
    "%matplotlib inline"
   ]
  },
  {
   "cell_type": "code",
   "execution_count": 3,
   "metadata": {
    "collapsed": true
   },
   "outputs": [],
   "source": [
    "train9=pd.read_csv(\"C:/Users/Mahavir/Desktop/Dota/train_DcAf1c7/train9.csv\")\n",
    "train1=pd.read_csv(\"C:/Users/Mahavir/Desktop/Dota/train_DcAf1c7/train1.csv\")\n",
    "test9=pd.read_csv(\"C:/Users/Mahavir/Desktop/Dota/test9.csv\")\n",
    "test1=pd.read_csv(\"C:/Users/Mahavir/Desktop/Dota/test1.csv\")\n",
    "tr_hero=pd.read_csv(\"C:/Users/Mahavir/Desktop/Dota/train_DcAf1c7/hero_data.csv\")"
   ]
  },
  {
   "cell_type": "code",
   "execution_count": 1089,
   "metadata": {},
   "outputs": [
    {
     "data": {
      "text/plain": [
       "'Support:Disabler:Nuker:Durable'"
      ]
     },
     "execution_count": 1089,
     "metadata": {},
     "output_type": "execute_result"
    }
   ],
   "source": [
    "tr_hero.roles[2]\n"
   ]
  },
  {
   "cell_type": "code",
   "execution_count": 611,
   "metadata": {
    "collapsed": true
   },
   "outputs": [],
   "source": [
    "HeroDd=pd.get_dummies(columns=['primary_attr','attack_type','roles'],data=HeroFil,drop_first='TRUE')"
   ]
  },
  {
   "cell_type": "code",
   "execution_count": 601,
   "metadata": {},
   "outputs": [
    {
     "data": {
      "text/plain": [
       "(115, 12)"
      ]
     },
     "execution_count": 601,
     "metadata": {},
     "output_type": "execute_result"
    }
   ],
   "source": [
    "HeroFil.shape"
   ]
  },
  {
   "cell_type": "code",
   "execution_count": 612,
   "metadata": {},
   "outputs": [
    {
     "data": {
      "text/plain": [
       "(115, 110)"
      ]
     },
     "execution_count": 612,
     "metadata": {},
     "output_type": "execute_result"
    }
   ],
   "source": [
    "HeroDd.shape"
   ]
  },
  {
   "cell_type": "code",
   "execution_count": 613,
   "metadata": {},
   "outputs": [
    {
     "data": {
      "text/html": [
       "<div>\n",
       "<style>\n",
       "    .dataframe thead tr:only-child th {\n",
       "        text-align: right;\n",
       "    }\n",
       "\n",
       "    .dataframe thead th {\n",
       "        text-align: left;\n",
       "    }\n",
       "\n",
       "    .dataframe tbody tr th {\n",
       "        vertical-align: top;\n",
       "    }\n",
       "</style>\n",
       "<table border=\"1\" class=\"dataframe\">\n",
       "  <thead>\n",
       "    <tr style=\"text-align: right;\">\n",
       "      <th></th>\n",
       "      <th>hero_id</th>\n",
       "      <th>base_health_regen</th>\n",
       "      <th>base_armor</th>\n",
       "      <th>base_strength</th>\n",
       "      <th>base_agility</th>\n",
       "      <th>strength_gain</th>\n",
       "      <th>agility_gain</th>\n",
       "      <th>attack_range</th>\n",
       "      <th>attack_rate</th>\n",
       "      <th>turn_rate</th>\n",
       "      <th>...</th>\n",
       "      <th>roles_Support:Nuker:Disabler</th>\n",
       "      <th>roles_Support:Nuker:Disabler:Durable:Escape</th>\n",
       "      <th>roles_Support:Nuker:Disabler:Durable:Initiator</th>\n",
       "      <th>roles_Support:Nuker:Disabler:Escape</th>\n",
       "      <th>roles_Support:Nuker:Disabler:Jungler</th>\n",
       "      <th>roles_Support:Nuker:Durable:Disabler:Pusher</th>\n",
       "      <th>roles_Support:Nuker:Initiator:Escape:Disabler</th>\n",
       "      <th>roles_Support:Nuker:Initiator:Pusher:Disabler</th>\n",
       "      <th>roles_Support:Nuker:Pusher:Disabler</th>\n",
       "      <th>roles_Support:Pusher:Disabler:Nuker:Initiator</th>\n",
       "    </tr>\n",
       "  </thead>\n",
       "  <tbody>\n",
       "    <tr>\n",
       "      <th>0</th>\n",
       "      <td>1</td>\n",
       "      <td>1.50</td>\n",
       "      <td>-1.0</td>\n",
       "      <td>22</td>\n",
       "      <td>22</td>\n",
       "      <td>1.3</td>\n",
       "      <td>2.8</td>\n",
       "      <td>150</td>\n",
       "      <td>1.45</td>\n",
       "      <td>0.5</td>\n",
       "      <td>...</td>\n",
       "      <td>0</td>\n",
       "      <td>0</td>\n",
       "      <td>0</td>\n",
       "      <td>0</td>\n",
       "      <td>0</td>\n",
       "      <td>0</td>\n",
       "      <td>0</td>\n",
       "      <td>0</td>\n",
       "      <td>0</td>\n",
       "      <td>0</td>\n",
       "    </tr>\n",
       "    <tr>\n",
       "      <th>1</th>\n",
       "      <td>2</td>\n",
       "      <td>4.25</td>\n",
       "      <td>-1.0</td>\n",
       "      <td>25</td>\n",
       "      <td>20</td>\n",
       "      <td>2.8</td>\n",
       "      <td>2.2</td>\n",
       "      <td>150</td>\n",
       "      <td>1.70</td>\n",
       "      <td>0.6</td>\n",
       "      <td>...</td>\n",
       "      <td>0</td>\n",
       "      <td>0</td>\n",
       "      <td>0</td>\n",
       "      <td>0</td>\n",
       "      <td>0</td>\n",
       "      <td>0</td>\n",
       "      <td>0</td>\n",
       "      <td>0</td>\n",
       "      <td>0</td>\n",
       "      <td>0</td>\n",
       "    </tr>\n",
       "    <tr>\n",
       "      <th>2</th>\n",
       "      <td>3</td>\n",
       "      <td>1.50</td>\n",
       "      <td>1.0</td>\n",
       "      <td>23</td>\n",
       "      <td>23</td>\n",
       "      <td>2.4</td>\n",
       "      <td>2.4</td>\n",
       "      <td>400</td>\n",
       "      <td>1.70</td>\n",
       "      <td>0.6</td>\n",
       "      <td>...</td>\n",
       "      <td>0</td>\n",
       "      <td>0</td>\n",
       "      <td>0</td>\n",
       "      <td>0</td>\n",
       "      <td>0</td>\n",
       "      <td>0</td>\n",
       "      <td>0</td>\n",
       "      <td>0</td>\n",
       "      <td>0</td>\n",
       "      <td>0</td>\n",
       "    </tr>\n",
       "    <tr>\n",
       "      <th>3</th>\n",
       "      <td>4</td>\n",
       "      <td>1.50</td>\n",
       "      <td>0.0</td>\n",
       "      <td>23</td>\n",
       "      <td>24</td>\n",
       "      <td>2.7</td>\n",
       "      <td>3.0</td>\n",
       "      <td>150</td>\n",
       "      <td>1.70</td>\n",
       "      <td>0.5</td>\n",
       "      <td>...</td>\n",
       "      <td>0</td>\n",
       "      <td>0</td>\n",
       "      <td>0</td>\n",
       "      <td>0</td>\n",
       "      <td>0</td>\n",
       "      <td>0</td>\n",
       "      <td>0</td>\n",
       "      <td>0</td>\n",
       "      <td>0</td>\n",
       "      <td>0</td>\n",
       "    </tr>\n",
       "    <tr>\n",
       "      <th>4</th>\n",
       "      <td>5</td>\n",
       "      <td>1.50</td>\n",
       "      <td>-1.0</td>\n",
       "      <td>16</td>\n",
       "      <td>16</td>\n",
       "      <td>2.0</td>\n",
       "      <td>1.6</td>\n",
       "      <td>600</td>\n",
       "      <td>1.70</td>\n",
       "      <td>0.5</td>\n",
       "      <td>...</td>\n",
       "      <td>0</td>\n",
       "      <td>0</td>\n",
       "      <td>0</td>\n",
       "      <td>0</td>\n",
       "      <td>0</td>\n",
       "      <td>0</td>\n",
       "      <td>0</td>\n",
       "      <td>0</td>\n",
       "      <td>0</td>\n",
       "      <td>0</td>\n",
       "    </tr>\n",
       "  </tbody>\n",
       "</table>\n",
       "<p>5 rows × 110 columns</p>\n",
       "</div>"
      ],
      "text/plain": [
       "   hero_id  base_health_regen  base_armor  base_strength  base_agility  \\\n",
       "0        1               1.50        -1.0             22            22   \n",
       "1        2               4.25        -1.0             25            20   \n",
       "2        3               1.50         1.0             23            23   \n",
       "3        4               1.50         0.0             23            24   \n",
       "4        5               1.50        -1.0             16            16   \n",
       "\n",
       "   strength_gain  agility_gain  attack_range  attack_rate  turn_rate  \\\n",
       "0            1.3           2.8           150         1.45        0.5   \n",
       "1            2.8           2.2           150         1.70        0.6   \n",
       "2            2.4           2.4           400         1.70        0.6   \n",
       "3            2.7           3.0           150         1.70        0.5   \n",
       "4            2.0           1.6           600         1.70        0.5   \n",
       "\n",
       "                       ...                        \\\n",
       "0                      ...                         \n",
       "1                      ...                         \n",
       "2                      ...                         \n",
       "3                      ...                         \n",
       "4                      ...                         \n",
       "\n",
       "   roles_Support:Nuker:Disabler  roles_Support:Nuker:Disabler:Durable:Escape  \\\n",
       "0                             0                                            0   \n",
       "1                             0                                            0   \n",
       "2                             0                                            0   \n",
       "3                             0                                            0   \n",
       "4                             0                                            0   \n",
       "\n",
       "   roles_Support:Nuker:Disabler:Durable:Initiator  \\\n",
       "0                                               0   \n",
       "1                                               0   \n",
       "2                                               0   \n",
       "3                                               0   \n",
       "4                                               0   \n",
       "\n",
       "   roles_Support:Nuker:Disabler:Escape  roles_Support:Nuker:Disabler:Jungler  \\\n",
       "0                                    0                                     0   \n",
       "1                                    0                                     0   \n",
       "2                                    0                                     0   \n",
       "3                                    0                                     0   \n",
       "4                                    0                                     0   \n",
       "\n",
       "   roles_Support:Nuker:Durable:Disabler:Pusher  \\\n",
       "0                                            0   \n",
       "1                                            0   \n",
       "2                                            0   \n",
       "3                                            0   \n",
       "4                                            0   \n",
       "\n",
       "   roles_Support:Nuker:Initiator:Escape:Disabler  \\\n",
       "0                                              0   \n",
       "1                                              0   \n",
       "2                                              0   \n",
       "3                                              0   \n",
       "4                                              0   \n",
       "\n",
       "   roles_Support:Nuker:Initiator:Pusher:Disabler  \\\n",
       "0                                              0   \n",
       "1                                              0   \n",
       "2                                              0   \n",
       "3                                              0   \n",
       "4                                              0   \n",
       "\n",
       "   roles_Support:Nuker:Pusher:Disabler  \\\n",
       "0                                    0   \n",
       "1                                    0   \n",
       "2                                    0   \n",
       "3                                    0   \n",
       "4                                    0   \n",
       "\n",
       "   roles_Support:Pusher:Disabler:Nuker:Initiator  \n",
       "0                                              0  \n",
       "1                                              0  \n",
       "2                                              0  \n",
       "3                                              0  \n",
       "4                                              0  \n",
       "\n",
       "[5 rows x 110 columns]"
      ]
     },
     "execution_count": 613,
     "metadata": {},
     "output_type": "execute_result"
    }
   ],
   "source": [
    "HeroDd.head()"
   ]
  },
  {
   "cell_type": "code",
   "execution_count": 380,
   "metadata": {},
   "outputs": [
    {
     "data": {
      "text/plain": [
       "(898, 4)"
      ]
     },
     "execution_count": 380,
     "metadata": {},
     "output_type": "execute_result"
    }
   ],
   "source": [
    "test1.shape"
   ]
  },
  {
   "cell_type": "code",
   "execution_count": 381,
   "metadata": {},
   "outputs": [
    {
     "data": {
      "text/plain": [
       "(2094, 6)"
      ]
     },
     "execution_count": 381,
     "metadata": {},
     "output_type": "execute_result"
    }
   ],
   "source": [
    "train1.shape"
   ]
  },
  {
   "cell_type": "code",
   "execution_count": 445,
   "metadata": {
    "collapsed": true
   },
   "outputs": [],
   "source": [
    "train9_outl=train9[((train9.kda_ratio<1500)|(train9.kda_ratio>12000)) & (train9.num_games<2)\n",
    "                   |((train9.kda_ratio>12000)& (train9.num_games<6))|((train9.kda_ratio<500)& (train9.num_games<6))]"
   ]
  },
  {
   "cell_type": "code",
   "execution_count": 455,
   "metadata": {
    "collapsed": true
   },
   "outputs": [],
   "source": [
    "train9_outl=train9[((train9.kda_ratio<150)|(train9.kda_ratio>12000)) & (train9.num_games<2)]\n",
    "    "
   ]
  },
  {
   "cell_type": "code",
   "execution_count": 454,
   "metadata": {},
   "outputs": [
    {
     "data": {
      "text/html": [
       "<div>\n",
       "<style>\n",
       "    .dataframe thead tr:only-child th {\n",
       "        text-align: right;\n",
       "    }\n",
       "\n",
       "    .dataframe thead th {\n",
       "        text-align: left;\n",
       "    }\n",
       "\n",
       "    .dataframe tbody tr th {\n",
       "        vertical-align: top;\n",
       "    }\n",
       "</style>\n",
       "<table border=\"1\" class=\"dataframe\">\n",
       "  <thead>\n",
       "    <tr style=\"text-align: right;\">\n",
       "      <th></th>\n",
       "      <th>user_id</th>\n",
       "      <th>hero_id</th>\n",
       "      <th>id</th>\n",
       "      <th>num_games</th>\n",
       "      <th>num_wins</th>\n",
       "      <th>kda_ratio</th>\n",
       "    </tr>\n",
       "  </thead>\n",
       "  <tbody>\n",
       "    <tr>\n",
       "      <th>1907</th>\n",
       "      <td>304</td>\n",
       "      <td>22</td>\n",
       "      <td>304_22</td>\n",
       "      <td>1</td>\n",
       "      <td>1</td>\n",
       "      <td>32000.0</td>\n",
       "    </tr>\n",
       "    <tr>\n",
       "      <th>5549</th>\n",
       "      <td>880</td>\n",
       "      <td>41</td>\n",
       "      <td>880_41</td>\n",
       "      <td>1</td>\n",
       "      <td>1</td>\n",
       "      <td>38000.0</td>\n",
       "    </tr>\n",
       "    <tr>\n",
       "      <th>5552</th>\n",
       "      <td>880</td>\n",
       "      <td>87</td>\n",
       "      <td>880_87</td>\n",
       "      <td>1</td>\n",
       "      <td>0</td>\n",
       "      <td>0.0</td>\n",
       "    </tr>\n",
       "    <tr>\n",
       "      <th>10979</th>\n",
       "      <td>1734</td>\n",
       "      <td>70</td>\n",
       "      <td>1734_70</td>\n",
       "      <td>1</td>\n",
       "      <td>1</td>\n",
       "      <td>15000.0</td>\n",
       "    </tr>\n",
       "    <tr>\n",
       "      <th>16572</th>\n",
       "      <td>2611</td>\n",
       "      <td>22</td>\n",
       "      <td>2611_22</td>\n",
       "      <td>1</td>\n",
       "      <td>1</td>\n",
       "      <td>27000.0</td>\n",
       "    </tr>\n",
       "  </tbody>\n",
       "</table>\n",
       "</div>"
      ],
      "text/plain": [
       "       user_id  hero_id       id  num_games  num_wins  kda_ratio\n",
       "1907       304       22   304_22          1         1    32000.0\n",
       "5549       880       41   880_41          1         1    38000.0\n",
       "5552       880       87   880_87          1         0        0.0\n",
       "10979     1734       70  1734_70          1         1    15000.0\n",
       "16572     2611       22  2611_22          1         1    27000.0"
      ]
     },
     "execution_count": 454,
     "metadata": {},
     "output_type": "execute_result"
    }
   ],
   "source": [
    "train9_outl"
   ]
  },
  {
   "cell_type": "code",
   "execution_count": 384,
   "metadata": {
    "collapsed": true
   },
   "outputs": [],
   "source": [
    "#train9_outl"
   ]
  },
  {
   "cell_type": "code",
   "execution_count": 456,
   "metadata": {
    "collapsed": true
   },
   "outputs": [],
   "source": [
    "tr_ind=train9_outl.index"
   ]
  },
  {
   "cell_type": "code",
   "execution_count": 457,
   "metadata": {
    "collapsed": true
   },
   "outputs": [],
   "source": [
    "train9_pure=train9.drop(train9.index[tr_ind])"
   ]
  },
  {
   "cell_type": "code",
   "execution_count": 458,
   "metadata": {},
   "outputs": [
    {
     "data": {
      "text/plain": [
       "0"
      ]
     },
     "execution_count": 458,
     "metadata": {},
     "output_type": "execute_result"
    }
   ],
   "source": [
    "np.count_nonzero(pd.isnull(train9_pure))"
   ]
  },
  {
   "cell_type": "code",
   "execution_count": 388,
   "metadata": {},
   "outputs": [
    {
     "data": {
      "text/plain": [
       "(18829, 6)"
      ]
     },
     "execution_count": 388,
     "metadata": {},
     "output_type": "execute_result"
    }
   ],
   "source": [
    "train9_pure.shape"
   ]
  },
  {
   "cell_type": "code",
   "execution_count": null,
   "metadata": {
    "collapsed": true
   },
   "outputs": [],
   "source": []
  },
  {
   "cell_type": "code",
   "execution_count": 633,
   "metadata": {},
   "outputs": [
    {
     "data": {
      "text/plain": [
       "(18846, 6)"
      ]
     },
     "execution_count": 633,
     "metadata": {},
     "output_type": "execute_result"
    }
   ],
   "source": [
    "train9.shape"
   ]
  },
  {
   "cell_type": "code",
   "execution_count": 635,
   "metadata": {},
   "outputs": [
    {
     "data": {
      "text/html": [
       "<div>\n",
       "<style>\n",
       "    .dataframe thead tr:only-child th {\n",
       "        text-align: right;\n",
       "    }\n",
       "\n",
       "    .dataframe thead th {\n",
       "        text-align: left;\n",
       "    }\n",
       "\n",
       "    .dataframe tbody tr th {\n",
       "        vertical-align: top;\n",
       "    }\n",
       "</style>\n",
       "<table border=\"1\" class=\"dataframe\">\n",
       "  <thead>\n",
       "    <tr style=\"text-align: right;\">\n",
       "      <th></th>\n",
       "      <th>user_id</th>\n",
       "      <th>hero_id</th>\n",
       "      <th>id</th>\n",
       "      <th>num_games</th>\n",
       "      <th>num_wins</th>\n",
       "      <th>kda_ratio</th>\n",
       "    </tr>\n",
       "  </thead>\n",
       "  <tbody>\n",
       "    <tr>\n",
       "      <th>1219</th>\n",
       "      <td>1734</td>\n",
       "      <td>114</td>\n",
       "      <td>1734_114</td>\n",
       "      <td>3</td>\n",
       "      <td>3</td>\n",
       "      <td>16500.0</td>\n",
       "    </tr>\n",
       "  </tbody>\n",
       "</table>\n",
       "</div>"
      ],
      "text/plain": [
       "      user_id  hero_id        id  num_games  num_wins  kda_ratio\n",
       "1219     1734      114  1734_114          3         3    16500.0"
      ]
     },
     "execution_count": 635,
     "metadata": {},
     "output_type": "execute_result"
    }
   ],
   "source": [
    "train1[train1.kda_ratio>15000]"
   ]
  },
  {
   "cell_type": "code",
   "execution_count": 460,
   "metadata": {
    "collapsed": true
   },
   "outputs": [],
   "source": [
    "train1_outl=train1[((train1.kda_ratio<1500)|(train1.kda_ratio>6000)) & (train1.num_games<3)\n",
    "                   |((train1.kda_ratio>12000)& (train1.num_games<6))|((train1.kda_ratio<500)& (train1.num_games<6))]"
   ]
  },
  {
   "cell_type": "code",
   "execution_count": 391,
   "metadata": {
    "collapsed": true
   },
   "outputs": [],
   "source": [
    "tst1_ind=train1_outl.index"
   ]
  },
  {
   "cell_type": "code",
   "execution_count": 461,
   "metadata": {
    "collapsed": true
   },
   "outputs": [],
   "source": [
    "\n",
    "\n",
    "train1_pure=train1.drop(train1.index[tst1_ind])"
   ]
  },
  {
   "cell_type": "code",
   "execution_count": 394,
   "metadata": {},
   "outputs": [
    {
     "data": {
      "text/plain": [
       "(2093, 6)"
      ]
     },
     "execution_count": 394,
     "metadata": {},
     "output_type": "execute_result"
    }
   ],
   "source": [
    "train1_pure.shape"
   ]
  },
  {
   "cell_type": "code",
   "execution_count": 353,
   "metadata": {},
   "outputs": [
    {
     "data": {
      "text/plain": [
       "3549.577823043458"
      ]
     },
     "execution_count": 353,
     "metadata": {},
     "output_type": "execute_result"
    }
   ],
   "source": [
    "train1.kda_ratio.mean()"
   ]
  },
  {
   "cell_type": "code",
   "execution_count": 395,
   "metadata": {},
   "outputs": [
    {
     "data": {
      "text/html": [
       "<div>\n",
       "<style>\n",
       "    .dataframe thead tr:only-child th {\n",
       "        text-align: right;\n",
       "    }\n",
       "\n",
       "    .dataframe thead th {\n",
       "        text-align: left;\n",
       "    }\n",
       "\n",
       "    .dataframe tbody tr th {\n",
       "        vertical-align: top;\n",
       "    }\n",
       "</style>\n",
       "<table border=\"1\" class=\"dataframe\">\n",
       "  <thead>\n",
       "    <tr style=\"text-align: right;\">\n",
       "      <th></th>\n",
       "      <th>user_id</th>\n",
       "      <th>hero_id</th>\n",
       "      <th>id</th>\n",
       "      <th>num_games</th>\n",
       "      <th>num_wins</th>\n",
       "      <th>kda_ratio</th>\n",
       "    </tr>\n",
       "  </thead>\n",
       "  <tbody>\n",
       "    <tr>\n",
       "      <th>1219</th>\n",
       "      <td>1734</td>\n",
       "      <td>114</td>\n",
       "      <td>1734_114</td>\n",
       "      <td>3</td>\n",
       "      <td>3</td>\n",
       "      <td>16500.0</td>\n",
       "    </tr>\n",
       "  </tbody>\n",
       "</table>\n",
       "</div>"
      ],
      "text/plain": [
       "      user_id  hero_id        id  num_games  num_wins  kda_ratio\n",
       "1219     1734      114  1734_114          3         3    16500.0"
      ]
     },
     "execution_count": 395,
     "metadata": {},
     "output_type": "execute_result"
    }
   ],
   "source": [
    "train1[train1.index==1219]"
   ]
  },
  {
   "cell_type": "code",
   "execution_count": 301,
   "metadata": {},
   "outputs": [
    {
     "data": {
      "text/html": [
       "<div>\n",
       "<style>\n",
       "    .dataframe thead tr:only-child th {\n",
       "        text-align: right;\n",
       "    }\n",
       "\n",
       "    .dataframe thead th {\n",
       "        text-align: left;\n",
       "    }\n",
       "\n",
       "    .dataframe tbody tr th {\n",
       "        vertical-align: top;\n",
       "    }\n",
       "</style>\n",
       "<table border=\"1\" class=\"dataframe\">\n",
       "  <thead>\n",
       "    <tr style=\"text-align: right;\">\n",
       "      <th></th>\n",
       "      <th>user_id</th>\n",
       "      <th>hero_id</th>\n",
       "      <th>id</th>\n",
       "      <th>num_games</th>\n",
       "      <th>num_wins</th>\n",
       "      <th>kda_ratio</th>\n",
       "    </tr>\n",
       "  </thead>\n",
       "  <tbody>\n",
       "    <tr>\n",
       "      <th>1219</th>\n",
       "      <td>1734</td>\n",
       "      <td>114</td>\n",
       "      <td>1734_114</td>\n",
       "      <td>3</td>\n",
       "      <td>3</td>\n",
       "      <td>16500.0</td>\n",
       "    </tr>\n",
       "  </tbody>\n",
       "</table>\n",
       "</div>"
      ],
      "text/plain": [
       "      user_id  hero_id        id  num_games  num_wins  kda_ratio\n",
       "1219     1734      114  1734_114          3         3    16500.0"
      ]
     },
     "execution_count": 301,
     "metadata": {},
     "output_type": "execute_result"
    }
   ],
   "source": [
    "train1[train1['kda_ratio']>=16500]#['kda_ratio']"
   ]
  },
  {
   "cell_type": "code",
   "execution_count": 307,
   "metadata": {},
   "outputs": [
    {
     "data": {
      "text/html": [
       "<div>\n",
       "<style>\n",
       "    .dataframe thead tr:only-child th {\n",
       "        text-align: right;\n",
       "    }\n",
       "\n",
       "    .dataframe thead th {\n",
       "        text-align: left;\n",
       "    }\n",
       "\n",
       "    .dataframe tbody tr th {\n",
       "        vertical-align: top;\n",
       "    }\n",
       "</style>\n",
       "<table border=\"1\" class=\"dataframe\">\n",
       "  <thead>\n",
       "    <tr style=\"text-align: right;\">\n",
       "      <th></th>\n",
       "      <th>user_id</th>\n",
       "      <th>hero_id</th>\n",
       "      <th>id</th>\n",
       "      <th>num_games</th>\n",
       "      <th>num_wins</th>\n",
       "      <th>kda_ratio</th>\n",
       "    </tr>\n",
       "  </thead>\n",
       "  <tbody>\n",
       "    <tr>\n",
       "      <th>1219</th>\n",
       "      <td>1734.0</td>\n",
       "      <td>114.0</td>\n",
       "      <td>1734_114</td>\n",
       "      <td>3.0</td>\n",
       "      <td>3.0</td>\n",
       "      <td>16500.0</td>\n",
       "    </tr>\n",
       "  </tbody>\n",
       "</table>\n",
       "</div>"
      ],
      "text/plain": [
       "      user_id  hero_id        id  num_games  num_wins  kda_ratio\n",
       "1219   1734.0    114.0  1734_114        3.0       3.0    16500.0"
      ]
     },
     "execution_count": 307,
     "metadata": {},
     "output_type": "execute_result"
    }
   ],
   "source": [
    "train1[train1['kda_ratio']>15000.0]"
   ]
  },
  {
   "cell_type": "code",
   "execution_count": 58,
   "metadata": {},
   "outputs": [
    {
     "data": {
      "text/plain": [
       "(9, 6)"
      ]
     },
     "execution_count": 58,
     "metadata": {},
     "output_type": "execute_result"
    }
   ],
   "source": [
    "test9_out.shape"
   ]
  },
  {
   "cell_type": "code",
   "execution_count": 396,
   "metadata": {
    "collapsed": true
   },
   "outputs": [],
   "source": [
    "test9_outl=test9[((test9.kda_ratio<1500)|(test9.kda_ratio>6000)) & (test9.num_games<3)\n",
    "                   |((test9.kda_ratio>12000)& (test9.num_games<6))|((test9.kda_ratio<500)& (test9.num_games<6))]"
   ]
  },
  {
   "cell_type": "code",
   "execution_count": 470,
   "metadata": {
    "collapsed": true
   },
   "outputs": [],
   "source": [
    "test9_outl=test9[((test9.kda_ratio<150)|(test9.kda_ratio>12000)) & (test9.num_games<2)]"
   ]
  },
  {
   "cell_type": "code",
   "execution_count": 476,
   "metadata": {},
   "outputs": [
    {
     "data": {
      "text/html": [
       "<div>\n",
       "<style>\n",
       "    .dataframe thead tr:only-child th {\n",
       "        text-align: right;\n",
       "    }\n",
       "\n",
       "    .dataframe thead th {\n",
       "        text-align: left;\n",
       "    }\n",
       "\n",
       "    .dataframe tbody tr th {\n",
       "        vertical-align: top;\n",
       "    }\n",
       "</style>\n",
       "<table border=\"1\" class=\"dataframe\">\n",
       "  <thead>\n",
       "    <tr style=\"text-align: right;\">\n",
       "      <th></th>\n",
       "      <th>user_id</th>\n",
       "      <th>hero_id</th>\n",
       "      <th>id</th>\n",
       "      <th>num_games</th>\n",
       "      <th>num_wins</th>\n",
       "      <th>kda_ratio</th>\n",
       "    </tr>\n",
       "  </thead>\n",
       "  <tbody>\n",
       "    <tr>\n",
       "      <th>1400</th>\n",
       "      <td>486</td>\n",
       "      <td>1</td>\n",
       "      <td>486_1</td>\n",
       "      <td>1</td>\n",
       "      <td>0</td>\n",
       "      <td>142.857143</td>\n",
       "    </tr>\n",
       "  </tbody>\n",
       "</table>\n",
       "</div>"
      ],
      "text/plain": [
       "      user_id  hero_id     id  num_games  num_wins   kda_ratio\n",
       "1400      486        1  486_1          1         0  142.857143"
      ]
     },
     "execution_count": 476,
     "metadata": {},
     "output_type": "execute_result"
    }
   ],
   "source": [
    "test9_outl"
   ]
  },
  {
   "cell_type": "code",
   "execution_count": 466,
   "metadata": {},
   "outputs": [
    {
     "data": {
      "text/html": [
       "<div>\n",
       "<style>\n",
       "    .dataframe thead tr:only-child th {\n",
       "        text-align: right;\n",
       "    }\n",
       "\n",
       "    .dataframe thead th {\n",
       "        text-align: left;\n",
       "    }\n",
       "\n",
       "    .dataframe tbody tr th {\n",
       "        vertical-align: top;\n",
       "    }\n",
       "</style>\n",
       "<table border=\"1\" class=\"dataframe\">\n",
       "  <thead>\n",
       "    <tr style=\"text-align: right;\">\n",
       "      <th></th>\n",
       "      <th>user_id</th>\n",
       "      <th>hero_id</th>\n",
       "      <th>id</th>\n",
       "      <th>num_games</th>\n",
       "      <th>num_wins</th>\n",
       "      <th>kda_ratio</th>\n",
       "    </tr>\n",
       "  </thead>\n",
       "  <tbody>\n",
       "    <tr>\n",
       "      <th>1400</th>\n",
       "      <td>486</td>\n",
       "      <td>1</td>\n",
       "      <td>486_1</td>\n",
       "      <td>1</td>\n",
       "      <td>0</td>\n",
       "      <td>142.857143</td>\n",
       "    </tr>\n",
       "  </tbody>\n",
       "</table>\n",
       "</div>"
      ],
      "text/plain": [
       "      user_id  hero_id     id  num_games  num_wins   kda_ratio\n",
       "1400      486        1  486_1          1         0  142.857143"
      ]
     },
     "execution_count": 466,
     "metadata": {},
     "output_type": "execute_result"
    }
   ],
   "source": [
    "test9_outl"
   ]
  },
  {
   "cell_type": "code",
   "execution_count": 483,
   "metadata": {},
   "outputs": [
    {
     "data": {
      "text/plain": [
       "(8082, 6)"
      ]
     },
     "execution_count": 483,
     "metadata": {},
     "output_type": "execute_result"
    }
   ],
   "source": [
    "test9_pure.shape"
   ]
  },
  {
   "cell_type": "code",
   "execution_count": 481,
   "metadata": {
    "collapsed": true
   },
   "outputs": [],
   "source": [
    "test9_pure=test9"
   ]
  },
  {
   "cell_type": "code",
   "execution_count": 482,
   "metadata": {},
   "outputs": [
    {
     "data": {
      "text/plain": [
       "(8082, 6)"
      ]
     },
     "execution_count": 482,
     "metadata": {},
     "output_type": "execute_result"
    }
   ],
   "source": [
    "test9.shape"
   ]
  },
  {
   "cell_type": "code",
   "execution_count": 473,
   "metadata": {},
   "outputs": [
    {
     "data": {
      "text/plain": [
       "[<matplotlib.lines.Line2D at 0x104becc0>]"
      ]
     },
     "execution_count": 473,
     "metadata": {},
     "output_type": "execute_result"
    },
    {
     "data": {
      "image/png": "[encoded data removed]",
      "text/plain": [
       "<matplotlib.figure.Figure at 0xff68a58>"
      ]
     },
     "metadata": {},
     "output_type": "display_data"
    }
   ],
   "source": [
    "plt.plot(train9_pure.kda_ratio)"
   ]
  },
  {
   "cell_type": "code",
   "execution_count": 474,
   "metadata": {},
   "outputs": [
    {
     "data": {
      "text/plain": [
       "[<matplotlib.lines.Line2D at 0x19da6978>]"
      ]
     },
     "execution_count": 474,
     "metadata": {},
     "output_type": "execute_result"
    },
    {
     "data": {
      "image/png": "[encoded data removed]",
      "text/plain": [
       "<matplotlib.figure.Figure at 0x19a79588>"
      ]
     },
     "metadata": {},
     "output_type": "display_data"
    }
   ],
   "source": [
    "plt.plot(train1_pure.kda_ratio)"
   ]
  },
  {
   "cell_type": "code",
   "execution_count": 122,
   "metadata": {},
   "outputs": [
    {
     "data": {
      "text/plain": [
       "[<matplotlib.lines.Line2D at 0xfed8630>]"
      ]
     },
     "execution_count": 122,
     "metadata": {},
     "output_type": "execute_result"
    },
    {
     "data": {
      "image/png": "[encoded data removed]",
      "text/plain": [
       "<matplotlib.figure.Figure at 0xfdd52b0>"
      ]
     },
     "metadata": {},
     "output_type": "display_data"
    }
   ],
   "source": [
    "plt.plot(test9_pure.kda_ratio)"
   ]
  },
  {
   "cell_type": "code",
   "execution_count": 5,
   "metadata": {},
   "outputs": [],
   "source": [
    "#group by user id \n",
    "TrAvg_Kda=train9.groupby(['user_id'])['user_id','kda_ratio','num_wins','num_games'].mean()\n",
    "TestAvg_Kda=test9.groupby(['user_id'])['user_id','kda_ratio','num_wins','num_games'].mean()\n",
    "#Group by hero id \n",
    "AvgKdaHTst_id=test9.groupby(['hero_id'])['hero_id','kda_ratio','num_wins','num_games'].mean()\n",
    "AKdaHTrn_id=train9.groupby(['hero_id'])['hero_id','kda_ratio','num_wins','num_games'].mean()\n"
   ]
  },
  {
   "cell_type": "code",
   "execution_count": 486,
   "metadata": {},
   "outputs": [
    {
     "data": {
      "text/plain": [
       "0"
      ]
     },
     "execution_count": 486,
     "metadata": {},
     "output_type": "execute_result"
    }
   ],
   "source": [
    "np.count_nonzero(pd.isnull(TrAvg_Kda))"
   ]
  },
  {
   "cell_type": "code",
   "execution_count": 487,
   "metadata": {},
   "outputs": [
    {
     "data": {
      "text/plain": [
       "0"
      ]
     },
     "execution_count": 487,
     "metadata": {},
     "output_type": "execute_result"
    }
   ],
   "source": [
    "np.count_nonzero(pd.isnull(TestAvg_Kda))"
   ]
  },
  {
   "cell_type": "code",
   "execution_count": 6,
   "metadata": {
    "collapsed": true
   },
   "outputs": [],
   "source": [
    "#Derrived varraible \n",
    "AvgKdaHTst_id['WinRat']=AvgKdaHTst_id.num_wins/AvgKdaHTst_id.num_games\n",
    "AKdaHTrn_id['WinRat']=AKdaHTrn_id.num_wins/AKdaHTrn_id.num_games\n",
    "\n",
    "TrAvg_Kda['WinR']=TrAvg_Kda.num_wins/TrAvg_Kda.num_games\n",
    "TestAvg_Kda['WinR']=TestAvg_Kda.num_wins/TestAvg_Kda.num_games"
   ]
  },
  {
   "cell_type": "code",
   "execution_count": 7,
   "metadata": {
    "collapsed": true
   },
   "outputs": [],
   "source": [
    "#Renaming required variables \n",
    "TestAvg_Kda.columns=['user_id', 'kda_ratio_Avg', 'num_wins_Avg', 'num_games_Avg', 'WinR']\n",
    "TrAvg_Kda.columns=['user_id', 'kda_ratio_Avg', 'num_wins_Avg', 'num_games_Avg', 'WinRat']\n",
    "\n",
    "AvgKdaHTst_id.columns=['h_id', 'h_kda_ratio_A', 'h_num_wins_A', 'h_num_games_A', 'h_WinRat']\n",
    "AKdaHTrn_id.columns=['h_id', 'h_kda_ratio_A', 'h_num_wins_A', 'h_num_games_A', 'h_WinRat']"
   ]
  },
  {
   "cell_type": "code",
   "execution_count": 404,
   "metadata": {},
   "outputs": [
    {
     "data": {
      "text/plain": [
       "(898, 7)"
      ]
     },
     "execution_count": 404,
     "metadata": {},
     "output_type": "execute_result"
    }
   ],
   "source": [
    "FinalTest.shape"
   ]
  },
  {
   "cell_type": "code",
   "execution_count": 190,
   "metadata": {},
   "outputs": [
    {
     "data": {
      "text/plain": [
       "(2094, 9)"
      ]
     },
     "execution_count": 190,
     "metadata": {},
     "output_type": "execute_result"
    }
   ],
   "source": [
    "FinalTrain.shape"
   ]
  },
  {
   "cell_type": "code",
   "execution_count": 191,
   "metadata": {},
   "outputs": [
    {
     "data": {
      "text/plain": [
       "(115, 26)"
      ]
     },
     "execution_count": 191,
     "metadata": {},
     "output_type": "execute_result"
    }
   ],
   "source": [
    "FinHero_Tst.shape"
   ]
  },
  {
   "cell_type": "code",
   "execution_count": 490,
   "metadata": {},
   "outputs": [
    {
     "data": {
      "text/plain": [
       "0"
      ]
     },
     "execution_count": 490,
     "metadata": {},
     "output_type": "execute_result"
    }
   ],
   "source": [
    "np.count_nonzero(pd.isnull(FinHero_Tst))"
   ]
  },
  {
   "cell_type": "code",
   "execution_count": 192,
   "metadata": {},
   "outputs": [
    {
     "data": {
      "text/plain": [
       "(115, 26)"
      ]
     },
     "execution_count": 192,
     "metadata": {},
     "output_type": "execute_result"
    }
   ],
   "source": [
    "FinHero_Trn.shape"
   ]
  },
  {
   "cell_type": "code",
   "execution_count": 491,
   "metadata": {},
   "outputs": [
    {
     "data": {
      "text/plain": [
       "0"
      ]
     },
     "execution_count": 491,
     "metadata": {},
     "output_type": "execute_result"
    }
   ],
   "source": [
    "np.count_nonzero(pd.isnull(train1_pure))"
   ]
  },
  {
   "cell_type": "code",
   "execution_count": null,
   "metadata": {
    "collapsed": true
   },
   "outputs": [],
   "source": []
  },
  {
   "cell_type": "code",
   "execution_count": 9,
   "metadata": {},
   "outputs": [],
   "source": [
    "#Merging datasets hero Id with user id \n",
    "FinalTest=test1.set_index('user_id').join(TestAvg_Kda.set_index('user_id'))\n",
    "FinalTrain=train1.set_index('user_id').join(TrAvg_Kda.set_index('user_id'))\n",
    "\n",
    "FinHero_Tst=tr_hero.set_index('hero_id').join(AvgKdaHTst_id.set_index('h_id'))\n",
    "FinHero_Trn=tr_hero.set_index('hero_id').join(AKdaHTrn_id.set_index('h_id'))"
   ]
  },
  {
   "cell_type": "code",
   "execution_count": 614,
   "metadata": {
    "collapsed": true
   },
   "outputs": [],
   "source": [
    "#Wit Dummy Roles \n",
    "#HeroDd\n",
    "\n",
    "FinHero_TstUp=HeroDd.set_index('hero_id').join(AvgKdaHTst_id.set_index('h_id'))\n",
    "FinHero_TrnUp=HeroDd.set_index('hero_id').join(AKdaHTrn_id.set_index('h_id'))"
   ]
  },
  {
   "cell_type": "code",
   "execution_count": 493,
   "metadata": {},
   "outputs": [
    {
     "data": {
      "text/plain": [
       "(2093, 9)"
      ]
     },
     "execution_count": 493,
     "metadata": {},
     "output_type": "execute_result"
    }
   ],
   "source": [
    "FinalTrain.shape"
   ]
  },
  {
   "cell_type": "code",
   "execution_count": 494,
   "metadata": {},
   "outputs": [
    {
     "data": {
      "text/plain": [
       "0"
      ]
     },
     "execution_count": 494,
     "metadata": {},
     "output_type": "execute_result"
    }
   ],
   "source": [
    "np.count_nonzero(pd.isnull(FinalTrain))"
   ]
  },
  {
   "cell_type": "code",
   "execution_count": 203,
   "metadata": {},
   "outputs": [
    {
     "data": {
      "text/plain": [
       "(2094, 6)"
      ]
     },
     "execution_count": 203,
     "metadata": {},
     "output_type": "execute_result"
    }
   ],
   "source": [
    "train1.shape"
   ]
  },
  {
   "cell_type": "code",
   "execution_count": 10,
   "metadata": {
    "collapsed": true
   },
   "outputs": [],
   "source": [
    "#Preparing finl train and test data\n",
    "test_data=FinalTest.merge(FinHero_Tst,how='left', left_on='hero_id', right_index=True)\n",
    "train_data=FinalTrain.merge(FinHero_Trn,how='left', left_on='hero_id', right_index=True)\n"
   ]
  },
  {
   "cell_type": "code",
   "execution_count": 16,
   "metadata": {},
   "outputs": [],
   "source": [
    "#Preparing finl train and test data\n",
    "test_data=pd.merge(FinalTest,FinHero_Tst,how='left', left_on='hero_id', right_index=True)\n",
    "train_data=pd.merge(FinalTrain,FinHero_Trn,how='left', left_on='hero_id', right_index=True)"
   ]
  },
  {
   "cell_type": "code",
   "execution_count": 17,
   "metadata": {},
   "outputs": [
    {
     "data": {
      "text/plain": [
       "(2094, 35)"
      ]
     },
     "execution_count": 17,
     "metadata": {},
     "output_type": "execute_result"
    }
   ],
   "source": [
    "train_data.shape"
   ]
  },
  {
   "cell_type": "code",
   "execution_count": 18,
   "metadata": {},
   "outputs": [
    {
     "data": {
      "text/html": [
       "<div>\n",
       "<style>\n",
       "    .dataframe thead tr:only-child th {\n",
       "        text-align: right;\n",
       "    }\n",
       "\n",
       "    .dataframe thead th {\n",
       "        text-align: left;\n",
       "    }\n",
       "\n",
       "    .dataframe tbody tr th {\n",
       "        vertical-align: top;\n",
       "    }\n",
       "</style>\n",
       "<table border=\"1\" class=\"dataframe\">\n",
       "  <thead>\n",
       "    <tr style=\"text-align: right;\">\n",
       "      <th></th>\n",
       "      <th>hero_id</th>\n",
       "      <th>id</th>\n",
       "      <th>num_games</th>\n",
       "      <th>num_wins</th>\n",
       "      <th>kda_ratio</th>\n",
       "      <th>kda_ratio_Avg</th>\n",
       "      <th>num_wins_Avg</th>\n",
       "      <th>num_games_Avg</th>\n",
       "      <th>WinRat</th>\n",
       "      <th>primary_attr</th>\n",
       "      <th>...</th>\n",
       "      <th>intelligence_gain</th>\n",
       "      <th>attack_range</th>\n",
       "      <th>projectile_speed</th>\n",
       "      <th>attack_rate</th>\n",
       "      <th>move_speed</th>\n",
       "      <th>turn_rate</th>\n",
       "      <th>h_kda_ratio_A</th>\n",
       "      <th>h_num_wins_A</th>\n",
       "      <th>h_num_games_A</th>\n",
       "      <th>h_WinRat</th>\n",
       "    </tr>\n",
       "    <tr>\n",
       "      <th>user_id</th>\n",
       "      <th></th>\n",
       "      <th></th>\n",
       "      <th></th>\n",
       "      <th></th>\n",
       "      <th></th>\n",
       "      <th></th>\n",
       "      <th></th>\n",
       "      <th></th>\n",
       "      <th></th>\n",
       "      <th></th>\n",
       "      <th></th>\n",
       "      <th></th>\n",
       "      <th></th>\n",
       "      <th></th>\n",
       "      <th></th>\n",
       "      <th></th>\n",
       "      <th></th>\n",
       "      <th></th>\n",
       "      <th></th>\n",
       "      <th></th>\n",
       "      <th></th>\n",
       "    </tr>\n",
       "  </thead>\n",
       "  <tbody>\n",
       "    <tr>\n",
       "      <th>1</th>\n",
       "      <td>41</td>\n",
       "      <td>1_41</td>\n",
       "      <td>201</td>\n",
       "      <td>125</td>\n",
       "      <td>3731.707317</td>\n",
       "      <td>3857.506249</td>\n",
       "      <td>110.222222</td>\n",
       "      <td>177.000000</td>\n",
       "      <td>0.622724</td>\n",
       "      <td>agi</td>\n",
       "      <td>...</td>\n",
       "      <td>1.5</td>\n",
       "      <td>150</td>\n",
       "      <td>900</td>\n",
       "      <td>1.7</td>\n",
       "      <td>295</td>\n",
       "      <td>1.0</td>\n",
       "      <td>3889.420457</td>\n",
       "      <td>76.985663</td>\n",
       "      <td>135.340502</td>\n",
       "      <td>0.568829</td>\n",
       "    </tr>\n",
       "    <tr>\n",
       "      <th>2</th>\n",
       "      <td>17</td>\n",
       "      <td>2_17</td>\n",
       "      <td>427</td>\n",
       "      <td>234</td>\n",
       "      <td>2922.058381</td>\n",
       "      <td>2857.903926</td>\n",
       "      <td>183.111111</td>\n",
       "      <td>339.333333</td>\n",
       "      <td>0.539620</td>\n",
       "      <td>int</td>\n",
       "      <td>...</td>\n",
       "      <td>3.0</td>\n",
       "      <td>480</td>\n",
       "      <td>1100</td>\n",
       "      <td>1.7</td>\n",
       "      <td>285</td>\n",
       "      <td>0.8</td>\n",
       "      <td>3964.276777</td>\n",
       "      <td>119.347942</td>\n",
       "      <td>201.779548</td>\n",
       "      <td>0.591477</td>\n",
       "    </tr>\n",
       "    <tr>\n",
       "      <th>5</th>\n",
       "      <td>106</td>\n",
       "      <td>5_106</td>\n",
       "      <td>240</td>\n",
       "      <td>130</td>\n",
       "      <td>5116.682739</td>\n",
       "      <td>4194.043231</td>\n",
       "      <td>128.111111</td>\n",
       "      <td>219.888889</td>\n",
       "      <td>0.582617</td>\n",
       "      <td>agi</td>\n",
       "      <td>...</td>\n",
       "      <td>1.8</td>\n",
       "      <td>150</td>\n",
       "      <td>900</td>\n",
       "      <td>1.7</td>\n",
       "      <td>305</td>\n",
       "      <td>0.5</td>\n",
       "      <td>4678.101919</td>\n",
       "      <td>98.100917</td>\n",
       "      <td>168.897248</td>\n",
       "      <td>0.580832</td>\n",
       "    </tr>\n",
       "    <tr>\n",
       "      <th>6</th>\n",
       "      <td>65</td>\n",
       "      <td>6_65</td>\n",
       "      <td>206</td>\n",
       "      <td>122</td>\n",
       "      <td>4131.553861</td>\n",
       "      <td>3886.190698</td>\n",
       "      <td>125.333333</td>\n",
       "      <td>221.555556</td>\n",
       "      <td>0.565697</td>\n",
       "      <td>int</td>\n",
       "      <td>...</td>\n",
       "      <td>2.5</td>\n",
       "      <td>375</td>\n",
       "      <td>900</td>\n",
       "      <td>1.7</td>\n",
       "      <td>290</td>\n",
       "      <td>1.0</td>\n",
       "      <td>3747.512801</td>\n",
       "      <td>99.785124</td>\n",
       "      <td>177.727273</td>\n",
       "      <td>0.561451</td>\n",
       "    </tr>\n",
       "    <tr>\n",
       "      <th>7</th>\n",
       "      <td>69</td>\n",
       "      <td>7_69</td>\n",
       "      <td>697</td>\n",
       "      <td>382</td>\n",
       "      <td>2474.469306</td>\n",
       "      <td>2989.278882</td>\n",
       "      <td>353.666667</td>\n",
       "      <td>649.444444</td>\n",
       "      <td>0.544568</td>\n",
       "      <td>str</td>\n",
       "      <td>...</td>\n",
       "      <td>2.1</td>\n",
       "      <td>150</td>\n",
       "      <td>900</td>\n",
       "      <td>2.0</td>\n",
       "      <td>290</td>\n",
       "      <td>0.5</td>\n",
       "      <td>3091.711347</td>\n",
       "      <td>83.211111</td>\n",
       "      <td>149.383333</td>\n",
       "      <td>0.557031</td>\n",
       "    </tr>\n",
       "  </tbody>\n",
       "</table>\n",
       "<p>5 rows × 35 columns</p>\n",
       "</div>"
      ],
      "text/plain": [
       "        hero_id     id  num_games  num_wins    kda_ratio  kda_ratio_Avg  \\\n",
       "user_id                                                                   \n",
       "1            41   1_41        201       125  3731.707317    3857.506249   \n",
       "2            17   2_17        427       234  2922.058381    2857.903926   \n",
       "5           106  5_106        240       130  5116.682739    4194.043231   \n",
       "6            65   6_65        206       122  4131.553861    3886.190698   \n",
       "7            69   7_69        697       382  2474.469306    2989.278882   \n",
       "\n",
       "         num_wins_Avg  num_games_Avg    WinRat primary_attr    ...     \\\n",
       "user_id                                                        ...      \n",
       "1          110.222222     177.000000  0.622724          agi    ...      \n",
       "2          183.111111     339.333333  0.539620          int    ...      \n",
       "5          128.111111     219.888889  0.582617          agi    ...      \n",
       "6          125.333333     221.555556  0.565697          int    ...      \n",
       "7          353.666667     649.444444  0.544568          str    ...      \n",
       "\n",
       "        intelligence_gain attack_range  projectile_speed  attack_rate  \\\n",
       "user_id                                                                 \n",
       "1                     1.5          150               900          1.7   \n",
       "2                     3.0          480              1100          1.7   \n",
       "5                     1.8          150               900          1.7   \n",
       "6                     2.5          375               900          1.7   \n",
       "7                     2.1          150               900          2.0   \n",
       "\n",
       "         move_speed  turn_rate  h_kda_ratio_A  h_num_wins_A  h_num_games_A  \\\n",
       "user_id                                                                      \n",
       "1               295        1.0    3889.420457     76.985663     135.340502   \n",
       "2               285        0.8    3964.276777    119.347942     201.779548   \n",
       "5               305        0.5    4678.101919     98.100917     168.897248   \n",
       "6               290        1.0    3747.512801     99.785124     177.727273   \n",
       "7               290        0.5    3091.711347     83.211111     149.383333   \n",
       "\n",
       "         h_WinRat  \n",
       "user_id            \n",
       "1        0.568829  \n",
       "2        0.591477  \n",
       "5        0.580832  \n",
       "6        0.561451  \n",
       "7        0.557031  \n",
       "\n",
       "[5 rows x 35 columns]"
      ]
     },
     "execution_count": 18,
     "metadata": {},
     "output_type": "execute_result"
    }
   ],
   "source": [
    "train_data.head()"
   ]
  },
  {
   "cell_type": "code",
   "execution_count": 615,
   "metadata": {
    "collapsed": true
   },
   "outputs": [],
   "source": [
    "\n",
    "#----->With Role\n",
    "#Preparing finl train and test data\n",
    "test_dataUp=FinalTest.merge(FinHero_TstUp,how='left', left_on='hero_id', right_index=True)\n",
    "train_dataUp=FinalTrain.merge(FinHero_TrnUp,how='left', left_on='hero_id', right_index=True)"
   ]
  },
  {
   "cell_type": "code",
   "execution_count": 617,
   "metadata": {},
   "outputs": [
    {
     "data": {
      "text/plain": [
       "(898, 120)"
      ]
     },
     "execution_count": 617,
     "metadata": {},
     "output_type": "execute_result"
    }
   ],
   "source": [
    "test_dataUp.shape"
   ]
  },
  {
   "cell_type": "code",
   "execution_count": 618,
   "metadata": {},
   "outputs": [
    {
     "data": {
      "text/plain": [
       "(2093, 122)"
      ]
     },
     "execution_count": 618,
     "metadata": {},
     "output_type": "execute_result"
    }
   ],
   "source": [
    "train_dataUp.num_games    "
   ]
  },
  {
   "cell_type": "code",
   "execution_count": null,
   "metadata": {
    "collapsed": true
   },
   "outputs": [],
   "source": [
    "btst=WavTest.drop(['EMI'],axis=1,inplace = True)"
   ]
  },
  {
   "cell_type": "code",
   "execution_count": 621,
   "metadata": {
    "collapsed": true
   },
   "outputs": [],
   "source": [
    "train_daUpd=train_dataUp.drop(['kda_ratio'],axis=1)"
   ]
  },
  {
   "cell_type": "code",
   "execution_count": 624,
   "metadata": {
    "collapsed": true
   },
   "outputs": [],
   "source": [
    "train_daUpd.drop(['num_games'],axis=1,inplace=True)"
   ]
  },
  {
   "cell_type": "code",
   "execution_count": 629,
   "metadata": {},
   "outputs": [
    {
     "data": {
      "text/plain": [
       "(2093, 120)"
      ]
     },
     "execution_count": 629,
     "metadata": {},
     "output_type": "execute_result"
    }
   ],
   "source": [
    "train_daUpd.shape"
   ]
  },
  {
   "cell_type": "code",
   "execution_count": 632,
   "metadata": {},
   "outputs": [
    {
     "ename": "AttributeError",
     "evalue": "'DataFrame' object has no attribute 'kda_ratio'",
     "output_type": "error",
     "traceback": [
      "\u001b[1;31m---------------------------------------------------------------------------\u001b[0m",
      "\u001b[1;31mAttributeError\u001b[0m                            Traceback (most recent call last)",
      "\u001b[1;32m<ipython-input-632-0a229c16e106>\u001b[0m in \u001b[0;36m<module>\u001b[1;34m()\u001b[0m\n\u001b[1;32m----> 1\u001b[1;33m \u001b[0mplt\u001b[0m\u001b[1;33m.\u001b[0m\u001b[0mplot\u001b[0m\u001b[1;33m(\u001b[0m\u001b[0mtrain_daUpd\u001b[0m\u001b[1;33m.\u001b[0m\u001b[0mkda_ratio\u001b[0m\u001b[1;33m,\u001b[0m\u001b[0mnp\u001b[0m\u001b[1;33m.\u001b[0m\u001b[0msqrt\u001b[0m\u001b[1;33m(\u001b[0m\u001b[0mtrain_data1\u001b[0m\u001b[1;33m.\u001b[0m\u001b[0mkda_ratio_Avg\u001b[0m\u001b[1;33m)\u001b[0m\u001b[1;33m)\u001b[0m\u001b[1;33m\u001b[0m\u001b[0m\n\u001b[0m",
      "\u001b[1;32mC:\\Users\\Mahavir\\Anaconda3\\lib\\site-packages\\pandas\\core\\generic.py\u001b[0m in \u001b[0;36m__getattr__\u001b[1;34m(self, name)\u001b[0m\n\u001b[0;32m   2968\u001b[0m             \u001b[1;32mif\u001b[0m \u001b[0mname\u001b[0m \u001b[1;32min\u001b[0m \u001b[0mself\u001b[0m\u001b[1;33m.\u001b[0m\u001b[0m_info_axis\u001b[0m\u001b[1;33m:\u001b[0m\u001b[1;33m\u001b[0m\u001b[0m\n\u001b[0;32m   2969\u001b[0m                 \u001b[1;32mreturn\u001b[0m \u001b[0mself\u001b[0m\u001b[1;33m[\u001b[0m\u001b[0mname\u001b[0m\u001b[1;33m]\u001b[0m\u001b[1;33m\u001b[0m\u001b[0m\n\u001b[1;32m-> 2970\u001b[1;33m             \u001b[1;32mreturn\u001b[0m \u001b[0mobject\u001b[0m\u001b[1;33m.\u001b[0m\u001b[0m__getattribute__\u001b[0m\u001b[1;33m(\u001b[0m\u001b[0mself\u001b[0m\u001b[1;33m,\u001b[0m \u001b[0mname\u001b[0m\u001b[1;33m)\u001b[0m\u001b[1;33m\u001b[0m\u001b[0m\n\u001b[0m\u001b[0;32m   2971\u001b[0m \u001b[1;33m\u001b[0m\u001b[0m\n\u001b[0;32m   2972\u001b[0m     \u001b[1;32mdef\u001b[0m \u001b[0m__setattr__\u001b[0m\u001b[1;33m(\u001b[0m\u001b[0mself\u001b[0m\u001b[1;33m,\u001b[0m \u001b[0mname\u001b[0m\u001b[1;33m,\u001b[0m \u001b[0mvalue\u001b[0m\u001b[1;33m)\u001b[0m\u001b[1;33m:\u001b[0m\u001b[1;33m\u001b[0m\u001b[0m\n",
      "\u001b[1;31mAttributeError\u001b[0m: 'DataFrame' object has no attribute 'kda_ratio'"
     ]
    }
   ],
   "source": [
    "plt.plot(train_daUpd.kda_ratio,np.sqrt(train_data1.kda_ratio_Avg))"
   ]
  },
  {
   "cell_type": "code",
   "execution_count": 19,
   "metadata": {},
   "outputs": [
    {
     "data": {
      "text/plain": [
       "array([[1.       , 0.8101775],\n",
       "       [0.8101775, 1.       ]])"
      ]
     },
     "execution_count": 19,
     "metadata": {},
     "output_type": "execute_result"
    }
   ],
   "source": [
    "np.corrcoef(train_data.kda_ratio,train_data.kda_ratio_Avg*train_data.h_kda_ratio_A)"
   ]
  },
  {
   "cell_type": "code",
   "execution_count": 148,
   "metadata": {},
   "outputs": [
    {
     "data": {
      "text/plain": [
       "(2094, 35)"
      ]
     },
     "execution_count": 148,
     "metadata": {},
     "output_type": "execute_result"
    }
   ],
   "source": []
  },
  {
   "cell_type": "code",
   "execution_count": 20,
   "metadata": {},
   "outputs": [
    {
     "data": {
      "text/plain": [
       "[<matplotlib.lines.Line2D at 0x1226bac8>]"
      ]
     },
     "execution_count": 20,
     "metadata": {},
     "output_type": "execute_result"
    },
    {
     "data": {
      "image/png": "[encoded data removed]",
      "text/plain": [
       "<matplotlib.figure.Figure at 0x122a6978>"
      ]
     },
     "metadata": {},
     "output_type": "display_data"
    }
   ],
   "source": [
    "plt.plot(train_data.kda_ratio.values,train_data.h_kda_ratio_A.values)"
   ]
  },
  {
   "cell_type": "code",
   "execution_count": 21,
   "metadata": {},
   "outputs": [
    {
     "data": {
      "text/plain": [
       "array([[1.        , 0.57443479],\n",
       "       [0.57443479, 1.        ]])"
      ]
     },
     "execution_count": 21,
     "metadata": {},
     "output_type": "execute_result"
    }
   ],
   "source": [
    "np.corrcoef(train_data.kda_ratio.values,train_data.h_kda_ratio_A.values)"
   ]
  },
  {
   "cell_type": "code",
   "execution_count": 22,
   "metadata": {},
   "outputs": [
    {
     "data": {
      "text/plain": [
       "array([[1.        , 0.65621796],\n",
       "       [0.65621796, 1.        ]])"
      ]
     },
     "execution_count": 22,
     "metadata": {},
     "output_type": "execute_result"
    }
   ],
   "source": [
    "np.corrcoef(train_data.kda_ratio.values,train_data.kda_ratio_Avg.values)"
   ]
  },
  {
   "cell_type": "code",
   "execution_count": 512,
   "metadata": {},
   "outputs": [
    {
     "data": {
      "text/plain": [
       "array([[1.        , 0.32459857],\n",
       "       [0.32459857, 1.        ]])"
      ]
     },
     "execution_count": 512,
     "metadata": {},
     "output_type": "execute_result"
    }
   ],
   "source": [
    "np.corrcoef(train_data.kda_ratio,train_data.WinRat)"
   ]
  },
  {
   "cell_type": "code",
   "execution_count": 225,
   "metadata": {},
   "outputs": [
    {
     "data": {
      "text/plain": [
       "array([[1.        , 0.18744059],\n",
       "       [0.18744059, 1.        ]])"
      ]
     },
     "execution_count": 225,
     "metadata": {},
     "output_type": "execute_result"
    }
   ],
   "source": [
    "np.corrcoef(train_data.kda_ratio,train_data.h_WinRat)"
   ]
  },
  {
   "cell_type": "code",
   "execution_count": 32,
   "metadata": {},
   "outputs": [],
   "source": [
    "tr_data = train_data.filter(['h_kda_ratio_A','kda_ratio_Avg','WinRat','h_WinRat'], axis=1)"
   ]
  },
  {
   "cell_type": "code",
   "execution_count": 509,
   "metadata": {
    "collapsed": true
   },
   "outputs": [],
   "source": [
    "train_data['Intr']=train_data.h_kda_ratio_A*train_data.kda_ratio_Avg"
   ]
  },
  {
   "cell_type": "code",
   "execution_count": 511,
   "metadata": {
    "collapsed": true
   },
   "outputs": [],
   "source": [
    "test_data=test_data.h_kda_ratio_A*test_data.kda_ratio_Avg"
   ]
  },
  {
   "cell_type": "code",
   "execution_count": null,
   "metadata": {
    "collapsed": true
   },
   "outputs": [],
   "source": [
    "train_data.WinRat"
   ]
  },
  {
   "cell_type": "code",
   "execution_count": 517,
   "metadata": {
    "collapsed": true
   },
   "outputs": [],
   "source": [
    "tr_data = train_data.filter(['Intr','WinRat'], axis=1)"
   ]
  },
  {
   "cell_type": "code",
   "execution_count": 525,
   "metadata": {},
   "outputs": [
    {
     "data": {
      "text/plain": [
       "(2093, 2)"
      ]
     },
     "execution_count": 525,
     "metadata": {},
     "output_type": "execute_result"
    }
   ],
   "source": [
    "tr_data.shape"
   ]
  },
  {
   "cell_type": "code",
   "execution_count": 518,
   "metadata": {
    "collapsed": true
   },
   "outputs": [],
   "source": [
    "tst_data = test_data.filter(['Intr','WinR'], axis=1)"
   ]
  },
  {
   "cell_type": "code",
   "execution_count": 526,
   "metadata": {},
   "outputs": [
    {
     "data": {
      "text/plain": [
       "(898, 2)"
      ]
     },
     "execution_count": 526,
     "metadata": {},
     "output_type": "execute_result"
    }
   ],
   "source": [
    "tst_data.shape "
   ]
  },
  {
   "cell_type": "code",
   "execution_count": 341,
   "metadata": {},
   "outputs": [
    {
     "data": {
      "text/plain": [
       "(898, 3)"
      ]
     },
     "execution_count": 341,
     "metadata": {},
     "output_type": "execute_result"
    }
   ],
   "source": [
    "tst_data.shape\n",
    "BroTrain"
   ]
  },
  {
   "cell_type": "code",
   "execution_count": 25,
   "metadata": {
    "collapsed": true
   },
   "outputs": [],
   "source": [
    "y=train_data.kda_ratio"
   ]
  },
  {
   "cell_type": "code",
   "execution_count": 58,
   "metadata": {},
   "outputs": [],
   "source": [
    "# Splitting the dataset into the Training set and Test set\n",
    "from sklearn.cross_validation import train_test_split\n",
    "X_train, X_test, y_train, y_test = train_test_split(tr_data,y, test_size = 0.2, random_state = 0)\n"
   ]
  },
  {
   "cell_type": "code",
   "execution_count": 34,
   "metadata": {
    "collapsed": true
   },
   "outputs": [],
   "source": [
    "# Fitting Multiple Linear Regression to the Training set\n",
    "from sklearn.linear_model import LinearRegression\n",
    "regressor = LinearRegression()\n"
   ]
  },
  {
   "cell_type": "code",
   "execution_count": 35,
   "metadata": {},
   "outputs": [
    {
     "data": {
      "text/plain": [
       "LinearRegression(copy_X=True, fit_intercept=True, n_jobs=1, normalize=False)"
      ]
     },
     "execution_count": 35,
     "metadata": {},
     "output_type": "execute_result"
    }
   ],
   "source": [
    "regressor.fit(X_train,y_train)"
   ]
  },
  {
   "cell_type": "code",
   "execution_count": 240,
   "metadata": {},
   "outputs": [
    {
     "data": {
      "text/plain": [
       "(1674, 4)"
      ]
     },
     "execution_count": 240,
     "metadata": {},
     "output_type": "execute_result"
    }
   ],
   "source": [
    "X_train.shape"
   ]
  },
  {
   "cell_type": "code",
   "execution_count": null,
   "metadata": {
    "collapsed": true
   },
   "outputs": [],
   "source": [
    "np.sqrt(np.mean())"
   ]
  },
  {
   "cell_type": "code",
   "execution_count": 439,
   "metadata": {
    "collapsed": true
   },
   "outputs": [],
   "source": [
    "from scipy import stats\n",
    "#import numpy as np1\n",
    "#slope, intercept, r_value, p_value, std_err = stats.linregress(X_train,y_train)"
   ]
  },
  {
   "cell_type": "code",
   "execution_count": 263,
   "metadata": {
    "collapsed": true
   },
   "outputs": [],
   "source": [
    "#intercept, r_value, p_value, std_err = stats.linregress(X_train,y_train)"
   ]
  },
  {
   "cell_type": "code",
   "execution_count": 36,
   "metadata": {
    "collapsed": true
   },
   "outputs": [],
   "source": [
    "# Predicting the Test set results\n",
    "y_pred = regressor.predict(X_test)"
   ]
  },
  {
   "cell_type": "code",
   "execution_count": null,
   "metadata": {
    "collapsed": true
   },
   "outputs": [],
   "source": []
  },
  {
   "cell_type": "code",
   "execution_count": 37,
   "metadata": {},
   "outputs": [
    {
     "data": {
      "text/plain": [
       "561.5059222542432"
      ]
     },
     "execution_count": 37,
     "metadata": {},
     "output_type": "execute_result"
    }
   ],
   "source": [
    "np.sqrt(np.mean((y_test-y_pred)*(y_test-y_pred)))"
   ]
  },
  {
   "cell_type": "code",
   "execution_count": 907,
   "metadata": {},
   "outputs": [
    {
     "data": {
      "text/plain": [
       "570.7245934515533"
      ]
     },
     "execution_count": 907,
     "metadata": {},
     "output_type": "execute_result"
    }
   ],
   "source": [
    "np.sqrt(np.mean((y_test-y_pred)*(y_test-y_pred)))"
   ]
  },
  {
   "cell_type": "code",
   "execution_count": 751,
   "metadata": {},
   "outputs": [
    {
     "ename": "AttributeError",
     "evalue": "'DataFrame' object has no attribute 'kda_ratio_Avg'",
     "output_type": "error",
     "traceback": [
      "\u001b[1;31m---------------------------------------------------------------------------\u001b[0m",
      "\u001b[1;31mAttributeError\u001b[0m                            Traceback (most recent call last)",
      "\u001b[1;32m<ipython-input-751-eff4c9efeab8>\u001b[0m in \u001b[0;36m<module>\u001b[1;34m()\u001b[0m\n\u001b[1;32m----> 1\u001b[1;33m \u001b[0mnp\u001b[0m\u001b[1;33m.\u001b[0m\u001b[0msqrt\u001b[0m\u001b[1;33m(\u001b[0m\u001b[0mnp\u001b[0m\u001b[1;33m.\u001b[0m\u001b[0mmean\u001b[0m\u001b[1;33m(\u001b[0m\u001b[1;33m(\u001b[0m\u001b[0mX_test\u001b[0m\u001b[1;33m.\u001b[0m\u001b[0mkda_ratio_Avg\u001b[0m\u001b[1;33m-\u001b[0m\u001b[0my_pred\u001b[0m\u001b[1;33m)\u001b[0m\u001b[1;33m*\u001b[0m\u001b[1;33m(\u001b[0m\u001b[0mX_test\u001b[0m\u001b[1;33m.\u001b[0m\u001b[0mkda_ratio_Avg\u001b[0m\u001b[1;33m-\u001b[0m\u001b[0my_pred\u001b[0m\u001b[1;33m)\u001b[0m\u001b[1;33m)\u001b[0m\u001b[1;33m)\u001b[0m\u001b[1;33m\u001b[0m\u001b[0m\n\u001b[0m",
      "\u001b[1;32mC:\\Users\\Mahavir\\Anaconda3\\lib\\site-packages\\pandas\\core\\generic.py\u001b[0m in \u001b[0;36m__getattr__\u001b[1;34m(self, name)\u001b[0m\n\u001b[0;32m   2968\u001b[0m             \u001b[1;32mif\u001b[0m \u001b[0mname\u001b[0m \u001b[1;32min\u001b[0m \u001b[0mself\u001b[0m\u001b[1;33m.\u001b[0m\u001b[0m_info_axis\u001b[0m\u001b[1;33m:\u001b[0m\u001b[1;33m\u001b[0m\u001b[0m\n\u001b[0;32m   2969\u001b[0m                 \u001b[1;32mreturn\u001b[0m \u001b[0mself\u001b[0m\u001b[1;33m[\u001b[0m\u001b[0mname\u001b[0m\u001b[1;33m]\u001b[0m\u001b[1;33m\u001b[0m\u001b[0m\n\u001b[1;32m-> 2970\u001b[1;33m             \u001b[1;32mreturn\u001b[0m \u001b[0mobject\u001b[0m\u001b[1;33m.\u001b[0m\u001b[0m__getattribute__\u001b[0m\u001b[1;33m(\u001b[0m\u001b[0mself\u001b[0m\u001b[1;33m,\u001b[0m \u001b[0mname\u001b[0m\u001b[1;33m)\u001b[0m\u001b[1;33m\u001b[0m\u001b[0m\n\u001b[0m\u001b[0;32m   2971\u001b[0m \u001b[1;33m\u001b[0m\u001b[0m\n\u001b[0;32m   2972\u001b[0m     \u001b[1;32mdef\u001b[0m \u001b[0m__setattr__\u001b[0m\u001b[1;33m(\u001b[0m\u001b[0mself\u001b[0m\u001b[1;33m,\u001b[0m \u001b[0mname\u001b[0m\u001b[1;33m,\u001b[0m \u001b[0mvalue\u001b[0m\u001b[1;33m)\u001b[0m\u001b[1;33m:\u001b[0m\u001b[1;33m\u001b[0m\u001b[0m\n",
      "\u001b[1;31mAttributeError\u001b[0m: 'DataFrame' object has no attribute 'kda_ratio_Avg'"
     ]
    }
   ],
   "source": [
    "np.sqrt(np.mean((X_test.kda_ratio_Avg-y_pred)*(X_test.kda_ratio_Avg-y_pred)))"
   ]
  },
  {
   "cell_type": "code",
   "execution_count": 261,
   "metadata": {
    "collapsed": true
   },
   "outputs": [],
   "source": [
    "#np.sqrt(np.mean((X_test.kda_ratio_Avg-y_pred)*))"
   ]
  },
  {
   "cell_type": "code",
   "execution_count": 527,
   "metadata": {},
   "outputs": [
    {
     "data": {
      "text/plain": [
       "LinearRegression(copy_X=True, fit_intercept=True, n_jobs=1, normalize=False)"
      ]
     },
     "execution_count": 527,
     "metadata": {},
     "output_type": "execute_result"
    }
   ],
   "source": [
    "regressor.fit(tr_data,train_data.kda_ratio)"
   ]
  },
  {
   "cell_type": "code",
   "execution_count": 427,
   "metadata": {},
   "outputs": [
    {
     "data": {
      "text/plain": [
       "(898, 3)"
      ]
     },
     "execution_count": 427,
     "metadata": {},
     "output_type": "execute_result"
    }
   ],
   "source": [
    "tst_data.shape"
   ]
  },
  {
   "cell_type": "code",
   "execution_count": 528,
   "metadata": {
    "collapsed": true
   },
   "outputs": [],
   "source": [
    "y_pred = regressor.predict(tst_data)"
   ]
  },
  {
   "cell_type": "code",
   "execution_count": 529,
   "metadata": {},
   "outputs": [
    {
     "data": {
      "text/plain": [
       "(898,)"
      ]
     },
     "execution_count": 529,
     "metadata": {},
     "output_type": "execute_result"
    }
   ],
   "source": [
    "y_pred.shape "
   ]
  },
  {
   "cell_type": "code",
   "execution_count": 337,
   "metadata": {},
   "outputs": [
    {
     "data": {
      "text/plain": [
       "(898, 4)"
      ]
     },
     "execution_count": 337,
     "metadata": {},
     "output_type": "execute_result"
    }
   ],
   "source": [
    "test1.shape"
   ]
  },
  {
   "cell_type": "code",
   "execution_count": 272,
   "metadata": {},
   "outputs": [
    {
     "data": {
      "text/plain": [
       "(2093, 4)"
      ]
     },
     "execution_count": 272,
     "metadata": {},
     "output_type": "execute_result"
    }
   ],
   "source": [
    "tst_data.shape"
   ]
  },
  {
   "cell_type": "code",
   "execution_count": null,
   "metadata": {
    "collapsed": true
   },
   "outputs": [],
   "source": [
    "test_data.kda_ratio_Avg"
   ]
  },
  {
   "cell_type": "code",
   "execution_count": 338,
   "metadata": {},
   "outputs": [
    {
     "data": {
      "text/plain": [
       "(898, 33)"
      ]
     },
     "execution_count": 338,
     "metadata": {},
     "output_type": "execute_result"
    }
   ],
   "source": [
    "test_data.shape"
   ]
  },
  {
   "cell_type": "code",
   "execution_count": 530,
   "metadata": {
    "collapsed": true
   },
   "outputs": [],
   "source": [
    "test_data['kda_ratio']=regressor.predict(tst_data)"
   ]
  },
  {
   "cell_type": "code",
   "execution_count": 531,
   "metadata": {
    "collapsed": true
   },
   "outputs": [],
   "source": [
    "SolFOOO=test_data.filter(['id','kda_ratio'], axis=1)"
   ]
  },
  {
   "cell_type": "code",
   "execution_count": null,
   "metadata": {
    "collapsed": true
   },
   "outputs": [],
   "source": [
    "ResSol=test_data.filter(['id','kda_ratio'], axis=1)"
   ]
  },
  {
   "cell_type": "code",
   "execution_count": 532,
   "metadata": {
    "collapsed": true
   },
   "outputs": [],
   "source": [
    "SolFOOO.to_csv(\"C:/Users/Mahavir/Desktop/Dota/SolFOOO.csv\")"
   ]
  },
  {
   "cell_type": "code",
   "execution_count": 310,
   "metadata": {
    "collapsed": true
   },
   "outputs": [],
   "source": [
    "train1.to_csv(\"C:/Users/Mahavir/Desktop/Dota/train1.csv\")"
   ]
  },
  {
   "cell_type": "code",
   "execution_count": 38,
   "metadata": {},
   "outputs": [
    {
     "name": "stderr",
     "output_type": "stream",
     "text": [
      "C:\\Users\\Mahavir\\Anaconda3\\lib\\site-packages\\h5py\\__init__.py:34: FutureWarning: Conversion of the second argument of issubdtype from `float` to `np.floating` is deprecated. In future, it will be treated as `np.float64 == np.dtype(float).type`.\n",
      "  from ._conv import register_converters as _register_converters\n",
      "Using TensorFlow backend.\n"
     ]
    }
   ],
   "source": [
    "import keras \n",
    "from keras.models import Sequential\n",
    "from keras.layers import Dense"
   ]
  },
  {
   "cell_type": "code",
   "execution_count": 534,
   "metadata": {
    "collapsed": true
   },
   "outputs": [],
   "source": [
    "from keras.wrappers.scikit_learn import KerasRegressor\n",
    "from sklearn.model_selection import cross_val_score\n",
    "from sklearn.model_selection import KFold"
   ]
  },
  {
   "cell_type": "code",
   "execution_count": null,
   "metadata": {
    "collapsed": true
   },
   "outputs": [],
   "source": [
    "HeroDd=pd.get_dummies(columns=['primary_attr','attack_type','roles'],data=HeroFil,drop_first='TRUE')"
   ]
  },
  {
   "cell_type": "code",
   "execution_count": 698,
   "metadata": {},
   "outputs": [
    {
     "ename": "SyntaxError",
     "evalue": "EOL while scanning string literal (<ipython-input-698-b29a2f017c55>, line 4)",
     "output_type": "error",
     "traceback": [
      "\u001b[1;36m  File \u001b[1;32m\"<ipython-input-698-b29a2f017c55>\"\u001b[1;36m, line \u001b[1;32m4\u001b[0m\n\u001b[1;33m    ,\"h_kda_ratio_A\",\"h_num_wins_A\",\"h_num_games_A,'primary_attr','attack_type'])\u001b[0m\n\u001b[1;37m                                                                                 ^\u001b[0m\n\u001b[1;31mSyntaxError\u001b[0m\u001b[1;31m:\u001b[0m EOL while scanning string literal\n"
     ]
    }
   ],
   "source": [
    "AnnTrain=train_data.filter(['h_kda_ratio_A','kda_ratio_Avg','WinRat','h_WinRat','Intr',\"num_games\",\"kda_ratio_Avg\",\"num_wins_Avg\"          \"num_games_Avg\"        \n",
    ",\"primary_attr\",\"attack_type\",\"roles\",\"base_health_regen\",\"base_armor\",\"base_strength\"    \n",
    ",\"base_agility\",\"strength_gain\",\"agility_gain\",\"attack_range\",\"attack_rate\",\"turn_rate\"         \n",
    ",\"h_kda_ratio_A\",\"h_num_wins_A\",\"h_num_games_A,'primary_attr','attack_type'])"
   ]
  },
  {
   "cell_type": "code",
   "execution_count": 699,
   "metadata": {
    "collapsed": true
   },
   "outputs": [],
   "source": [
    "AnnTest=test_data.filter(['h_kda_ratio_A','kda_ratio_Avg','WinR','h_WinRat','Intr',\"num_games\",\"kda_ratio_Avg\",\"num_wins_Avg\"          \"num_games_Avg\"        \n",
    ",\"primary_attr\",\"attack_type\",\"roles\",\"base_health_regen\",\"base_armor\",\"base_strength\"    \n",
    ",\"base_agility\",\"strength_gain\",\"agility_gain\",\"attack_range\",\"attack_rate\",\"turn_rate\"         \n",
    ",\"h_kda_ratio_A\",\"h_num_wins_A\",\"h_num_games_A\",])"
   ]
  },
  {
   "cell_type": "code",
   "execution_count": null,
   "metadata": {
    "collapsed": true
   },
   "outputs": [],
   "source": [
    "AnnTrain.append()"
   ]
  },
  {
   "cell_type": "code",
   "execution_count": 575,
   "metadata": {
    "collapsed": true
   },
   "outputs": [],
   "source": [
    "?AnnTrain.append()"
   ]
  },
  {
   "cell_type": "code",
   "execution_count": 576,
   "metadata": {
    "collapsed": true
   },
   "outputs": [],
   "source": [
    "AnnTrain1=AnnTrain\n",
    "AnnTest1=AnnTest"
   ]
  },
  {
   "cell_type": "code",
   "execution_count": 578,
   "metadata": {},
   "outputs": [
    {
     "data": {
      "text/plain": [
       "(898, 22)"
      ]
     },
     "execution_count": 578,
     "metadata": {},
     "output_type": "execute_result"
    }
   ],
   "source": [
    "AnnTest1.shape"
   ]
  },
  {
   "cell_type": "code",
   "execution_count": 581,
   "metadata": {},
   "outputs": [
    {
     "data": {
      "text/html": [
       "<div>\n",
       "<style>\n",
       "    .dataframe thead tr:only-child th {\n",
       "        text-align: right;\n",
       "    }\n",
       "\n",
       "    .dataframe thead th {\n",
       "        text-align: left;\n",
       "    }\n",
       "\n",
       "    .dataframe tbody tr th {\n",
       "        vertical-align: top;\n",
       "    }\n",
       "</style>\n",
       "<table border=\"1\" class=\"dataframe\">\n",
       "  <thead>\n",
       "    <tr style=\"text-align: right;\">\n",
       "      <th></th>\n",
       "      <th>h_kda_ratio_A</th>\n",
       "      <th>kda_ratio_Avg</th>\n",
       "      <th>WinRat</th>\n",
       "      <th>h_WinRat</th>\n",
       "      <th>Intr</th>\n",
       "      <th>num_games</th>\n",
       "      <th>kda_ratio_Avg</th>\n",
       "      <th>primary_attr</th>\n",
       "      <th>attack_type</th>\n",
       "      <th>roles</th>\n",
       "      <th>...</th>\n",
       "      <th>base_strength</th>\n",
       "      <th>base_agility</th>\n",
       "      <th>strength_gain</th>\n",
       "      <th>agility_gain</th>\n",
       "      <th>attack_range</th>\n",
       "      <th>attack_rate</th>\n",
       "      <th>turn_rate</th>\n",
       "      <th>h_kda_ratio_A</th>\n",
       "      <th>h_num_wins_A</th>\n",
       "      <th>h_num_games_A</th>\n",
       "    </tr>\n",
       "    <tr>\n",
       "      <th>user_id</th>\n",
       "      <th></th>\n",
       "      <th></th>\n",
       "      <th></th>\n",
       "      <th></th>\n",
       "      <th></th>\n",
       "      <th></th>\n",
       "      <th></th>\n",
       "      <th></th>\n",
       "      <th></th>\n",
       "      <th></th>\n",
       "      <th></th>\n",
       "      <th></th>\n",
       "      <th></th>\n",
       "      <th></th>\n",
       "      <th></th>\n",
       "      <th></th>\n",
       "      <th></th>\n",
       "      <th></th>\n",
       "      <th></th>\n",
       "      <th></th>\n",
       "      <th></th>\n",
       "    </tr>\n",
       "  </thead>\n",
       "  <tbody>\n",
       "    <tr>\n",
       "      <th>1</th>\n",
       "      <td>3766.720531</td>\n",
       "      <td>3857.506249</td>\n",
       "      <td>0.622724</td>\n",
       "      <td>0.568818</td>\n",
       "      <td>1.453015e+07</td>\n",
       "      <td>201</td>\n",
       "      <td>3857.506249</td>\n",
       "      <td>agi</td>\n",
       "      <td>Melee</td>\n",
       "      <td>Carry:Initiator:Disabler:Escape:Durable</td>\n",
       "      <td>...</td>\n",
       "      <td>23</td>\n",
       "      <td>23</td>\n",
       "      <td>2.1</td>\n",
       "      <td>2.8</td>\n",
       "      <td>150</td>\n",
       "      <td>1.7</td>\n",
       "      <td>1.0</td>\n",
       "      <td>3766.720531</td>\n",
       "      <td>77.258993</td>\n",
       "      <td>135.823741</td>\n",
       "    </tr>\n",
       "    <tr>\n",
       "      <th>2</th>\n",
       "      <td>3964.276777</td>\n",
       "      <td>2857.903926</td>\n",
       "      <td>0.539620</td>\n",
       "      <td>0.591477</td>\n",
       "      <td>1.132952e+07</td>\n",
       "      <td>427</td>\n",
       "      <td>2857.903926</td>\n",
       "      <td>int</td>\n",
       "      <td>Ranged</td>\n",
       "      <td>Carry:Escape:Nuker:Initiator:Disabler</td>\n",
       "      <td>...</td>\n",
       "      <td>19</td>\n",
       "      <td>22</td>\n",
       "      <td>1.8</td>\n",
       "      <td>1.5</td>\n",
       "      <td>480</td>\n",
       "      <td>1.7</td>\n",
       "      <td>0.8</td>\n",
       "      <td>3964.276777</td>\n",
       "      <td>119.347942</td>\n",
       "      <td>201.779548</td>\n",
       "    </tr>\n",
       "    <tr>\n",
       "      <th>5</th>\n",
       "      <td>4678.101919</td>\n",
       "      <td>4194.043231</td>\n",
       "      <td>0.582617</td>\n",
       "      <td>0.580832</td>\n",
       "      <td>1.962016e+07</td>\n",
       "      <td>240</td>\n",
       "      <td>4194.043231</td>\n",
       "      <td>agi</td>\n",
       "      <td>Melee</td>\n",
       "      <td>Carry:Escape:Nuker:Disabler:Initiator</td>\n",
       "      <td>...</td>\n",
       "      <td>19</td>\n",
       "      <td>22</td>\n",
       "      <td>2.1</td>\n",
       "      <td>1.8</td>\n",
       "      <td>150</td>\n",
       "      <td>1.7</td>\n",
       "      <td>0.5</td>\n",
       "      <td>4678.101919</td>\n",
       "      <td>98.100917</td>\n",
       "      <td>168.897248</td>\n",
       "    </tr>\n",
       "    <tr>\n",
       "      <th>6</th>\n",
       "      <td>3747.512801</td>\n",
       "      <td>3886.190698</td>\n",
       "      <td>0.565697</td>\n",
       "      <td>0.561451</td>\n",
       "      <td>1.456355e+07</td>\n",
       "      <td>206</td>\n",
       "      <td>3886.190698</td>\n",
       "      <td>int</td>\n",
       "      <td>Ranged</td>\n",
       "      <td>Initiator:Jungler:Disabler:Escape</td>\n",
       "      <td>...</td>\n",
       "      <td>23</td>\n",
       "      <td>15</td>\n",
       "      <td>2.7</td>\n",
       "      <td>1.5</td>\n",
       "      <td>375</td>\n",
       "      <td>1.7</td>\n",
       "      <td>1.0</td>\n",
       "      <td>3747.512801</td>\n",
       "      <td>99.785124</td>\n",
       "      <td>177.727273</td>\n",
       "    </tr>\n",
       "    <tr>\n",
       "      <th>7</th>\n",
       "      <td>3091.711347</td>\n",
       "      <td>2989.278882</td>\n",
       "      <td>0.544568</td>\n",
       "      <td>0.557031</td>\n",
       "      <td>9.241987e+06</td>\n",
       "      <td>697</td>\n",
       "      <td>2989.278882</td>\n",
       "      <td>str</td>\n",
       "      <td>Melee</td>\n",
       "      <td>Carry:Disabler:Initiator:Durable:Nuker</td>\n",
       "      <td>...</td>\n",
       "      <td>26</td>\n",
       "      <td>11</td>\n",
       "      <td>3.5</td>\n",
       "      <td>0.9</td>\n",
       "      <td>150</td>\n",
       "      <td>2.0</td>\n",
       "      <td>0.5</td>\n",
       "      <td>3091.711347</td>\n",
       "      <td>83.211111</td>\n",
       "      <td>149.383333</td>\n",
       "    </tr>\n",
       "  </tbody>\n",
       "</table>\n",
       "<p>5 rows × 22 columns</p>\n",
       "</div>"
      ],
      "text/plain": [
       "         h_kda_ratio_A  kda_ratio_Avg    WinRat  h_WinRat          Intr  \\\n",
       "user_id                                                                   \n",
       "1          3766.720531    3857.506249  0.622724  0.568818  1.453015e+07   \n",
       "2          3964.276777    2857.903926  0.539620  0.591477  1.132952e+07   \n",
       "5          4678.101919    4194.043231  0.582617  0.580832  1.962016e+07   \n",
       "6          3747.512801    3886.190698  0.565697  0.561451  1.456355e+07   \n",
       "7          3091.711347    2989.278882  0.544568  0.557031  9.241987e+06   \n",
       "\n",
       "         num_games  kda_ratio_Avg primary_attr attack_type  \\\n",
       "user_id                                                      \n",
       "1              201    3857.506249          agi       Melee   \n",
       "2              427    2857.903926          int      Ranged   \n",
       "5              240    4194.043231          agi       Melee   \n",
       "6              206    3886.190698          int      Ranged   \n",
       "7              697    2989.278882          str       Melee   \n",
       "\n",
       "                                           roles      ...        \\\n",
       "user_id                                               ...         \n",
       "1        Carry:Initiator:Disabler:Escape:Durable      ...         \n",
       "2          Carry:Escape:Nuker:Initiator:Disabler      ...         \n",
       "5          Carry:Escape:Nuker:Disabler:Initiator      ...         \n",
       "6              Initiator:Jungler:Disabler:Escape      ...         \n",
       "7         Carry:Disabler:Initiator:Durable:Nuker      ...         \n",
       "\n",
       "         base_strength  base_agility  strength_gain  agility_gain  \\\n",
       "user_id                                                             \n",
       "1                   23            23            2.1           2.8   \n",
       "2                   19            22            1.8           1.5   \n",
       "5                   19            22            2.1           1.8   \n",
       "6                   23            15            2.7           1.5   \n",
       "7                   26            11            3.5           0.9   \n",
       "\n",
       "         attack_range  attack_rate  turn_rate  h_kda_ratio_A  h_num_wins_A  \\\n",
       "user_id                                                                      \n",
       "1                 150          1.7        1.0    3766.720531     77.258993   \n",
       "2                 480          1.7        0.8    3964.276777    119.347942   \n",
       "5                 150          1.7        0.5    4678.101919     98.100917   \n",
       "6                 375          1.7        1.0    3747.512801     99.785124   \n",
       "7                 150          2.0        0.5    3091.711347     83.211111   \n",
       "\n",
       "         h_num_games_A  \n",
       "user_id                 \n",
       "1           135.823741  \n",
       "2           201.779548  \n",
       "5           168.897248  \n",
       "6           177.727273  \n",
       "7           149.383333  \n",
       "\n",
       "[5 rows x 22 columns]"
      ]
     },
     "execution_count": 581,
     "metadata": {},
     "output_type": "execute_result"
    }
   ],
   "source": [
    "AnnTrain1.head()"
   ]
  },
  {
   "cell_type": "code",
   "execution_count": 586,
   "metadata": {},
   "outputs": [
    {
     "data": {
      "text/plain": [
       "(2093, 22)"
      ]
     },
     "execution_count": 586,
     "metadata": {},
     "output_type": "execute_result"
    }
   ],
   "source": [
    "AnnTrain1.shape"
   ]
  },
  {
   "cell_type": "code",
   "execution_count": 594,
   "metadata": {},
   "outputs": [
    {
     "data": {
      "text/html": [
       "<div>\n",
       "<style>\n",
       "    .dataframe thead tr:only-child th {\n",
       "        text-align: right;\n",
       "    }\n",
       "\n",
       "    .dataframe thead th {\n",
       "        text-align: left;\n",
       "    }\n",
       "\n",
       "    .dataframe tbody tr th {\n",
       "        vertical-align: top;\n",
       "    }\n",
       "</style>\n",
       "<table border=\"1\" class=\"dataframe\">\n",
       "  <thead>\n",
       "    <tr style=\"text-align: right;\">\n",
       "      <th></th>\n",
       "      <th>h_kda_ratio_A</th>\n",
       "      <th>kda_ratio_Avg</th>\n",
       "      <th>WinRat</th>\n",
       "      <th>h_WinRat</th>\n",
       "      <th>Intr</th>\n",
       "      <th>num_games</th>\n",
       "      <th>kda_ratio_Avg</th>\n",
       "      <th>primary_attr</th>\n",
       "      <th>attack_type</th>\n",
       "      <th>roles</th>\n",
       "      <th>...</th>\n",
       "      <th>base_strength</th>\n",
       "      <th>base_agility</th>\n",
       "      <th>strength_gain</th>\n",
       "      <th>agility_gain</th>\n",
       "      <th>attack_range</th>\n",
       "      <th>attack_rate</th>\n",
       "      <th>turn_rate</th>\n",
       "      <th>h_kda_ratio_A</th>\n",
       "      <th>h_num_wins_A</th>\n",
       "      <th>h_num_games_A</th>\n",
       "    </tr>\n",
       "    <tr>\n",
       "      <th>user_id</th>\n",
       "      <th></th>\n",
       "      <th></th>\n",
       "      <th></th>\n",
       "      <th></th>\n",
       "      <th></th>\n",
       "      <th></th>\n",
       "      <th></th>\n",
       "      <th></th>\n",
       "      <th></th>\n",
       "      <th></th>\n",
       "      <th></th>\n",
       "      <th></th>\n",
       "      <th></th>\n",
       "      <th></th>\n",
       "      <th></th>\n",
       "      <th></th>\n",
       "      <th></th>\n",
       "      <th></th>\n",
       "      <th></th>\n",
       "      <th></th>\n",
       "      <th></th>\n",
       "    </tr>\n",
       "  </thead>\n",
       "  <tbody>\n",
       "  </tbody>\n",
       "</table>\n",
       "<p>0 rows × 22 columns</p>\n",
       "</div>"
      ],
      "text/plain": [
       "Empty DataFrame\n",
       "Columns: [h_kda_ratio_A, kda_ratio_Avg, WinRat, h_WinRat, Intr, num_games, kda_ratio_Avg, primary_attr, attack_type, roles, base_health_regen, base_armor, base_strength, base_agility, strength_gain, agility_gain, attack_range, attack_rate, turn_rate, h_kda_ratio_A, h_num_wins_A, h_num_games_A]\n",
       "Index: []\n",
       "\n",
       "[0 rows x 22 columns]"
      ]
     },
     "execution_count": 594,
     "metadata": {},
     "output_type": "execute_result"
    }
   ],
   "source": [
    "#AnnTrain1.append(AnnTest1,ignore_index=True)\n",
    "\n",
    "AnnTrain1.iloc[2093:,:]"
   ]
  },
  {
   "cell_type": "code",
   "execution_count": 592,
   "metadata": {},
   "outputs": [
    {
     "data": {
      "text/plain": [
       "(898, 22)"
      ]
     },
     "execution_count": 592,
     "metadata": {},
     "output_type": "execute_result"
    }
   ],
   "source": [
    "AnnTest1.shape"
   ]
  },
  {
   "cell_type": "code",
   "execution_count": 597,
   "metadata": {},
   "outputs": [
    {
     "data": {
      "text/html": [
       "<div>\n",
       "<style>\n",
       "    .dataframe thead tr:only-child th {\n",
       "        text-align: right;\n",
       "    }\n",
       "\n",
       "    .dataframe thead th {\n",
       "        text-align: left;\n",
       "    }\n",
       "\n",
       "    .dataframe tbody tr th {\n",
       "        vertical-align: top;\n",
       "    }\n",
       "</style>\n",
       "<table border=\"1\" class=\"dataframe\">\n",
       "  <thead>\n",
       "    <tr style=\"text-align: right;\">\n",
       "      <th></th>\n",
       "      <th>h_kda_ratio_A</th>\n",
       "      <th>kda_ratio_Avg</th>\n",
       "      <th>WinR</th>\n",
       "      <th>h_WinRat</th>\n",
       "      <th>Intr</th>\n",
       "      <th>num_games</th>\n",
       "      <th>kda_ratio_Avg</th>\n",
       "      <th>primary_attr</th>\n",
       "      <th>attack_type</th>\n",
       "      <th>roles</th>\n",
       "      <th>...</th>\n",
       "      <th>base_strength</th>\n",
       "      <th>base_agility</th>\n",
       "      <th>strength_gain</th>\n",
       "      <th>agility_gain</th>\n",
       "      <th>attack_range</th>\n",
       "      <th>attack_rate</th>\n",
       "      <th>turn_rate</th>\n",
       "      <th>h_kda_ratio_A</th>\n",
       "      <th>h_num_wins_A</th>\n",
       "      <th>h_num_games_A</th>\n",
       "    </tr>\n",
       "    <tr>\n",
       "      <th>user_id</th>\n",
       "      <th></th>\n",
       "      <th></th>\n",
       "      <th></th>\n",
       "      <th></th>\n",
       "      <th></th>\n",
       "      <th></th>\n",
       "      <th></th>\n",
       "      <th></th>\n",
       "      <th></th>\n",
       "      <th></th>\n",
       "      <th></th>\n",
       "      <th></th>\n",
       "      <th></th>\n",
       "      <th></th>\n",
       "      <th></th>\n",
       "      <th></th>\n",
       "      <th></th>\n",
       "      <th></th>\n",
       "      <th></th>\n",
       "      <th></th>\n",
       "      <th></th>\n",
       "    </tr>\n",
       "  </thead>\n",
       "  <tbody>\n",
       "    <tr>\n",
       "      <th>3</th>\n",
       "      <td>2819.365897</td>\n",
       "      <td>3096.586034</td>\n",
       "      <td>0.523810</td>\n",
       "      <td>0.531694</td>\n",
       "      <td>8.730409e+06</td>\n",
       "      <td>278</td>\n",
       "      <td>3096.586034</td>\n",
       "      <td>int</td>\n",
       "      <td>Ranged</td>\n",
       "      <td>Carry:Jungler:Pusher:Escape:Nuker</td>\n",
       "      <td>...</td>\n",
       "      <td>19</td>\n",
       "      <td>18</td>\n",
       "      <td>2.1</td>\n",
       "      <td>1.9</td>\n",
       "      <td>600</td>\n",
       "      <td>1.70</td>\n",
       "      <td>0.6</td>\n",
       "      <td>2819.365897</td>\n",
       "      <td>91.365591</td>\n",
       "      <td>171.838710</td>\n",
       "    </tr>\n",
       "    <tr>\n",
       "      <th>4</th>\n",
       "      <td>3877.040837</td>\n",
       "      <td>3156.761161</td>\n",
       "      <td>0.580703</td>\n",
       "      <td>0.593685</td>\n",
       "      <td>1.223889e+07</td>\n",
       "      <td>180</td>\n",
       "      <td>3156.761161</td>\n",
       "      <td>int</td>\n",
       "      <td>Ranged</td>\n",
       "      <td>Carry:Escape:Nuker:Initiator:Disabler</td>\n",
       "      <td>...</td>\n",
       "      <td>19</td>\n",
       "      <td>22</td>\n",
       "      <td>1.8</td>\n",
       "      <td>1.5</td>\n",
       "      <td>480</td>\n",
       "      <td>1.70</td>\n",
       "      <td>0.8</td>\n",
       "      <td>3877.040837</td>\n",
       "      <td>119.867692</td>\n",
       "      <td>201.904615</td>\n",
       "    </tr>\n",
       "    <tr>\n",
       "      <th>9</th>\n",
       "      <td>3244.835129</td>\n",
       "      <td>3022.862616</td>\n",
       "      <td>0.581547</td>\n",
       "      <td>0.566366</td>\n",
       "      <td>9.808691e+06</td>\n",
       "      <td>70</td>\n",
       "      <td>3022.862616</td>\n",
       "      <td>str</td>\n",
       "      <td>Melee</td>\n",
       "      <td>Initiator:Disabler:Durable:Nuker</td>\n",
       "      <td>...</td>\n",
       "      <td>26</td>\n",
       "      <td>13</td>\n",
       "      <td>3.2</td>\n",
       "      <td>2.3</td>\n",
       "      <td>150</td>\n",
       "      <td>1.70</td>\n",
       "      <td>0.6</td>\n",
       "      <td>3244.835129</td>\n",
       "      <td>114.910000</td>\n",
       "      <td>202.890000</td>\n",
       "    </tr>\n",
       "    <tr>\n",
       "      <th>10</th>\n",
       "      <td>4146.573723</td>\n",
       "      <td>4013.320345</td>\n",
       "      <td>0.563485</td>\n",
       "      <td>0.564234</td>\n",
       "      <td>1.664153e+07</td>\n",
       "      <td>189</td>\n",
       "      <td>4013.320345</td>\n",
       "      <td>str</td>\n",
       "      <td>Melee</td>\n",
       "      <td>Carry:Durable:Jungler:Escape:Disabler</td>\n",
       "      <td>...</td>\n",
       "      <td>25</td>\n",
       "      <td>18</td>\n",
       "      <td>3.1</td>\n",
       "      <td>1.9</td>\n",
       "      <td>150</td>\n",
       "      <td>1.85</td>\n",
       "      <td>1.0</td>\n",
       "      <td>4146.573723</td>\n",
       "      <td>118.169811</td>\n",
       "      <td>209.433962</td>\n",
       "    </tr>\n",
       "    <tr>\n",
       "      <th>15</th>\n",
       "      <td>3894.772519</td>\n",
       "      <td>4765.059940</td>\n",
       "      <td>0.553152</td>\n",
       "      <td>0.557694</td>\n",
       "      <td>1.855882e+07</td>\n",
       "      <td>263</td>\n",
       "      <td>4765.059940</td>\n",
       "      <td>int</td>\n",
       "      <td>Ranged</td>\n",
       "      <td>Carry:Nuker:Disabler:Escape:Pusher</td>\n",
       "      <td>...</td>\n",
       "      <td>16</td>\n",
       "      <td>14</td>\n",
       "      <td>2.2</td>\n",
       "      <td>1.9</td>\n",
       "      <td>600</td>\n",
       "      <td>1.70</td>\n",
       "      <td>0.5</td>\n",
       "      <td>3894.772519</td>\n",
       "      <td>183.057906</td>\n",
       "      <td>328.240535</td>\n",
       "    </tr>\n",
       "  </tbody>\n",
       "</table>\n",
       "<p>5 rows × 22 columns</p>\n",
       "</div>"
      ],
      "text/plain": [
       "         h_kda_ratio_A  kda_ratio_Avg      WinR  h_WinRat          Intr  \\\n",
       "user_id                                                                   \n",
       "3          2819.365897    3096.586034  0.523810  0.531694  8.730409e+06   \n",
       "4          3877.040837    3156.761161  0.580703  0.593685  1.223889e+07   \n",
       "9          3244.835129    3022.862616  0.581547  0.566366  9.808691e+06   \n",
       "10         4146.573723    4013.320345  0.563485  0.564234  1.664153e+07   \n",
       "15         3894.772519    4765.059940  0.553152  0.557694  1.855882e+07   \n",
       "\n",
       "         num_games  kda_ratio_Avg primary_attr attack_type  \\\n",
       "user_id                                                      \n",
       "3              278    3096.586034          int      Ranged   \n",
       "4              180    3156.761161          int      Ranged   \n",
       "9               70    3022.862616          str       Melee   \n",
       "10             189    4013.320345          str       Melee   \n",
       "15             263    4765.059940          int      Ranged   \n",
       "\n",
       "                                         roles      ...        base_strength  \\\n",
       "user_id                                             ...                        \n",
       "3            Carry:Jungler:Pusher:Escape:Nuker      ...                   19   \n",
       "4        Carry:Escape:Nuker:Initiator:Disabler      ...                   19   \n",
       "9             Initiator:Disabler:Durable:Nuker      ...                   26   \n",
       "10       Carry:Durable:Jungler:Escape:Disabler      ...                   25   \n",
       "15          Carry:Nuker:Disabler:Escape:Pusher      ...                   16   \n",
       "\n",
       "         base_agility  strength_gain  agility_gain  attack_range  attack_rate  \\\n",
       "user_id                                                                         \n",
       "3                  18            2.1           1.9           600         1.70   \n",
       "4                  22            1.8           1.5           480         1.70   \n",
       "9                  13            3.2           2.3           150         1.70   \n",
       "10                 18            3.1           1.9           150         1.85   \n",
       "15                 14            2.2           1.9           600         1.70   \n",
       "\n",
       "         turn_rate  h_kda_ratio_A  h_num_wins_A  h_num_games_A  \n",
       "user_id                                                         \n",
       "3              0.6    2819.365897     91.365591     171.838710  \n",
       "4              0.8    3877.040837    119.867692     201.904615  \n",
       "9              0.6    3244.835129    114.910000     202.890000  \n",
       "10             1.0    4146.573723    118.169811     209.433962  \n",
       "15             0.5    3894.772519    183.057906     328.240535  \n",
       "\n",
       "[5 rows x 22 columns]"
      ]
     },
     "execution_count": 597,
     "metadata": {},
     "output_type": "execute_result"
    }
   ],
   "source": [
    "AnnTest1.iloc[0:,:].head()"
   ]
  },
  {
   "cell_type": "code",
   "execution_count": 598,
   "metadata": {},
   "outputs": [
    {
     "data": {
      "text/html": [
       "<div>\n",
       "<style>\n",
       "    .dataframe thead tr:only-child th {\n",
       "        text-align: right;\n",
       "    }\n",
       "\n",
       "    .dataframe thead th {\n",
       "        text-align: left;\n",
       "    }\n",
       "\n",
       "    .dataframe tbody tr th {\n",
       "        vertical-align: top;\n",
       "    }\n",
       "</style>\n",
       "<table border=\"1\" class=\"dataframe\">\n",
       "  <thead>\n",
       "    <tr style=\"text-align: right;\">\n",
       "      <th></th>\n",
       "      <th>h_kda_ratio_A</th>\n",
       "      <th>kda_ratio_Avg</th>\n",
       "      <th>WinRat</th>\n",
       "      <th>h_WinRat</th>\n",
       "      <th>Intr</th>\n",
       "      <th>num_games</th>\n",
       "      <th>kda_ratio_Avg</th>\n",
       "      <th>primary_attr</th>\n",
       "      <th>attack_type</th>\n",
       "      <th>roles</th>\n",
       "      <th>...</th>\n",
       "      <th>base_strength</th>\n",
       "      <th>base_agility</th>\n",
       "      <th>strength_gain</th>\n",
       "      <th>agility_gain</th>\n",
       "      <th>attack_range</th>\n",
       "      <th>attack_rate</th>\n",
       "      <th>turn_rate</th>\n",
       "      <th>h_kda_ratio_A</th>\n",
       "      <th>h_num_wins_A</th>\n",
       "      <th>h_num_games_A</th>\n",
       "    </tr>\n",
       "    <tr>\n",
       "      <th>user_id</th>\n",
       "      <th></th>\n",
       "      <th></th>\n",
       "      <th></th>\n",
       "      <th></th>\n",
       "      <th></th>\n",
       "      <th></th>\n",
       "      <th></th>\n",
       "      <th></th>\n",
       "      <th></th>\n",
       "      <th></th>\n",
       "      <th></th>\n",
       "      <th></th>\n",
       "      <th></th>\n",
       "      <th></th>\n",
       "      <th></th>\n",
       "      <th></th>\n",
       "      <th></th>\n",
       "      <th></th>\n",
       "      <th></th>\n",
       "      <th></th>\n",
       "      <th></th>\n",
       "    </tr>\n",
       "  </thead>\n",
       "  <tbody>\n",
       "    <tr>\n",
       "      <th>1</th>\n",
       "      <td>3766.720531</td>\n",
       "      <td>3857.506249</td>\n",
       "      <td>0.622724</td>\n",
       "      <td>0.568818</td>\n",
       "      <td>1.453015e+07</td>\n",
       "      <td>201</td>\n",
       "      <td>3857.506249</td>\n",
       "      <td>agi</td>\n",
       "      <td>Melee</td>\n",
       "      <td>Carry:Initiator:Disabler:Escape:Durable</td>\n",
       "      <td>...</td>\n",
       "      <td>23</td>\n",
       "      <td>23</td>\n",
       "      <td>2.1</td>\n",
       "      <td>2.8</td>\n",
       "      <td>150</td>\n",
       "      <td>1.7</td>\n",
       "      <td>1.0</td>\n",
       "      <td>3766.720531</td>\n",
       "      <td>77.258993</td>\n",
       "      <td>135.823741</td>\n",
       "    </tr>\n",
       "    <tr>\n",
       "      <th>2</th>\n",
       "      <td>3964.276777</td>\n",
       "      <td>2857.903926</td>\n",
       "      <td>0.539620</td>\n",
       "      <td>0.591477</td>\n",
       "      <td>1.132952e+07</td>\n",
       "      <td>427</td>\n",
       "      <td>2857.903926</td>\n",
       "      <td>int</td>\n",
       "      <td>Ranged</td>\n",
       "      <td>Carry:Escape:Nuker:Initiator:Disabler</td>\n",
       "      <td>...</td>\n",
       "      <td>19</td>\n",
       "      <td>22</td>\n",
       "      <td>1.8</td>\n",
       "      <td>1.5</td>\n",
       "      <td>480</td>\n",
       "      <td>1.7</td>\n",
       "      <td>0.8</td>\n",
       "      <td>3964.276777</td>\n",
       "      <td>119.347942</td>\n",
       "      <td>201.779548</td>\n",
       "    </tr>\n",
       "    <tr>\n",
       "      <th>5</th>\n",
       "      <td>4678.101919</td>\n",
       "      <td>4194.043231</td>\n",
       "      <td>0.582617</td>\n",
       "      <td>0.580832</td>\n",
       "      <td>1.962016e+07</td>\n",
       "      <td>240</td>\n",
       "      <td>4194.043231</td>\n",
       "      <td>agi</td>\n",
       "      <td>Melee</td>\n",
       "      <td>Carry:Escape:Nuker:Disabler:Initiator</td>\n",
       "      <td>...</td>\n",
       "      <td>19</td>\n",
       "      <td>22</td>\n",
       "      <td>2.1</td>\n",
       "      <td>1.8</td>\n",
       "      <td>150</td>\n",
       "      <td>1.7</td>\n",
       "      <td>0.5</td>\n",
       "      <td>4678.101919</td>\n",
       "      <td>98.100917</td>\n",
       "      <td>168.897248</td>\n",
       "    </tr>\n",
       "    <tr>\n",
       "      <th>6</th>\n",
       "      <td>3747.512801</td>\n",
       "      <td>3886.190698</td>\n",
       "      <td>0.565697</td>\n",
       "      <td>0.561451</td>\n",
       "      <td>1.456355e+07</td>\n",
       "      <td>206</td>\n",
       "      <td>3886.190698</td>\n",
       "      <td>int</td>\n",
       "      <td>Ranged</td>\n",
       "      <td>Initiator:Jungler:Disabler:Escape</td>\n",
       "      <td>...</td>\n",
       "      <td>23</td>\n",
       "      <td>15</td>\n",
       "      <td>2.7</td>\n",
       "      <td>1.5</td>\n",
       "      <td>375</td>\n",
       "      <td>1.7</td>\n",
       "      <td>1.0</td>\n",
       "      <td>3747.512801</td>\n",
       "      <td>99.785124</td>\n",
       "      <td>177.727273</td>\n",
       "    </tr>\n",
       "    <tr>\n",
       "      <th>7</th>\n",
       "      <td>3091.711347</td>\n",
       "      <td>2989.278882</td>\n",
       "      <td>0.544568</td>\n",
       "      <td>0.557031</td>\n",
       "      <td>9.241987e+06</td>\n",
       "      <td>697</td>\n",
       "      <td>2989.278882</td>\n",
       "      <td>str</td>\n",
       "      <td>Melee</td>\n",
       "      <td>Carry:Disabler:Initiator:Durable:Nuker</td>\n",
       "      <td>...</td>\n",
       "      <td>26</td>\n",
       "      <td>11</td>\n",
       "      <td>3.5</td>\n",
       "      <td>0.9</td>\n",
       "      <td>150</td>\n",
       "      <td>2.0</td>\n",
       "      <td>0.5</td>\n",
       "      <td>3091.711347</td>\n",
       "      <td>83.211111</td>\n",
       "      <td>149.383333</td>\n",
       "    </tr>\n",
       "  </tbody>\n",
       "</table>\n",
       "<p>5 rows × 22 columns</p>\n",
       "</div>"
      ],
      "text/plain": [
       "         h_kda_ratio_A  kda_ratio_Avg    WinRat  h_WinRat          Intr  \\\n",
       "user_id                                                                   \n",
       "1          3766.720531    3857.506249  0.622724  0.568818  1.453015e+07   \n",
       "2          3964.276777    2857.903926  0.539620  0.591477  1.132952e+07   \n",
       "5          4678.101919    4194.043231  0.582617  0.580832  1.962016e+07   \n",
       "6          3747.512801    3886.190698  0.565697  0.561451  1.456355e+07   \n",
       "7          3091.711347    2989.278882  0.544568  0.557031  9.241987e+06   \n",
       "\n",
       "         num_games  kda_ratio_Avg primary_attr attack_type  \\\n",
       "user_id                                                      \n",
       "1              201    3857.506249          agi       Melee   \n",
       "2              427    2857.903926          int      Ranged   \n",
       "5              240    4194.043231          agi       Melee   \n",
       "6              206    3886.190698          int      Ranged   \n",
       "7              697    2989.278882          str       Melee   \n",
       "\n",
       "                                           roles      ...        \\\n",
       "user_id                                               ...         \n",
       "1        Carry:Initiator:Disabler:Escape:Durable      ...         \n",
       "2          Carry:Escape:Nuker:Initiator:Disabler      ...         \n",
       "5          Carry:Escape:Nuker:Disabler:Initiator      ...         \n",
       "6              Initiator:Jungler:Disabler:Escape      ...         \n",
       "7         Carry:Disabler:Initiator:Durable:Nuker      ...         \n",
       "\n",
       "         base_strength  base_agility  strength_gain  agility_gain  \\\n",
       "user_id                                                             \n",
       "1                   23            23            2.1           2.8   \n",
       "2                   19            22            1.8           1.5   \n",
       "5                   19            22            2.1           1.8   \n",
       "6                   23            15            2.7           1.5   \n",
       "7                   26            11            3.5           0.9   \n",
       "\n",
       "         attack_range  attack_rate  turn_rate  h_kda_ratio_A  h_num_wins_A  \\\n",
       "user_id                                                                      \n",
       "1                 150          1.7        1.0    3766.720531     77.258993   \n",
       "2                 480          1.7        0.8    3964.276777    119.347942   \n",
       "5                 150          1.7        0.5    4678.101919     98.100917   \n",
       "6                 375          1.7        1.0    3747.512801     99.785124   \n",
       "7                 150          2.0        0.5    3091.711347     83.211111   \n",
       "\n",
       "         h_num_games_A  \n",
       "user_id                 \n",
       "1           135.823741  \n",
       "2           201.779548  \n",
       "5           168.897248  \n",
       "6           177.727273  \n",
       "7           149.383333  \n",
       "\n",
       "[5 rows x 22 columns]"
      ]
     },
     "execution_count": 598,
     "metadata": {},
     "output_type": "execute_result"
    }
   ],
   "source": [
    "AnnTrain1.head()"
   ]
  },
  {
   "cell_type": "code",
   "execution_count": 555,
   "metadata": {},
   "outputs": [
    {
     "data": {
      "text/html": [
       "<div>\n",
       "<style>\n",
       "    .dataframe thead tr:only-child th {\n",
       "        text-align: right;\n",
       "    }\n",
       "\n",
       "    .dataframe thead th {\n",
       "        text-align: left;\n",
       "    }\n",
       "\n",
       "    .dataframe tbody tr th {\n",
       "        vertical-align: top;\n",
       "    }\n",
       "</style>\n",
       "<table border=\"1\" class=\"dataframe\">\n",
       "  <thead>\n",
       "    <tr style=\"text-align: right;\">\n",
       "      <th></th>\n",
       "      <th>primary_attr</th>\n",
       "      <th>attack_type</th>\n",
       "      <th>roles</th>\n",
       "      <th>base_health_regen</th>\n",
       "      <th>base_armor</th>\n",
       "      <th>base_strength</th>\n",
       "      <th>base_agility</th>\n",
       "      <th>strength_gain</th>\n",
       "      <th>agility_gain</th>\n",
       "      <th>attack_range</th>\n",
       "      <th>attack_rate</th>\n",
       "      <th>turn_rate</th>\n",
       "      <th>h_kda_ratio_A</th>\n",
       "      <th>h_num_wins_A</th>\n",
       "      <th>h_num_games_A</th>\n",
       "    </tr>\n",
       "    <tr>\n",
       "      <th>user_id</th>\n",
       "      <th></th>\n",
       "      <th></th>\n",
       "      <th></th>\n",
       "      <th></th>\n",
       "      <th></th>\n",
       "      <th></th>\n",
       "      <th></th>\n",
       "      <th></th>\n",
       "      <th></th>\n",
       "      <th></th>\n",
       "      <th></th>\n",
       "      <th></th>\n",
       "      <th></th>\n",
       "      <th></th>\n",
       "      <th></th>\n",
       "    </tr>\n",
       "  </thead>\n",
       "  <tbody>\n",
       "    <tr>\n",
       "      <th>1</th>\n",
       "      <td>agi</td>\n",
       "      <td>Melee</td>\n",
       "      <td>Carry:Initiator:Disabler:Escape:Durable</td>\n",
       "      <td>2.00</td>\n",
       "      <td>0.0</td>\n",
       "      <td>23</td>\n",
       "      <td>23</td>\n",
       "      <td>2.1</td>\n",
       "      <td>2.8</td>\n",
       "      <td>150</td>\n",
       "      <td>1.7</td>\n",
       "      <td>1.0</td>\n",
       "      <td>3766.720531</td>\n",
       "      <td>77.258993</td>\n",
       "      <td>135.823741</td>\n",
       "    </tr>\n",
       "    <tr>\n",
       "      <th>2</th>\n",
       "      <td>int</td>\n",
       "      <td>Ranged</td>\n",
       "      <td>Carry:Escape:Nuker:Initiator:Disabler</td>\n",
       "      <td>1.50</td>\n",
       "      <td>2.0</td>\n",
       "      <td>19</td>\n",
       "      <td>22</td>\n",
       "      <td>1.8</td>\n",
       "      <td>1.5</td>\n",
       "      <td>480</td>\n",
       "      <td>1.7</td>\n",
       "      <td>0.8</td>\n",
       "      <td>3964.276777</td>\n",
       "      <td>119.347942</td>\n",
       "      <td>201.779548</td>\n",
       "    </tr>\n",
       "    <tr>\n",
       "      <th>5</th>\n",
       "      <td>agi</td>\n",
       "      <td>Melee</td>\n",
       "      <td>Carry:Escape:Nuker:Disabler:Initiator</td>\n",
       "      <td>2.00</td>\n",
       "      <td>-2.0</td>\n",
       "      <td>19</td>\n",
       "      <td>22</td>\n",
       "      <td>2.1</td>\n",
       "      <td>1.8</td>\n",
       "      <td>150</td>\n",
       "      <td>1.7</td>\n",
       "      <td>0.5</td>\n",
       "      <td>4678.101919</td>\n",
       "      <td>98.100917</td>\n",
       "      <td>168.897248</td>\n",
       "    </tr>\n",
       "    <tr>\n",
       "      <th>6</th>\n",
       "      <td>int</td>\n",
       "      <td>Ranged</td>\n",
       "      <td>Initiator:Jungler:Disabler:Escape</td>\n",
       "      <td>3.25</td>\n",
       "      <td>0.0</td>\n",
       "      <td>23</td>\n",
       "      <td>15</td>\n",
       "      <td>2.7</td>\n",
       "      <td>1.5</td>\n",
       "      <td>375</td>\n",
       "      <td>1.7</td>\n",
       "      <td>1.0</td>\n",
       "      <td>3747.512801</td>\n",
       "      <td>99.785124</td>\n",
       "      <td>177.727273</td>\n",
       "    </tr>\n",
       "    <tr>\n",
       "      <th>7</th>\n",
       "      <td>str</td>\n",
       "      <td>Melee</td>\n",
       "      <td>Carry:Disabler:Initiator:Durable:Nuker</td>\n",
       "      <td>1.50</td>\n",
       "      <td>-1.0</td>\n",
       "      <td>26</td>\n",
       "      <td>11</td>\n",
       "      <td>3.5</td>\n",
       "      <td>0.9</td>\n",
       "      <td>150</td>\n",
       "      <td>2.0</td>\n",
       "      <td>0.5</td>\n",
       "      <td>3091.711347</td>\n",
       "      <td>83.211111</td>\n",
       "      <td>149.383333</td>\n",
       "    </tr>\n",
       "  </tbody>\n",
       "</table>\n",
       "</div>"
      ],
      "text/plain": [
       "        primary_attr attack_type                                    roles  \\\n",
       "user_id                                                                     \n",
       "1                agi       Melee  Carry:Initiator:Disabler:Escape:Durable   \n",
       "2                int      Ranged    Carry:Escape:Nuker:Initiator:Disabler   \n",
       "5                agi       Melee    Carry:Escape:Nuker:Disabler:Initiator   \n",
       "6                int      Ranged        Initiator:Jungler:Disabler:Escape   \n",
       "7                str       Melee   Carry:Disabler:Initiator:Durable:Nuker   \n",
       "\n",
       "         base_health_regen  base_armor  base_strength  base_agility  \\\n",
       "user_id                                                               \n",
       "1                     2.00         0.0             23            23   \n",
       "2                     1.50         2.0             19            22   \n",
       "5                     2.00        -2.0             19            22   \n",
       "6                     3.25         0.0             23            15   \n",
       "7                     1.50        -1.0             26            11   \n",
       "\n",
       "         strength_gain  agility_gain  attack_range  attack_rate  turn_rate  \\\n",
       "user_id                                                                      \n",
       "1                  2.1           2.8           150          1.7        1.0   \n",
       "2                  1.8           1.5           480          1.7        0.8   \n",
       "5                  2.1           1.8           150          1.7        0.5   \n",
       "6                  2.7           1.5           375          1.7        1.0   \n",
       "7                  3.5           0.9           150          2.0        0.5   \n",
       "\n",
       "         h_kda_ratio_A  h_num_wins_A  h_num_games_A  \n",
       "user_id                                              \n",
       "1          3766.720531     77.258993     135.823741  \n",
       "2          3964.276777    119.347942     201.779548  \n",
       "5          4678.101919     98.100917     168.897248  \n",
       "6          3747.512801     99.785124     177.727273  \n",
       "7          3091.711347     83.211111     149.383333  "
      ]
     },
     "execution_count": 555,
     "metadata": {},
     "output_type": "execute_result"
    }
   ],
   "source": [
    "AnnTrain.iloc[0:5,7:]"
   ]
  },
  {
   "cell_type": "code",
   "execution_count": null,
   "metadata": {
    "collapsed": true
   },
   "outputs": [],
   "source": [
    "AnnTrFin=pd.(AnnTrain ['primary_attr','attack_type','roles']"
   ]
  },
  {
   "cell_type": "code",
   "execution_count": 561,
   "metadata": {
    "collapsed": true
   },
   "outputs": [],
   "source": []
  },
  {
   "cell_type": "code",
   "execution_count": 599,
   "metadata": {
    "collapsed": true
   },
   "outputs": [],
   "source": [
    "#train_data.roles"
   ]
  },
  {
   "cell_type": "code",
   "execution_count": 571,
   "metadata": {},
   "outputs": [
    {
     "data": {
      "text/html": [
       "<div>\n",
       "<style>\n",
       "    .dataframe thead tr:only-child th {\n",
       "        text-align: right;\n",
       "    }\n",
       "\n",
       "    .dataframe thead th {\n",
       "        text-align: left;\n",
       "    }\n",
       "\n",
       "    .dataframe tbody tr th {\n",
       "        vertical-align: top;\n",
       "    }\n",
       "</style>\n",
       "<table border=\"1\" class=\"dataframe\">\n",
       "  <thead>\n",
       "    <tr style=\"text-align: right;\">\n",
       "      <th></th>\n",
       "      <th>h_kda_ratio_A</th>\n",
       "      <th>kda_ratio_Avg</th>\n",
       "      <th>WinR</th>\n",
       "      <th>h_WinRat</th>\n",
       "      <th>Intr</th>\n",
       "      <th>num_games</th>\n",
       "      <th>kda_ratio_Avg</th>\n",
       "      <th>base_health_regen</th>\n",
       "      <th>base_armor</th>\n",
       "      <th>base_strength</th>\n",
       "      <th>...</th>\n",
       "      <th>roles_Support:Jungler:Pusher:Durable:Disabler</th>\n",
       "      <th>roles_Support:Nuker</th>\n",
       "      <th>roles_Support:Nuker:Disabler</th>\n",
       "      <th>roles_Support:Nuker:Disabler:Escape</th>\n",
       "      <th>roles_Support:Nuker:Disabler:Jungler</th>\n",
       "      <th>roles_Support:Nuker:Durable:Disabler:Pusher</th>\n",
       "      <th>roles_Support:Nuker:Initiator:Escape:Disabler</th>\n",
       "      <th>roles_Support:Nuker:Initiator:Pusher:Disabler</th>\n",
       "      <th>roles_Support:Nuker:Pusher:Disabler</th>\n",
       "      <th>roles_Support:Pusher:Disabler:Nuker:Initiator</th>\n",
       "    </tr>\n",
       "    <tr>\n",
       "      <th>user_id</th>\n",
       "      <th></th>\n",
       "      <th></th>\n",
       "      <th></th>\n",
       "      <th></th>\n",
       "      <th></th>\n",
       "      <th></th>\n",
       "      <th></th>\n",
       "      <th></th>\n",
       "      <th></th>\n",
       "      <th></th>\n",
       "      <th></th>\n",
       "      <th></th>\n",
       "      <th></th>\n",
       "      <th></th>\n",
       "      <th></th>\n",
       "      <th></th>\n",
       "      <th></th>\n",
       "      <th></th>\n",
       "      <th></th>\n",
       "      <th></th>\n",
       "      <th></th>\n",
       "    </tr>\n",
       "  </thead>\n",
       "  <tbody>\n",
       "    <tr>\n",
       "      <th>3</th>\n",
       "      <td>2819.365897</td>\n",
       "      <td>3096.586034</td>\n",
       "      <td>0.523810</td>\n",
       "      <td>0.531694</td>\n",
       "      <td>8.730409e+06</td>\n",
       "      <td>278</td>\n",
       "      <td>3096.586034</td>\n",
       "      <td>1.5</td>\n",
       "      <td>1.0</td>\n",
       "      <td>19</td>\n",
       "      <td>...</td>\n",
       "      <td>0</td>\n",
       "      <td>0</td>\n",
       "      <td>0</td>\n",
       "      <td>0</td>\n",
       "      <td>0</td>\n",
       "      <td>0</td>\n",
       "      <td>0</td>\n",
       "      <td>0</td>\n",
       "      <td>0</td>\n",
       "      <td>0</td>\n",
       "    </tr>\n",
       "    <tr>\n",
       "      <th>4</th>\n",
       "      <td>3877.040837</td>\n",
       "      <td>3156.761161</td>\n",
       "      <td>0.580703</td>\n",
       "      <td>0.593685</td>\n",
       "      <td>1.223889e+07</td>\n",
       "      <td>180</td>\n",
       "      <td>3156.761161</td>\n",
       "      <td>1.5</td>\n",
       "      <td>2.0</td>\n",
       "      <td>19</td>\n",
       "      <td>...</td>\n",
       "      <td>0</td>\n",
       "      <td>0</td>\n",
       "      <td>0</td>\n",
       "      <td>0</td>\n",
       "      <td>0</td>\n",
       "      <td>0</td>\n",
       "      <td>0</td>\n",
       "      <td>0</td>\n",
       "      <td>0</td>\n",
       "      <td>0</td>\n",
       "    </tr>\n",
       "    <tr>\n",
       "      <th>9</th>\n",
       "      <td>3244.835129</td>\n",
       "      <td>3022.862616</td>\n",
       "      <td>0.581547</td>\n",
       "      <td>0.566366</td>\n",
       "      <td>9.808691e+06</td>\n",
       "      <td>70</td>\n",
       "      <td>3022.862616</td>\n",
       "      <td>1.5</td>\n",
       "      <td>0.0</td>\n",
       "      <td>26</td>\n",
       "      <td>...</td>\n",
       "      <td>0</td>\n",
       "      <td>0</td>\n",
       "      <td>0</td>\n",
       "      <td>0</td>\n",
       "      <td>0</td>\n",
       "      <td>0</td>\n",
       "      <td>0</td>\n",
       "      <td>0</td>\n",
       "      <td>0</td>\n",
       "      <td>0</td>\n",
       "    </tr>\n",
       "    <tr>\n",
       "      <th>10</th>\n",
       "      <td>4146.573723</td>\n",
       "      <td>4013.320345</td>\n",
       "      <td>0.563485</td>\n",
       "      <td>0.564234</td>\n",
       "      <td>1.664153e+07</td>\n",
       "      <td>189</td>\n",
       "      <td>4013.320345</td>\n",
       "      <td>1.5</td>\n",
       "      <td>-1.0</td>\n",
       "      <td>25</td>\n",
       "      <td>...</td>\n",
       "      <td>0</td>\n",
       "      <td>0</td>\n",
       "      <td>0</td>\n",
       "      <td>0</td>\n",
       "      <td>0</td>\n",
       "      <td>0</td>\n",
       "      <td>0</td>\n",
       "      <td>0</td>\n",
       "      <td>0</td>\n",
       "      <td>0</td>\n",
       "    </tr>\n",
       "    <tr>\n",
       "      <th>15</th>\n",
       "      <td>3894.772519</td>\n",
       "      <td>4765.059940</td>\n",
       "      <td>0.553152</td>\n",
       "      <td>0.557694</td>\n",
       "      <td>1.855882e+07</td>\n",
       "      <td>263</td>\n",
       "      <td>4765.059940</td>\n",
       "      <td>1.5</td>\n",
       "      <td>-1.0</td>\n",
       "      <td>16</td>\n",
       "      <td>...</td>\n",
       "      <td>0</td>\n",
       "      <td>0</td>\n",
       "      <td>0</td>\n",
       "      <td>0</td>\n",
       "      <td>0</td>\n",
       "      <td>0</td>\n",
       "      <td>0</td>\n",
       "      <td>0</td>\n",
       "      <td>0</td>\n",
       "      <td>0</td>\n",
       "    </tr>\n",
       "  </tbody>\n",
       "</table>\n",
       "<p>5 rows × 110 columns</p>\n",
       "</div>"
      ],
      "text/plain": [
       "         h_kda_ratio_A  kda_ratio_Avg      WinR  h_WinRat          Intr  \\\n",
       "user_id                                                                   \n",
       "3          2819.365897    3096.586034  0.523810  0.531694  8.730409e+06   \n",
       "4          3877.040837    3156.761161  0.580703  0.593685  1.223889e+07   \n",
       "9          3244.835129    3022.862616  0.581547  0.566366  9.808691e+06   \n",
       "10         4146.573723    4013.320345  0.563485  0.564234  1.664153e+07   \n",
       "15         3894.772519    4765.059940  0.553152  0.557694  1.855882e+07   \n",
       "\n",
       "         num_games  kda_ratio_Avg  base_health_regen  base_armor  \\\n",
       "user_id                                                            \n",
       "3              278    3096.586034                1.5         1.0   \n",
       "4              180    3156.761161                1.5         2.0   \n",
       "9               70    3022.862616                1.5         0.0   \n",
       "10             189    4013.320345                1.5        -1.0   \n",
       "15             263    4765.059940                1.5        -1.0   \n",
       "\n",
       "         base_strength                      ...                        \\\n",
       "user_id                                     ...                         \n",
       "3                   19                      ...                         \n",
       "4                   19                      ...                         \n",
       "9                   26                      ...                         \n",
       "10                  25                      ...                         \n",
       "15                  16                      ...                         \n",
       "\n",
       "         roles_Support:Jungler:Pusher:Durable:Disabler  roles_Support:Nuker  \\\n",
       "user_id                                                                       \n",
       "3                                                    0                    0   \n",
       "4                                                    0                    0   \n",
       "9                                                    0                    0   \n",
       "10                                                   0                    0   \n",
       "15                                                   0                    0   \n",
       "\n",
       "         roles_Support:Nuker:Disabler  roles_Support:Nuker:Disabler:Escape  \\\n",
       "user_id                                                                      \n",
       "3                                   0                                    0   \n",
       "4                                   0                                    0   \n",
       "9                                   0                                    0   \n",
       "10                                  0                                    0   \n",
       "15                                  0                                    0   \n",
       "\n",
       "         roles_Support:Nuker:Disabler:Jungler  \\\n",
       "user_id                                         \n",
       "3                                           0   \n",
       "4                                           0   \n",
       "9                                           0   \n",
       "10                                          0   \n",
       "15                                          0   \n",
       "\n",
       "         roles_Support:Nuker:Durable:Disabler:Pusher  \\\n",
       "user_id                                                \n",
       "3                                                  0   \n",
       "4                                                  0   \n",
       "9                                                  0   \n",
       "10                                                 0   \n",
       "15                                                 0   \n",
       "\n",
       "         roles_Support:Nuker:Initiator:Escape:Disabler  \\\n",
       "user_id                                                  \n",
       "3                                                    0   \n",
       "4                                                    0   \n",
       "9                                                    0   \n",
       "10                                                   0   \n",
       "15                                                   0   \n",
       "\n",
       "         roles_Support:Nuker:Initiator:Pusher:Disabler  \\\n",
       "user_id                                                  \n",
       "3                                                    0   \n",
       "4                                                    0   \n",
       "9                                                    0   \n",
       "10                                                   0   \n",
       "15                                                   0   \n",
       "\n",
       "         roles_Support:Nuker:Pusher:Disabler  \\\n",
       "user_id                                        \n",
       "3                                          0   \n",
       "4                                          0   \n",
       "9                                          0   \n",
       "10                                         0   \n",
       "15                                         0   \n",
       "\n",
       "         roles_Support:Pusher:Disabler:Nuker:Initiator  \n",
       "user_id                                                 \n",
       "3                                                    0  \n",
       "4                                                    0  \n",
       "9                                                    0  \n",
       "10                                                   0  \n",
       "15                                                   0  \n",
       "\n",
       "[5 rows x 110 columns]"
      ]
     },
     "execution_count": 571,
     "metadata": {},
     "output_type": "execute_result"
    }
   ],
   "source": [
    "AnnTestFin.head()"
   ]
  },
  {
   "cell_type": "code",
   "execution_count": 562,
   "metadata": {
    "collapsed": true
   },
   "outputs": [],
   "source": [
    "AnnTestFin=pd.get_dummies(columns=['primary_attr','attack_type','roles'],data=AnnTest,drop_first='TRUE')"
   ]
  },
  {
   "cell_type": "code",
   "execution_count": 569,
   "metadata": {},
   "outputs": [
    {
     "data": {
      "text/plain": [
       "(898, 110)"
      ]
     },
     "execution_count": 569,
     "metadata": {},
     "output_type": "execute_result"
    }
   ],
   "source": [
    "AnnTestFin.shape"
   ]
  },
  {
   "cell_type": "code",
   "execution_count": 636,
   "metadata": {},
   "outputs": [
    {
     "data": {
      "text/plain": [
       "(2093, 120)"
      ]
     },
     "execution_count": 636,
     "metadata": {},
     "output_type": "execute_result"
    }
   ],
   "source": [
    "train_daUpd.shape"
   ]
  },
  {
   "cell_type": "code",
   "execution_count": 640,
   "metadata": {
    "collapsed": true
   },
   "outputs": [],
   "source": [
    "test_dataFin=test_dataUp\n",
    "train_dataFin=train_daUpd\n"
   ]
  },
  {
   "cell_type": "code",
   "execution_count": 725,
   "metadata": {
    "collapsed": true
   },
   "outputs": [],
   "source": [
    "tr_clean=pd.get_dummies(columns=['primary_attr','attack_type'],data=AnnTrain,drop_first='TRUE')"
   ]
  },
  {
   "cell_type": "code",
   "execution_count": 726,
   "metadata": {
    "collapsed": true
   },
   "outputs": [],
   "source": [
    "tst_clean=pd.get_dummies(columns=['primary_attr','attack_type'],data=AnnTest,drop_first='TRUE')"
   ]
  },
  {
   "cell_type": "code",
   "execution_count": 727,
   "metadata": {
    "collapsed": true
   },
   "outputs": [],
   "source": [
    "tr_clean['Intr']=tr_clean.kda_ratio_Avg*tr_clean.h_kda_ratio_A"
   ]
  },
  {
   "cell_type": "code",
   "execution_count": 728,
   "metadata": {
    "collapsed": true
   },
   "outputs": [],
   "source": [
    "tst_clean['Intr']=tst_clean.kda_ratio_Avg*tst_clean.h_kda_ratio_A"
   ]
  },
  {
   "cell_type": "code",
   "execution_count": 724,
   "metadata": {
    "collapsed": true
   },
   "outputs": [],
   "source": [
    "#"
   ]
  },
  {
   "cell_type": "code",
   "execution_count": 729,
   "metadata": {},
   "outputs": [
    {
     "data": {
      "text/plain": [
       "(898, 22)"
      ]
     },
     "execution_count": 729,
     "metadata": {},
     "output_type": "execute_result"
    }
   ],
   "source": [
    "tst_clean.shape"
   ]
  },
  {
   "cell_type": "code",
   "execution_count": 731,
   "metadata": {},
   "outputs": [
    {
     "data": {
      "text/plain": [
       "(2093, 22)"
      ]
     },
     "execution_count": 731,
     "metadata": {},
     "output_type": "execute_result"
    }
   ],
   "source": []
  },
  {
   "cell_type": "code",
   "execution_count": 720,
   "metadata": {
    "collapsed": true
   },
   "outputs": [],
   "source": [
    "AnnTrain=train_data.filter(['kda_ratio_Avg','WinRat','h_WinRat',\"num_games\",\"num_wins_Avg\",\"num_games_Avg\"        \n",
    ",\"base_health_regen\",\"base_armor\",\"base_strength\",\"base_agility\",\"strength_gain\",\"agility_gain\",\"attack_range\",\"attack_rate\",\"turn_rate\"         \n",
    ",\"h_kda_ratio_A\",\"h_num_wins_A\",\"h_num_games_A\",'primary_attr','attack_type'])"
   ]
  },
  {
   "cell_type": "code",
   "execution_count": 721,
   "metadata": {},
   "outputs": [
    {
     "data": {
      "text/plain": [
       "(2093, 20)"
      ]
     },
     "execution_count": 721,
     "metadata": {},
     "output_type": "execute_result"
    }
   ],
   "source": [
    "AnnTrain.shape"
   ]
  },
  {
   "cell_type": "code",
   "execution_count": 723,
   "metadata": {},
   "outputs": [
    {
     "data": {
      "text/plain": [
       "(898, 20)"
      ]
     },
     "execution_count": 723,
     "metadata": {},
     "output_type": "execute_result"
    }
   ],
   "source": [
    "AnnTest.shape"
   ]
  },
  {
   "cell_type": "code",
   "execution_count": 722,
   "metadata": {
    "collapsed": true
   },
   "outputs": [],
   "source": [
    "AnnTest=test_data.filter(['kda_ratio_Avg','WinR','h_WinRat',\"num_games\",\"num_wins_Avg\",\"num_games_Avg\"        \n",
    ",\"base_health_regen\",\"base_armor\",\"base_strength\",\"base_agility\",\"strength_gain\",\"agility_gain\",\"attack_range\",\"attack_rate\",\"turn_rate\"         \n",
    ",\"h_kda_ratio_A\",\"h_num_wins_A\",\"h_num_games_A\",'primary_attr','attack_type'])"
   ]
  },
  {
   "cell_type": "code",
   "execution_count": 744,
   "metadata": {},
   "outputs": [
    {
     "data": {
      "text/html": [
       "<div>\n",
       "<style>\n",
       "    .dataframe thead tr:only-child th {\n",
       "        text-align: right;\n",
       "    }\n",
       "\n",
       "    .dataframe thead th {\n",
       "        text-align: left;\n",
       "    }\n",
       "\n",
       "    .dataframe tbody tr th {\n",
       "        vertical-align: top;\n",
       "    }\n",
       "</style>\n",
       "<table border=\"1\" class=\"dataframe\">\n",
       "  <thead>\n",
       "    <tr style=\"text-align: right;\">\n",
       "      <th></th>\n",
       "      <th>kda_ratio_Avg</th>\n",
       "      <th>WinRat</th>\n",
       "      <th>h_WinRat</th>\n",
       "      <th>num_games</th>\n",
       "      <th>num_wins_Avg</th>\n",
       "      <th>num_games_Avg</th>\n",
       "      <th>base_health_regen</th>\n",
       "      <th>base_armor</th>\n",
       "      <th>base_strength</th>\n",
       "      <th>base_agility</th>\n",
       "      <th>...</th>\n",
       "      <th>attack_range</th>\n",
       "      <th>attack_rate</th>\n",
       "      <th>turn_rate</th>\n",
       "      <th>h_kda_ratio_A</th>\n",
       "      <th>h_num_wins_A</th>\n",
       "      <th>h_num_games_A</th>\n",
       "      <th>primary_attr_int</th>\n",
       "      <th>primary_attr_str</th>\n",
       "      <th>attack_type_Ranged</th>\n",
       "      <th>Intr</th>\n",
       "    </tr>\n",
       "    <tr>\n",
       "      <th>user_id</th>\n",
       "      <th></th>\n",
       "      <th></th>\n",
       "      <th></th>\n",
       "      <th></th>\n",
       "      <th></th>\n",
       "      <th></th>\n",
       "      <th></th>\n",
       "      <th></th>\n",
       "      <th></th>\n",
       "      <th></th>\n",
       "      <th></th>\n",
       "      <th></th>\n",
       "      <th></th>\n",
       "      <th></th>\n",
       "      <th></th>\n",
       "      <th></th>\n",
       "      <th></th>\n",
       "      <th></th>\n",
       "      <th></th>\n",
       "      <th></th>\n",
       "      <th></th>\n",
       "    </tr>\n",
       "  </thead>\n",
       "  <tbody>\n",
       "    <tr>\n",
       "      <th>1</th>\n",
       "      <td>3857.506249</td>\n",
       "      <td>0.622724</td>\n",
       "      <td>0.568818</td>\n",
       "      <td>201</td>\n",
       "      <td>110.222222</td>\n",
       "      <td>177.000000</td>\n",
       "      <td>2.00</td>\n",
       "      <td>0.0</td>\n",
       "      <td>23</td>\n",
       "      <td>23</td>\n",
       "      <td>...</td>\n",
       "      <td>150</td>\n",
       "      <td>1.7</td>\n",
       "      <td>1.0</td>\n",
       "      <td>3766.720531</td>\n",
       "      <td>77.258993</td>\n",
       "      <td>135.823741</td>\n",
       "      <td>0</td>\n",
       "      <td>0</td>\n",
       "      <td>0</td>\n",
       "      <td>1.453015e+07</td>\n",
       "    </tr>\n",
       "    <tr>\n",
       "      <th>2</th>\n",
       "      <td>2857.903926</td>\n",
       "      <td>0.539620</td>\n",
       "      <td>0.591477</td>\n",
       "      <td>427</td>\n",
       "      <td>183.111111</td>\n",
       "      <td>339.333333</td>\n",
       "      <td>1.50</td>\n",
       "      <td>2.0</td>\n",
       "      <td>19</td>\n",
       "      <td>22</td>\n",
       "      <td>...</td>\n",
       "      <td>480</td>\n",
       "      <td>1.7</td>\n",
       "      <td>0.8</td>\n",
       "      <td>3964.276777</td>\n",
       "      <td>119.347942</td>\n",
       "      <td>201.779548</td>\n",
       "      <td>1</td>\n",
       "      <td>0</td>\n",
       "      <td>1</td>\n",
       "      <td>1.132952e+07</td>\n",
       "    </tr>\n",
       "    <tr>\n",
       "      <th>5</th>\n",
       "      <td>4194.043231</td>\n",
       "      <td>0.582617</td>\n",
       "      <td>0.580832</td>\n",
       "      <td>240</td>\n",
       "      <td>128.111111</td>\n",
       "      <td>219.888889</td>\n",
       "      <td>2.00</td>\n",
       "      <td>-2.0</td>\n",
       "      <td>19</td>\n",
       "      <td>22</td>\n",
       "      <td>...</td>\n",
       "      <td>150</td>\n",
       "      <td>1.7</td>\n",
       "      <td>0.5</td>\n",
       "      <td>4678.101919</td>\n",
       "      <td>98.100917</td>\n",
       "      <td>168.897248</td>\n",
       "      <td>0</td>\n",
       "      <td>0</td>\n",
       "      <td>0</td>\n",
       "      <td>1.962016e+07</td>\n",
       "    </tr>\n",
       "    <tr>\n",
       "      <th>6</th>\n",
       "      <td>3886.190698</td>\n",
       "      <td>0.565697</td>\n",
       "      <td>0.561451</td>\n",
       "      <td>206</td>\n",
       "      <td>125.333333</td>\n",
       "      <td>221.555556</td>\n",
       "      <td>3.25</td>\n",
       "      <td>0.0</td>\n",
       "      <td>23</td>\n",
       "      <td>15</td>\n",
       "      <td>...</td>\n",
       "      <td>375</td>\n",
       "      <td>1.7</td>\n",
       "      <td>1.0</td>\n",
       "      <td>3747.512801</td>\n",
       "      <td>99.785124</td>\n",
       "      <td>177.727273</td>\n",
       "      <td>1</td>\n",
       "      <td>0</td>\n",
       "      <td>1</td>\n",
       "      <td>1.456355e+07</td>\n",
       "    </tr>\n",
       "    <tr>\n",
       "      <th>7</th>\n",
       "      <td>2989.278882</td>\n",
       "      <td>0.544568</td>\n",
       "      <td>0.557031</td>\n",
       "      <td>697</td>\n",
       "      <td>353.666667</td>\n",
       "      <td>649.444444</td>\n",
       "      <td>1.50</td>\n",
       "      <td>-1.0</td>\n",
       "      <td>26</td>\n",
       "      <td>11</td>\n",
       "      <td>...</td>\n",
       "      <td>150</td>\n",
       "      <td>2.0</td>\n",
       "      <td>0.5</td>\n",
       "      <td>3091.711347</td>\n",
       "      <td>83.211111</td>\n",
       "      <td>149.383333</td>\n",
       "      <td>0</td>\n",
       "      <td>1</td>\n",
       "      <td>0</td>\n",
       "      <td>9.241987e+06</td>\n",
       "    </tr>\n",
       "  </tbody>\n",
       "</table>\n",
       "<p>5 rows × 22 columns</p>\n",
       "</div>"
      ],
      "text/plain": [
       "         kda_ratio_Avg    WinRat  h_WinRat  num_games  num_wins_Avg  \\\n",
       "user_id                                                               \n",
       "1          3857.506249  0.622724  0.568818        201    110.222222   \n",
       "2          2857.903926  0.539620  0.591477        427    183.111111   \n",
       "5          4194.043231  0.582617  0.580832        240    128.111111   \n",
       "6          3886.190698  0.565697  0.561451        206    125.333333   \n",
       "7          2989.278882  0.544568  0.557031        697    353.666667   \n",
       "\n",
       "         num_games_Avg  base_health_regen  base_armor  base_strength  \\\n",
       "user_id                                                                \n",
       "1           177.000000               2.00         0.0             23   \n",
       "2           339.333333               1.50         2.0             19   \n",
       "5           219.888889               2.00        -2.0             19   \n",
       "6           221.555556               3.25         0.0             23   \n",
       "7           649.444444               1.50        -1.0             26   \n",
       "\n",
       "         base_agility      ...       attack_range  attack_rate  turn_rate  \\\n",
       "user_id                    ...                                              \n",
       "1                  23      ...                150          1.7        1.0   \n",
       "2                  22      ...                480          1.7        0.8   \n",
       "5                  22      ...                150          1.7        0.5   \n",
       "6                  15      ...                375          1.7        1.0   \n",
       "7                  11      ...                150          2.0        0.5   \n",
       "\n",
       "         h_kda_ratio_A  h_num_wins_A  h_num_games_A  primary_attr_int  \\\n",
       "user_id                                                                 \n",
       "1          3766.720531     77.258993     135.823741                 0   \n",
       "2          3964.276777    119.347942     201.779548                 1   \n",
       "5          4678.101919     98.100917     168.897248                 0   \n",
       "6          3747.512801     99.785124     177.727273                 1   \n",
       "7          3091.711347     83.211111     149.383333                 0   \n",
       "\n",
       "         primary_attr_str  attack_type_Ranged          Intr  \n",
       "user_id                                                      \n",
       "1                       0                   0  1.453015e+07  \n",
       "2                       0                   1  1.132952e+07  \n",
       "5                       0                   0  1.962016e+07  \n",
       "6                       0                   1  1.456355e+07  \n",
       "7                       1                   0  9.241987e+06  \n",
       "\n",
       "[5 rows x 22 columns]"
      ]
     },
     "execution_count": 744,
     "metadata": {},
     "output_type": "execute_result"
    }
   ],
   "source": [
    "tr_clean.head()"
   ]
  },
  {
   "cell_type": "code",
   "execution_count": 895,
   "metadata": {
    "collapsed": true
   },
   "outputs": [],
   "source": [
    "BroTrain=tr_clean.filter(['Intr','kda_ratio_Avg','h_kda_ratio_A','WinRat','h_WinRat',\"primary_attr_int\",\"primary_attr_str\",\"attack_type_Ranged\"])"
   ]
  },
  {
   "cell_type": "code",
   "execution_count": 896,
   "metadata": {},
   "outputs": [
    {
     "data": {
      "text/plain": [
       "(2093, 8)"
      ]
     },
     "execution_count": 896,
     "metadata": {},
     "output_type": "execute_result"
    }
   ],
   "source": [
    "BroTrain.shape"
   ]
  },
  {
   "cell_type": "code",
   "execution_count": null,
   "metadata": {
    "collapsed": true
   },
   "outputs": [],
   "source": [
    "tr_clean.h_kda_ratio_A"
   ]
  },
  {
   "cell_type": "code",
   "execution_count": 746,
   "metadata": {
    "collapsed": true
   },
   "outputs": [],
   "source": [
    "Fine_test=tst_clean.filter(['Intr','WinRat','h_WinRat',\"num_games\",\"base_health_regen\",\"base_armor\",\"base_strength\",\"base_agility\",\"strength_gain\",\"agility_gain\",\"attack_range\",\"attack_rate\",\n",
    "                 \"turn_rate\",\"primary_attr_int\",\"primary_attr_str\",\"attack_type_Ranged\"])"
   ]
  },
  {
   "cell_type": "code",
   "execution_count": null,
   "metadata": {
    "collapsed": true
   },
   "outputs": [],
   "source": [
    "tr_clean."
   ]
  },
  {
   "cell_type": "code",
   "execution_count": 732,
   "metadata": {
    "collapsed": true
   },
   "outputs": [],
   "source": [
    "y=train_dataUp.kda_ratio"
   ]
  },
  {
   "cell_type": "code",
   "execution_count": 883,
   "metadata": {
    "collapsed": true
   },
   "outputs": [],
   "source": [
    "# Splitting the dataset into the Training set and Test set\n",
    "from sklearn.model_selection import train_test_split\n",
    "X_train, X_test, y_train, y_test = train_test_split(BroTrain,y, test_size = 0.2, random_state = 0)\n",
    "\n",
    "# Feature Scaling\n",
    "from sklearn.preprocessing import StandardScaler\n",
    "sc = StandardScaler()\n",
    "X_train = sc.fit_transform(X_train)"
   ]
  },
  {
   "cell_type": "code",
   "execution_count": 678,
   "metadata": {},
   "outputs": [
    {
     "data": {
      "text/plain": [
       "(2093, 19)"
      ]
     },
     "execution_count": 678,
     "metadata": {},
     "output_type": "execute_result"
    }
   ],
   "source": [
    "AnnTrain.shape"
   ]
  },
  {
   "cell_type": "code",
   "execution_count": 682,
   "metadata": {},
   "outputs": [
    {
     "data": {
      "text/plain": [
       "(898, 19)"
      ]
     },
     "execution_count": 682,
     "metadata": {},
     "output_type": "execute_result"
    }
   ],
   "source": [
    "AnnTest.shape"
   ]
  },
  {
   "cell_type": "code",
   "execution_count": 766,
   "metadata": {},
   "outputs": [
    {
     "data": {
      "text/plain": [
       "(1674, 22)"
      ]
     },
     "execution_count": 766,
     "metadata": {},
     "output_type": "execute_result"
    }
   ],
   "source": [
    "X_train.shape"
   ]
  },
  {
   "cell_type": "code",
   "execution_count": 39,
   "metadata": {},
   "outputs": [
    {
     "data": {
      "text/plain": [
       "(1675, 4)"
      ]
     },
     "execution_count": 39,
     "metadata": {},
     "output_type": "execute_result"
    }
   ],
   "source": [
    "X_train.shape"
   ]
  },
  {
   "cell_type": "code",
   "execution_count": 44,
   "metadata": {
    "collapsed": true
   },
   "outputs": [],
   "source": [
    "# Feature Scaling\n",
    "from sklearn.preprocessing import StandardScaler\n",
    "sc = StandardScaler()\n",
    "X_train = sc.fit_transform(X_train)\n",
    "X_test = sc.transform(X_test)"
   ]
  },
  {
   "cell_type": "code",
   "execution_count": 45,
   "metadata": {},
   "outputs": [
    {
     "name": "stderr",
     "output_type": "stream",
     "text": [
      "C:\\Users\\Mahavir\\Anaconda3\\lib\\site-packages\\ipykernel_launcher.py:5: UserWarning: Update your `Dense` call to the Keras 2 API: `Dense(activation=\"relu\", input_dim=4, units=2, kernel_initializer=\"uniform\")`\n",
      "  \"\"\"\n",
      "C:\\Users\\Mahavir\\Anaconda3\\lib\\site-packages\\ipykernel_launcher.py:8: UserWarning: Update your `Dense` call to the Keras 2 API: `Dense(activation=\"relu\", units=2, kernel_initializer=\"uniform\")`\n",
      "  \n",
      "C:\\Users\\Mahavir\\Anaconda3\\lib\\site-packages\\ipykernel_launcher.py:11: UserWarning: Update your `Dense` call to the Keras 2 API: `Dense(units=1, kernel_initializer=\"uniform\")`\n",
      "  # This is added back by InteractiveShellApp.init_path()\n"
     ]
    }
   ],
   "source": [
    "# Initialising the ANN\n",
    "classifier = Sequential()\n",
    "\n",
    "# Adding the input layer and the first hidden layer\n",
    "classifier.add(Dense(output_dim = 2, init = 'uniform', activation = 'relu', input_dim = 4))\n",
    "\n",
    "# Adding the second hidden layer\n",
    "classifier.add(Dense(output_dim = 2, init = 'uniform', activation = 'relu'))\n",
    "\n",
    "# Adding the output layer\n",
    "classifier.add(Dense(output_dim = 1, init = 'uniform'))\n",
    "# Compiling the ANN\n"
   ]
  },
  {
   "cell_type": "code",
   "execution_count": 46,
   "metadata": {},
   "outputs": [
    {
     "name": "stderr",
     "output_type": "stream",
     "text": [
      "C:\\Users\\Mahavir\\Anaconda3\\lib\\site-packages\\keras\\models.py:944: UserWarning: The `nb_epoch` argument in `fit` has been renamed `epochs`.\n",
      "  warnings.warn('The `nb_epoch` argument in `fit` '\n"
     ]
    },
    {
     "name": "stdout",
     "output_type": "stream",
     "text": [
      "Epoch 1/100\n",
      "1675/1675 [==============================] - 1s 675us/step - loss: 13647711.2299\n",
      "Epoch 2/100\n",
      "1675/1675 [==============================] - 0s 211us/step - loss: 13643458.0836\n",
      "Epoch 3/100\n",
      "1675/1675 [==============================] - 0s 207us/step - loss: 13631776.9224\n",
      "Epoch 4/100\n",
      "1675/1675 [==============================] - 0s 215us/step - loss: 13608879.9672\n",
      "Epoch 5/100\n",
      "1675/1675 [==============================] - 0s 219us/step - loss: 13571817.1284\n",
      "Epoch 6/100\n",
      "1675/1675 [==============================] - 0s 213us/step - loss: 13518153.7254\n",
      "Epoch 7/100\n",
      "1675/1675 [==============================] - 0s 211us/step - loss: 13444736.8657\n",
      "Epoch 8/100\n",
      "1675/1675 [==============================] - 0s 208us/step - loss: 13351977.0925\n",
      "Epoch 9/100\n",
      "1675/1675 [==============================] - 0s 207us/step - loss: 13238780.9970\n",
      "Epoch 10/100\n",
      "1675/1675 [==============================] - 0s 213us/step - loss: 13102618.7313\n",
      "Epoch 11/100\n",
      "1675/1675 [==============================] - 0s 210us/step - loss: 12944260.4836\n",
      "Epoch 12/100\n",
      "1675/1675 [==============================] - 0s 214us/step - loss: 12762285.8209\n",
      "Epoch 13/100\n",
      "1675/1675 [==============================] - 0s 208us/step - loss: 12558534.5552\n",
      "Epoch 14/100\n",
      "1675/1675 [==============================] - 0s 211us/step - loss: 12333096.7522\n",
      "Epoch 15/100\n",
      "1675/1675 [==============================] - 0s 220us/step - loss: 12087525.3642\n",
      "Epoch 16/100\n",
      "1675/1675 [==============================] - 0s 209us/step - loss: 11821334.0388\n",
      "Epoch 17/100\n",
      "1675/1675 [==============================] - 0s 207us/step - loss: 11537516.1731\n",
      "Epoch 18/100\n",
      "1675/1675 [==============================] - 0s 213us/step - loss: 11238052.4806\n",
      "Epoch 19/100\n",
      "1675/1675 [==============================] - 0s 209us/step - loss: 10923216.3493\n",
      "Epoch 20/100\n",
      "1675/1675 [==============================] - 0s 208us/step - loss: 10594102.2328\n",
      "Epoch 21/100\n",
      "1675/1675 [==============================] - 0s 208us/step - loss: 10252080.3343\n",
      "Epoch 22/100\n",
      "1675/1675 [==============================] - 0s 210us/step - loss: 9901031.7313\n",
      "Epoch 23/100\n",
      "1675/1675 [==============================] - 0s 212us/step - loss: 9542291.2866\n",
      "Epoch 24/100\n",
      "1675/1675 [==============================] - 0s 211us/step - loss: 9179197.5701\n",
      "Epoch 25/100\n",
      "1675/1675 [==============================] - 0s 213us/step - loss: 8812262.6761\n",
      "Epoch 26/100\n",
      "1675/1675 [==============================] - 0s 212us/step - loss: 8445664.9940\n",
      "Epoch 27/100\n",
      "1675/1675 [==============================] - 0s 218us/step - loss: 8080424.8194\n",
      "Epoch 28/100\n",
      "1675/1675 [==============================] - 0s 212us/step - loss: 7720271.0269\n",
      "Epoch 29/100\n",
      "1675/1675 [==============================] - 0s 211us/step - loss: 7365977.4522\n",
      "Epoch 30/100\n",
      "1675/1675 [==============================] - 0s 210us/step - loss: 7019716.4507\n",
      "Epoch 31/100\n",
      "1675/1675 [==============================] - 0s 210us/step - loss: 6686116.8642 0s - loss: 6955479.\n",
      "Epoch 32/100\n",
      "1675/1675 [==============================] - 0s 209us/step - loss: 6366203.4687\n",
      "Epoch 33/100\n",
      "1675/1675 [==============================] - 0s 211us/step - loss: 6061201.2448\n",
      "Epoch 34/100\n",
      "1675/1675 [==============================] - 0s 210us/step - loss: 5771605.9127\n",
      "Epoch 35/100\n",
      "1675/1675 [==============================] - 0s 220us/step - loss: 5499762.7149\n",
      "Epoch 36/100\n",
      "1675/1675 [==============================] - 0s 205us/step - loss: 5246645.8388\n",
      "Epoch 37/100\n",
      "1675/1675 [==============================] - 0s 222us/step - loss: 5011959.9366\n",
      "Epoch 38/100\n",
      "1675/1675 [==============================] - 0s 212us/step - loss: 4796395.3060\n",
      "Epoch 39/100\n",
      "1675/1675 [==============================] - ETA: 0s - loss: 4554021.993 - 0s 211us/step - loss: 4598667.8567\n",
      "Epoch 40/100\n",
      "1675/1675 [==============================] - 0s 210us/step - loss: 4419253.3433\n",
      "Epoch 41/100\n",
      "1675/1675 [==============================] - 0s 207us/step - loss: 4258064.8007\n",
      "Epoch 42/100\n",
      "1675/1675 [==============================] - 0s 208us/step - loss: 4111742.8493\n",
      "Epoch 43/100\n",
      "1675/1675 [==============================] - 0s 212us/step - loss: 3979322.1586\n",
      "Epoch 44/100\n",
      "1675/1675 [==============================] - 0s 207us/step - loss: 3857688.5451\n",
      "Epoch 45/100\n",
      "1675/1675 [==============================] - 0s 223us/step - loss: 3745209.1000\n",
      "Epoch 46/100\n",
      "1675/1675 [==============================] - 0s 216us/step - loss: 3638885.7485\n",
      "Epoch 47/100\n",
      "1675/1675 [==============================] - 0s 211us/step - loss: 3536301.7500\n",
      "Epoch 48/100\n",
      "1675/1675 [==============================] - 0s 209us/step - loss: 3436822.7127\n",
      "Epoch 49/100\n",
      "1675/1675 [==============================] - 0s 204us/step - loss: 3337462.1765\n",
      "Epoch 50/100\n",
      "1675/1675 [==============================] - 0s 210us/step - loss: 3239055.1188\n",
      "Epoch 51/100\n",
      "1675/1675 [==============================] - ETA: 0s - loss: 3174130.202 - 0s 211us/step - loss: 3141138.0664\n",
      "Epoch 52/100\n",
      "1675/1675 [==============================] - 0s 209us/step - loss: 3043744.9537\n",
      "Epoch 53/100\n",
      "1675/1675 [==============================] - 0s 225us/step - loss: 2943688.5146\n",
      "Epoch 54/100\n",
      "1675/1675 [==============================] - 0s 210us/step - loss: 2840700.8873\n",
      "Epoch 55/100\n",
      "1675/1675 [==============================] - 0s 219us/step - loss: 2734444.7974\n",
      "Epoch 56/100\n",
      "1675/1675 [==============================] - 0s 206us/step - loss: 2625279.2201\n",
      "Epoch 57/100\n",
      "1675/1675 [==============================] - 0s 217us/step - loss: 2515017.5455\n",
      "Epoch 58/100\n",
      "1675/1675 [==============================] - 0s 207us/step - loss: 2403413.5257\n",
      "Epoch 59/100\n",
      "1675/1675 [==============================] - 0s 208us/step - loss: 2290867.4776\n",
      "Epoch 60/100\n",
      "1675/1675 [==============================] - 0s 217us/step - loss: 2177968.2698\n",
      "Epoch 61/100\n",
      "1675/1675 [==============================] - 0s 209us/step - loss: 2063612.9616\n",
      "Epoch 62/100\n",
      "1675/1675 [==============================] - 0s 218us/step - loss: 1944268.2118\n",
      "Epoch 63/100\n",
      "1675/1675 [==============================] - 0s 203us/step - loss: 1823979.4940\n",
      "Epoch 64/100\n",
      "1675/1675 [==============================] - 0s 213us/step - loss: 1702767.5933\n",
      "Epoch 65/100\n",
      "1675/1675 [==============================] - 0s 208us/step - loss: 1576996.4037\n",
      "Epoch 66/100\n",
      "1675/1675 [==============================] - 0s 211us/step - loss: 1453439.7724 0s - loss: 1639112\n",
      "Epoch 67/100\n",
      "1675/1675 [==============================] - 0s 223us/step - loss: 1335039.0233\n",
      "Epoch 68/100\n",
      "1675/1675 [==============================] - 0s 209us/step - loss: 1222547.4555\n",
      "Epoch 69/100\n",
      "1675/1675 [==============================] - 0s 210us/step - loss: 1115014.7396\n",
      "Epoch 70/100\n",
      "1675/1675 [==============================] - 0s 211us/step - loss: 1012798.5918\n",
      "Epoch 71/100\n",
      "1675/1675 [==============================] - 0s 208us/step - loss: 918000.2865\n",
      "Epoch 72/100\n",
      "1675/1675 [==============================] - 0s 206us/step - loss: 831751.5845\n",
      "Epoch 73/100\n",
      "1675/1675 [==============================] - 0s 201us/step - loss: 754607.8102\n",
      "Epoch 74/100\n",
      "1675/1675 [==============================] - 0s 213us/step - loss: 687104.1475\n",
      "Epoch 75/100\n",
      "1675/1675 [==============================] - 0s 208us/step - loss: 628708.7886\n",
      "Epoch 76/100\n",
      "1675/1675 [==============================] - 0s 209us/step - loss: 579240.6246\n",
      "Epoch 77/100\n",
      "1675/1675 [==============================] - 0s 213us/step - loss: 537918.5496\n",
      "Epoch 78/100\n",
      "1675/1675 [==============================] - 0s 219us/step - loss: 503551.4734\n",
      "Epoch 79/100\n",
      "1675/1675 [==============================] - 0s 210us/step - loss: 475568.9790\n",
      "Epoch 80/100\n",
      "1675/1675 [==============================] - 0s 210us/step - loss: 452796.9226\n",
      "Epoch 81/100\n",
      "1675/1675 [==============================] - 0s 208us/step - loss: 434498.6137\n",
      "Epoch 82/100\n",
      "1675/1675 [==============================] - 0s 209us/step - loss: 419708.1085\n",
      "Epoch 83/100\n",
      "1675/1675 [==============================] - 0s 210us/step - loss: 407858.0448\n",
      "Epoch 84/100\n",
      "1675/1675 [==============================] - 0s 213us/step - loss: 398632.5793\n",
      "Epoch 85/100\n",
      "1675/1675 [==============================] - 0s 209us/step - loss: 391488.9211\n",
      "Epoch 86/100\n",
      "1675/1675 [==============================] - 0s 218us/step - loss: 386064.9240\n",
      "Epoch 87/100\n",
      "1675/1675 [==============================] - 0s 210us/step - loss: 382016.1292\n",
      "Epoch 88/100\n"
     ]
    },
    {
     "name": "stdout",
     "output_type": "stream",
     "text": [
      "1675/1675 [==============================] - 0s 256us/step - loss: 379025.1738\n",
      "Epoch 89/100\n",
      "1675/1675 [==============================] - 0s 202us/step - loss: 376714.0237\n",
      "Epoch 90/100\n",
      "1675/1675 [==============================] - 0s 205us/step - loss: 375139.5338\n",
      "Epoch 91/100\n",
      "1675/1675 [==============================] - 0s 211us/step - loss: 373968.6582\n",
      "Epoch 92/100\n",
      "1675/1675 [==============================] - 0s 205us/step - loss: 373178.0044\n",
      "Epoch 93/100\n",
      "1675/1675 [==============================] - 0s 208us/step - loss: 372655.4152\n",
      "Epoch 94/100\n",
      "1675/1675 [==============================] - 0s 207us/step - loss: 372308.5594\n",
      "Epoch 95/100\n",
      "1675/1675 [==============================] - 0s 208us/step - loss: 372120.39090s - loss: 359929.58 - ETA: 0s - loss: 3\n",
      "Epoch 96/100\n",
      "1675/1675 [==============================] - 0s 207us/step - loss: 371849.8228\n",
      "Epoch 97/100\n",
      "1675/1675 [==============================] - 0s 207us/step - loss: 371848.8934\n",
      "Epoch 98/100\n",
      "1675/1675 [==============================] - 0s 207us/step - loss: 371813.0909\n",
      "Epoch 99/100\n",
      "1675/1675 [==============================] - 0s 204us/step - loss: 371699.9813\n",
      "Epoch 100/100\n",
      "1675/1675 [==============================] - 0s 208us/step - loss: 371516.9885\n"
     ]
    },
    {
     "data": {
      "text/plain": [
       "<keras.callbacks.History at 0x1a8f37b8>"
      ]
     },
     "execution_count": 46,
     "metadata": {},
     "output_type": "execute_result"
    }
   ],
   "source": [
    "classifier.compile(optimizer = 'adam', loss = 'mean_squared_error')\n",
    "classifier.fit(X_train, y_train, batch_size = 10, nb_epoch = 100)"
   ]
  },
  {
   "cell_type": "code",
   "execution_count": 47,
   "metadata": {},
   "outputs": [
    {
     "data": {
      "text/plain": [
       "611.6763850272463"
      ]
     },
     "execution_count": 47,
     "metadata": {},
     "output_type": "execute_result"
    }
   ],
   "source": [
    "np.sqrt(374148)"
   ]
  },
  {
   "cell_type": "code",
   "execution_count": 48,
   "metadata": {
    "collapsed": true
   },
   "outputs": [],
   "source": [
    "y_pp=classifier.predict(X_test)"
   ]
  },
  {
   "cell_type": "code",
   "execution_count": 50,
   "metadata": {},
   "outputs": [],
   "source": [
    "#y_pp"
   ]
  },
  {
   "cell_type": "code",
   "execution_count": 53,
   "metadata": {},
   "outputs": [
    {
     "ename": "Exception",
     "evalue": "Data must be 1-dimensional",
     "output_type": "error",
     "traceback": [
      "\u001b[1;31m---------------------------------------------------------------------------\u001b[0m",
      "\u001b[1;31mException\u001b[0m                                 Traceback (most recent call last)",
      "\u001b[1;32m<ipython-input-53-a6221fdd0a36>\u001b[0m in \u001b[0;36m<module>\u001b[1;34m()\u001b[0m\n\u001b[1;32m----> 1\u001b[1;33m \u001b[0mnp\u001b[0m\u001b[1;33m.\u001b[0m\u001b[0msqrt\u001b[0m\u001b[1;33m(\u001b[0m\u001b[0mnp\u001b[0m\u001b[1;33m.\u001b[0m\u001b[0mmean\u001b[0m\u001b[1;33m(\u001b[0m\u001b[1;33m(\u001b[0m\u001b[0my_test\u001b[0m\u001b[1;33m-\u001b[0m\u001b[0my_pp\u001b[0m\u001b[1;33m)\u001b[0m\u001b[1;33m*\u001b[0m\u001b[1;33m(\u001b[0m\u001b[0my_test\u001b[0m\u001b[1;33m-\u001b[0m\u001b[0my_pp\u001b[0m\u001b[1;33m)\u001b[0m\u001b[1;33m)\u001b[0m\u001b[1;33m)\u001b[0m\u001b[1;33m\u001b[0m\u001b[0m\n\u001b[0m",
      "\u001b[1;32mC:\\Users\\Mahavir\\Anaconda3\\lib\\site-packages\\pandas\\core\\ops.py\u001b[0m in \u001b[0;36mwrapper\u001b[1;34m(left, right, name, na_op)\u001b[0m\n\u001b[0;32m    725\u001b[0m             \u001b[0mindex\u001b[0m\u001b[1;33m=\u001b[0m\u001b[0mleft\u001b[0m\u001b[1;33m.\u001b[0m\u001b[0mindex\u001b[0m\u001b[1;33m,\u001b[0m\u001b[1;33m\u001b[0m\u001b[0m\n\u001b[0;32m    726\u001b[0m             \u001b[0mname\u001b[0m\u001b[1;33m=\u001b[0m\u001b[0mname\u001b[0m\u001b[1;33m,\u001b[0m\u001b[1;33m\u001b[0m\u001b[0m\n\u001b[1;32m--> 727\u001b[1;33m             \u001b[0mdtype\u001b[0m\u001b[1;33m=\u001b[0m\u001b[0mdtype\u001b[0m\u001b[1;33m,\u001b[0m\u001b[1;33m\u001b[0m\u001b[0m\n\u001b[0m\u001b[0;32m    728\u001b[0m         )\n\u001b[0;32m    729\u001b[0m \u001b[1;33m\u001b[0m\u001b[0m\n",
      "\u001b[1;32mC:\\Users\\Mahavir\\Anaconda3\\lib\\site-packages\\pandas\\core\\ops.py\u001b[0m in \u001b[0;36m_construct_result\u001b[1;34m(left, result, index, name, dtype)\u001b[0m\n\u001b[0;32m    633\u001b[0m \u001b[1;33m\u001b[0m\u001b[0m\n\u001b[0;32m    634\u001b[0m \u001b[1;32mdef\u001b[0m \u001b[0m_construct_result\u001b[0m\u001b[1;33m(\u001b[0m\u001b[0mleft\u001b[0m\u001b[1;33m,\u001b[0m \u001b[0mresult\u001b[0m\u001b[1;33m,\u001b[0m \u001b[0mindex\u001b[0m\u001b[1;33m,\u001b[0m \u001b[0mname\u001b[0m\u001b[1;33m,\u001b[0m \u001b[0mdtype\u001b[0m\u001b[1;33m)\u001b[0m\u001b[1;33m:\u001b[0m\u001b[1;33m\u001b[0m\u001b[0m\n\u001b[1;32m--> 635\u001b[1;33m     \u001b[1;32mreturn\u001b[0m \u001b[0mleft\u001b[0m\u001b[1;33m.\u001b[0m\u001b[0m_constructor\u001b[0m\u001b[1;33m(\u001b[0m\u001b[0mresult\u001b[0m\u001b[1;33m,\u001b[0m \u001b[0mindex\u001b[0m\u001b[1;33m=\u001b[0m\u001b[0mindex\u001b[0m\u001b[1;33m,\u001b[0m \u001b[0mname\u001b[0m\u001b[1;33m=\u001b[0m\u001b[0mname\u001b[0m\u001b[1;33m,\u001b[0m \u001b[0mdtype\u001b[0m\u001b[1;33m=\u001b[0m\u001b[0mdtype\u001b[0m\u001b[1;33m)\u001b[0m\u001b[1;33m\u001b[0m\u001b[0m\n\u001b[0m\u001b[0;32m    636\u001b[0m \u001b[1;33m\u001b[0m\u001b[0m\n\u001b[0;32m    637\u001b[0m \u001b[1;33m\u001b[0m\u001b[0m\n",
      "\u001b[1;32mC:\\Users\\Mahavir\\Anaconda3\\lib\\site-packages\\pandas\\core\\series.py\u001b[0m in \u001b[0;36m__init__\u001b[1;34m(self, data, index, dtype, name, copy, fastpath)\u001b[0m\n\u001b[0;32m    246\u001b[0m             \u001b[1;32melse\u001b[0m\u001b[1;33m:\u001b[0m\u001b[1;33m\u001b[0m\u001b[0m\n\u001b[0;32m    247\u001b[0m                 data = _sanitize_array(data, index, dtype, copy,\n\u001b[1;32m--> 248\u001b[1;33m                                        raise_cast_failure=True)\n\u001b[0m\u001b[0;32m    249\u001b[0m \u001b[1;33m\u001b[0m\u001b[0m\n\u001b[0;32m    250\u001b[0m                 \u001b[0mdata\u001b[0m \u001b[1;33m=\u001b[0m \u001b[0mSingleBlockManager\u001b[0m\u001b[1;33m(\u001b[0m\u001b[0mdata\u001b[0m\u001b[1;33m,\u001b[0m \u001b[0mindex\u001b[0m\u001b[1;33m,\u001b[0m \u001b[0mfastpath\u001b[0m\u001b[1;33m=\u001b[0m\u001b[1;32mTrue\u001b[0m\u001b[1;33m)\u001b[0m\u001b[1;33m\u001b[0m\u001b[0m\n",
      "\u001b[1;32mC:\\Users\\Mahavir\\Anaconda3\\lib\\site-packages\\pandas\\core\\series.py\u001b[0m in \u001b[0;36m_sanitize_array\u001b[1;34m(data, index, dtype, copy, raise_cast_failure)\u001b[0m\n\u001b[0;32m   3025\u001b[0m     \u001b[1;32melif\u001b[0m \u001b[0msubarr\u001b[0m\u001b[1;33m.\u001b[0m\u001b[0mndim\u001b[0m \u001b[1;33m>\u001b[0m \u001b[1;36m1\u001b[0m\u001b[1;33m:\u001b[0m\u001b[1;33m\u001b[0m\u001b[0m\n\u001b[0;32m   3026\u001b[0m         \u001b[1;32mif\u001b[0m \u001b[0misinstance\u001b[0m\u001b[1;33m(\u001b[0m\u001b[0mdata\u001b[0m\u001b[1;33m,\u001b[0m \u001b[0mnp\u001b[0m\u001b[1;33m.\u001b[0m\u001b[0mndarray\u001b[0m\u001b[1;33m)\u001b[0m\u001b[1;33m:\u001b[0m\u001b[1;33m\u001b[0m\u001b[0m\n\u001b[1;32m-> 3027\u001b[1;33m             \u001b[1;32mraise\u001b[0m \u001b[0mException\u001b[0m\u001b[1;33m(\u001b[0m\u001b[1;34m'Data must be 1-dimensional'\u001b[0m\u001b[1;33m)\u001b[0m\u001b[1;33m\u001b[0m\u001b[0m\n\u001b[0m\u001b[0;32m   3028\u001b[0m         \u001b[1;32melse\u001b[0m\u001b[1;33m:\u001b[0m\u001b[1;33m\u001b[0m\u001b[0m\n\u001b[0;32m   3029\u001b[0m             \u001b[0msubarr\u001b[0m \u001b[1;33m=\u001b[0m \u001b[0m_asarray_tuplesafe\u001b[0m\u001b[1;33m(\u001b[0m\u001b[0mdata\u001b[0m\u001b[1;33m,\u001b[0m \u001b[0mdtype\u001b[0m\u001b[1;33m=\u001b[0m\u001b[0mdtype\u001b[0m\u001b[1;33m)\u001b[0m\u001b[1;33m\u001b[0m\u001b[0m\n",
      "\u001b[1;31mException\u001b[0m: Data must be 1-dimensional"
     ]
    }
   ],
   "source": [
    "np.sqrt(np.mean((y_test-y_pp)*(y_test-y_pp)))"
   ]
  },
  {
   "cell_type": "code",
   "execution_count": 887,
   "metadata": {},
   "outputs": [
    {
     "data": {
      "text/plain": [
       "557.4746631013826"
      ]
     },
     "execution_count": 887,
     "metadata": {},
     "output_type": "execute_result"
    }
   ],
   "source": [
    "np.sqrt(310778)  #440722"
   ]
  },
  {
   "cell_type": "code",
   "execution_count": 689,
   "metadata": {},
   "outputs": [
    {
     "data": {
      "text/plain": [
       "528.8846755200987"
      ]
     },
     "execution_count": 689,
     "metadata": {},
     "output_type": "execute_result"
    }
   ],
   "source": [
    "np.sqrt(279719)"
   ]
  },
  {
   "cell_type": "code",
   "execution_count": 692,
   "metadata": {},
   "outputs": [
    {
     "data": {
      "text/plain": [
       "530.7739631896048"
      ]
     },
     "execution_count": 692,
     "metadata": {},
     "output_type": "execute_result"
    }
   ],
   "source": [
    "np.sqrt(281721)"
   ]
  },
  {
   "cell_type": "code",
   "execution_count": 774,
   "metadata": {},
   "outputs": [
    {
     "data": {
      "text/plain": [
       "516.0978589376243"
      ]
     },
     "execution_count": 774,
     "metadata": {},
     "output_type": "execute_result"
    }
   ],
   "source": [
    "np.sqrt(266357)"
   ]
  },
  {
   "cell_type": "code",
   "execution_count": 842,
   "metadata": {},
   "outputs": [
    {
     "data": {
      "text/plain": [
       "Index(['Intr', 'h_WinRat', 'num_games', 'base_health_regen', 'base_armor',\n",
       "       'base_strength', 'base_agility', 'strength_gain', 'agility_gain',\n",
       "       'attack_range', 'attack_rate', 'turn_rate', 'primary_attr_int',\n",
       "       'primary_attr_str', 'attack_type_Ranged'],\n",
       "      dtype='object')"
      ]
     },
     "execution_count": 842,
     "metadata": {},
     "output_type": "execute_result"
    }
   ],
   "source": [
    "Fine_test.columns"
   ]
  },
  {
   "cell_type": "code",
   "execution_count": 860,
   "metadata": {
    "collapsed": true
   },
   "outputs": [],
   "source": [
    "lolTrain=Fine_tr.filter(['Intr','WinRat','primary_attr_int',\n",
    "       'primary_attr_str', 'attack_type_Ranged'])"
   ]
  },
  {
   "cell_type": "code",
   "execution_count": 849,
   "metadata": {},
   "outputs": [
    {
     "data": {
      "text/plain": [
       "(2093, 7)"
      ]
     },
     "execution_count": 849,
     "metadata": {},
     "output_type": "execute_result"
    }
   ],
   "source": [
    "lolTrain.shape"
   ]
  },
  {
   "cell_type": "code",
   "execution_count": 852,
   "metadata": {
    "collapsed": true
   },
   "outputs": [],
   "source": [
    "#Fine_test.head()\n"
   ]
  },
  {
   "cell_type": "code",
   "execution_count": 861,
   "metadata": {
    "collapsed": true
   },
   "outputs": [],
   "source": [
    "lolTest=Fine_test.filter(['Intr','WinR','primary_attr_int',\n",
    "       'primary_attr_str', 'attack_type_Ranged'])"
   ]
  },
  {
   "cell_type": "code",
   "execution_count": 850,
   "metadata": {},
   "outputs": [
    {
     "data": {
      "text/plain": [
       "(898, 6)"
      ]
     },
     "execution_count": 850,
     "metadata": {},
     "output_type": "execute_result"
    }
   ],
   "source": [
    "lolTest.shape"
   ]
  },
  {
   "cell_type": "code",
   "execution_count": 802,
   "metadata": {},
   "outputs": [
    {
     "data": {
      "text/html": [
       "<div>\n",
       "<style>\n",
       "    .dataframe thead tr:only-child th {\n",
       "        text-align: right;\n",
       "    }\n",
       "\n",
       "    .dataframe thead th {\n",
       "        text-align: left;\n",
       "    }\n",
       "\n",
       "    .dataframe tbody tr th {\n",
       "        vertical-align: top;\n",
       "    }\n",
       "</style>\n",
       "<table border=\"1\" class=\"dataframe\">\n",
       "  <thead>\n",
       "    <tr style=\"text-align: right;\">\n",
       "      <th></th>\n",
       "      <th>kda_ratio_Avg</th>\n",
       "      <th>WinRat</th>\n",
       "      <th>h_WinRat</th>\n",
       "      <th>num_games</th>\n",
       "      <th>num_wins_Avg</th>\n",
       "      <th>num_games_Avg</th>\n",
       "      <th>base_health_regen</th>\n",
       "      <th>base_armor</th>\n",
       "      <th>base_strength</th>\n",
       "      <th>base_agility</th>\n",
       "      <th>...</th>\n",
       "      <th>attack_range</th>\n",
       "      <th>attack_rate</th>\n",
       "      <th>turn_rate</th>\n",
       "      <th>h_kda_ratio_A</th>\n",
       "      <th>h_num_wins_A</th>\n",
       "      <th>h_num_games_A</th>\n",
       "      <th>primary_attr_int</th>\n",
       "      <th>primary_attr_str</th>\n",
       "      <th>attack_type_Ranged</th>\n",
       "      <th>Intr</th>\n",
       "    </tr>\n",
       "    <tr>\n",
       "      <th>user_id</th>\n",
       "      <th></th>\n",
       "      <th></th>\n",
       "      <th></th>\n",
       "      <th></th>\n",
       "      <th></th>\n",
       "      <th></th>\n",
       "      <th></th>\n",
       "      <th></th>\n",
       "      <th></th>\n",
       "      <th></th>\n",
       "      <th></th>\n",
       "      <th></th>\n",
       "      <th></th>\n",
       "      <th></th>\n",
       "      <th></th>\n",
       "      <th></th>\n",
       "      <th></th>\n",
       "      <th></th>\n",
       "      <th></th>\n",
       "      <th></th>\n",
       "      <th></th>\n",
       "    </tr>\n",
       "  </thead>\n",
       "  <tbody>\n",
       "    <tr>\n",
       "      <th>1</th>\n",
       "      <td>3857.506249</td>\n",
       "      <td>0.622724</td>\n",
       "      <td>0.568818</td>\n",
       "      <td>201</td>\n",
       "      <td>110.222222</td>\n",
       "      <td>177.000000</td>\n",
       "      <td>2.00</td>\n",
       "      <td>0.0</td>\n",
       "      <td>23</td>\n",
       "      <td>23</td>\n",
       "      <td>...</td>\n",
       "      <td>150</td>\n",
       "      <td>1.7</td>\n",
       "      <td>1.0</td>\n",
       "      <td>3766.720531</td>\n",
       "      <td>77.258993</td>\n",
       "      <td>135.823741</td>\n",
       "      <td>0</td>\n",
       "      <td>0</td>\n",
       "      <td>0</td>\n",
       "      <td>1.453015e+07</td>\n",
       "    </tr>\n",
       "    <tr>\n",
       "      <th>2</th>\n",
       "      <td>2857.903926</td>\n",
       "      <td>0.539620</td>\n",
       "      <td>0.591477</td>\n",
       "      <td>427</td>\n",
       "      <td>183.111111</td>\n",
       "      <td>339.333333</td>\n",
       "      <td>1.50</td>\n",
       "      <td>2.0</td>\n",
       "      <td>19</td>\n",
       "      <td>22</td>\n",
       "      <td>...</td>\n",
       "      <td>480</td>\n",
       "      <td>1.7</td>\n",
       "      <td>0.8</td>\n",
       "      <td>3964.276777</td>\n",
       "      <td>119.347942</td>\n",
       "      <td>201.779548</td>\n",
       "      <td>1</td>\n",
       "      <td>0</td>\n",
       "      <td>1</td>\n",
       "      <td>1.132952e+07</td>\n",
       "    </tr>\n",
       "    <tr>\n",
       "      <th>5</th>\n",
       "      <td>4194.043231</td>\n",
       "      <td>0.582617</td>\n",
       "      <td>0.580832</td>\n",
       "      <td>240</td>\n",
       "      <td>128.111111</td>\n",
       "      <td>219.888889</td>\n",
       "      <td>2.00</td>\n",
       "      <td>-2.0</td>\n",
       "      <td>19</td>\n",
       "      <td>22</td>\n",
       "      <td>...</td>\n",
       "      <td>150</td>\n",
       "      <td>1.7</td>\n",
       "      <td>0.5</td>\n",
       "      <td>4678.101919</td>\n",
       "      <td>98.100917</td>\n",
       "      <td>168.897248</td>\n",
       "      <td>0</td>\n",
       "      <td>0</td>\n",
       "      <td>0</td>\n",
       "      <td>1.962016e+07</td>\n",
       "    </tr>\n",
       "    <tr>\n",
       "      <th>6</th>\n",
       "      <td>3886.190698</td>\n",
       "      <td>0.565697</td>\n",
       "      <td>0.561451</td>\n",
       "      <td>206</td>\n",
       "      <td>125.333333</td>\n",
       "      <td>221.555556</td>\n",
       "      <td>3.25</td>\n",
       "      <td>0.0</td>\n",
       "      <td>23</td>\n",
       "      <td>15</td>\n",
       "      <td>...</td>\n",
       "      <td>375</td>\n",
       "      <td>1.7</td>\n",
       "      <td>1.0</td>\n",
       "      <td>3747.512801</td>\n",
       "      <td>99.785124</td>\n",
       "      <td>177.727273</td>\n",
       "      <td>1</td>\n",
       "      <td>0</td>\n",
       "      <td>1</td>\n",
       "      <td>1.456355e+07</td>\n",
       "    </tr>\n",
       "    <tr>\n",
       "      <th>7</th>\n",
       "      <td>2989.278882</td>\n",
       "      <td>0.544568</td>\n",
       "      <td>0.557031</td>\n",
       "      <td>697</td>\n",
       "      <td>353.666667</td>\n",
       "      <td>649.444444</td>\n",
       "      <td>1.50</td>\n",
       "      <td>-1.0</td>\n",
       "      <td>26</td>\n",
       "      <td>11</td>\n",
       "      <td>...</td>\n",
       "      <td>150</td>\n",
       "      <td>2.0</td>\n",
       "      <td>0.5</td>\n",
       "      <td>3091.711347</td>\n",
       "      <td>83.211111</td>\n",
       "      <td>149.383333</td>\n",
       "      <td>0</td>\n",
       "      <td>1</td>\n",
       "      <td>0</td>\n",
       "      <td>9.241987e+06</td>\n",
       "    </tr>\n",
       "  </tbody>\n",
       "</table>\n",
       "<p>5 rows × 22 columns</p>\n",
       "</div>"
      ],
      "text/plain": [
       "         kda_ratio_Avg    WinRat  h_WinRat  num_games  num_wins_Avg  \\\n",
       "user_id                                                               \n",
       "1          3857.506249  0.622724  0.568818        201    110.222222   \n",
       "2          2857.903926  0.539620  0.591477        427    183.111111   \n",
       "5          4194.043231  0.582617  0.580832        240    128.111111   \n",
       "6          3886.190698  0.565697  0.561451        206    125.333333   \n",
       "7          2989.278882  0.544568  0.557031        697    353.666667   \n",
       "\n",
       "         num_games_Avg  base_health_regen  base_armor  base_strength  \\\n",
       "user_id                                                                \n",
       "1           177.000000               2.00         0.0             23   \n",
       "2           339.333333               1.50         2.0             19   \n",
       "5           219.888889               2.00        -2.0             19   \n",
       "6           221.555556               3.25         0.0             23   \n",
       "7           649.444444               1.50        -1.0             26   \n",
       "\n",
       "         base_agility      ...       attack_range  attack_rate  turn_rate  \\\n",
       "user_id                    ...                                              \n",
       "1                  23      ...                150          1.7        1.0   \n",
       "2                  22      ...                480          1.7        0.8   \n",
       "5                  22      ...                150          1.7        0.5   \n",
       "6                  15      ...                375          1.7        1.0   \n",
       "7                  11      ...                150          2.0        0.5   \n",
       "\n",
       "         h_kda_ratio_A  h_num_wins_A  h_num_games_A  primary_attr_int  \\\n",
       "user_id                                                                 \n",
       "1          3766.720531     77.258993     135.823741                 0   \n",
       "2          3964.276777    119.347942     201.779548                 1   \n",
       "5          4678.101919     98.100917     168.897248                 0   \n",
       "6          3747.512801     99.785124     177.727273                 1   \n",
       "7          3091.711347     83.211111     149.383333                 0   \n",
       "\n",
       "         primary_attr_str  attack_type_Ranged          Intr  \n",
       "user_id                                                      \n",
       "1                       0                   0  1.453015e+07  \n",
       "2                       0                   1  1.132952e+07  \n",
       "5                       0                   0  1.962016e+07  \n",
       "6                       0                   1  1.456355e+07  \n",
       "7                       1                   0  9.241987e+06  \n",
       "\n",
       "[5 rows x 22 columns]"
      ]
     },
     "execution_count": 802,
     "metadata": {},
     "output_type": "execute_result"
    }
   ],
   "source": [
    "tr_clean.head()"
   ]
  },
  {
   "cell_type": "code",
   "execution_count": 56,
   "metadata": {},
   "outputs": [
    {
     "data": {
      "text/plain": [
       "1294.3560697669345"
      ]
     },
     "execution_count": 56,
     "metadata": {},
     "output_type": "execute_result"
    }
   ],
   "source": [
    "np.sqrt(np.mean((y_test.values-y_pp)*(y_test.values-y_pp)))"
   ]
  },
  {
   "cell_type": "code",
   "execution_count": 805,
   "metadata": {},
   "outputs": [
    {
     "data": {
      "text/plain": [
       "(2093, 9)"
      ]
     },
     "execution_count": 805,
     "metadata": {},
     "output_type": "execute_result"
    }
   ],
   "source": []
  },
  {
   "cell_type": "code",
   "execution_count": 897,
   "metadata": {
    "collapsed": true
   },
   "outputs": [],
   "source": [
    "# Splitting the dataset into the Training set and Test set\n",
    "from sklearn.model_selection import train_test_split\n",
    "X_train, X_test, y_train, y_test = train_test_split(BroTrain,y, test_size = 0.2, random_state = 0)\n",
    "\n",
    "# Feature Scaling\n",
    "#from sklearn.preprocessing import StandardScaler\n",
    "#sc = StandardScaler()\n",
    "#X_train = sc.fit_transform(X_train)"
   ]
  },
  {
   "cell_type": "code",
   "execution_count": 59,
   "metadata": {
    "collapsed": true
   },
   "outputs": [],
   "source": [
    "# Fitting Random Forest Regression to the dataset\n",
    "from sklearn.ensemble import RandomForestRegressor\n",
    "regressor = RandomForestRegressor(n_estimators = 100, random_state = 0)\n",
    "\n",
    "\n",
    "# Predicting a new result\n",
    "#y_pred = regressor.predict(6.5)\n"
   ]
  },
  {
   "cell_type": "code",
   "execution_count": 60,
   "metadata": {},
   "outputs": [
    {
     "data": {
      "text/plain": [
       "RandomForestRegressor(bootstrap=True, criterion='mse', max_depth=None,\n",
       "           max_features='auto', max_leaf_nodes=None,\n",
       "           min_impurity_split=1e-07, min_samples_leaf=1,\n",
       "           min_samples_split=2, min_weight_fraction_leaf=0.0,\n",
       "           n_estimators=100, n_jobs=1, oob_score=False, random_state=0,\n",
       "           verbose=0, warm_start=False)"
      ]
     },
     "execution_count": 60,
     "metadata": {},
     "output_type": "execute_result"
    }
   ],
   "source": [
    "regressor.fit(X_train, y_train)"
   ]
  },
  {
   "cell_type": "code",
   "execution_count": 834,
   "metadata": {},
   "outputs": [
    {
     "data": {
      "text/plain": [
       "(2093, 9)"
      ]
     },
     "execution_count": 834,
     "metadata": {},
     "output_type": "execute_result"
    }
   ],
   "source": [
    "FinalTrain.shape"
   ]
  },
  {
   "cell_type": "code",
   "execution_count": 833,
   "metadata": {},
   "outputs": [
    {
     "data": {
      "text/plain": [
       "(898, 7)"
      ]
     },
     "execution_count": 833,
     "metadata": {},
     "output_type": "execute_result"
    }
   ],
   "source": [
    "FinalTest.shape"
   ]
  },
  {
   "cell_type": "code",
   "execution_count": 61,
   "metadata": {
    "collapsed": true
   },
   "outputs": [],
   "source": [
    "y_pred = regressor.predict(X_test)"
   ]
  },
  {
   "cell_type": "code",
   "execution_count": 64,
   "metadata": {},
   "outputs": [],
   "source": [
    "#X_train.shape"
   ]
  },
  {
   "cell_type": "code",
   "execution_count": 826,
   "metadata": {
    "collapsed": true
   },
   "outputs": [],
   "source": [
    "y_pred = regressor.predict(X_test)"
   ]
  },
  {
   "cell_type": "code",
   "execution_count": null,
   "metadata": {
    "collapsed": true
   },
   "outputs": [],
   "source": []
  },
  {
   "cell_type": "code",
   "execution_count": 62,
   "metadata": {},
   "outputs": [
    {
     "data": {
      "text/plain": [
       "740.8086347345234"
      ]
     },
     "execution_count": 62,
     "metadata": {},
     "output_type": "execute_result"
    }
   ],
   "source": [
    "np.sqrt(np.mean((y_test-y_pred )*(y_test-y_pred )))"
   ]
  },
  {
   "cell_type": "code",
   "execution_count": 901,
   "metadata": {},
   "outputs": [
    {
     "data": {
      "text/plain": [
       "653.0614222475219"
      ]
     },
     "execution_count": 901,
     "metadata": {},
     "output_type": "execute_result"
    }
   ],
   "source": [
    "np.sqrt(np.mean((y_test-y_pred )*(y_test-y_pred )))"
   ]
  },
  {
   "cell_type": "code",
   "execution_count": 924,
   "metadata": {},
   "outputs": [
    {
     "data": {
      "text/plain": [
       "['Initiator', 'Durable', 'Disabler', 'Jungler']"
      ]
     },
     "execution_count": 924,
     "metadata": {},
     "output_type": "execute_result"
    }
   ],
   "source": [
    "tr_hero.roles[1].split(':')"
   ]
  },
  {
   "cell_type": "code",
   "execution_count": 927,
   "metadata": {
    "collapsed": true,
    "scrolled": true
   },
   "outputs": [],
   "source": [
    "Ab=tr_hero.roles[1:5]"
   ]
  },
  {
   "cell_type": "code",
   "execution_count": 1,
   "metadata": {},
   "outputs": [
    {
     "data": {
      "text/plain": [
       "['Carry', 'Disabler', 'Jungler', 'Nuker', 'Initiator']"
      ]
     },
     "execution_count": 1,
     "metadata": {},
     "output_type": "execute_result"
    }
   ],
   "source": [
    "\"Carry:Disabler:Jungler:Nuker:Initiator\".split(':')"
   ]
  },
  {
   "cell_type": "code",
   "execution_count": 931,
   "metadata": {},
   "outputs": [
    {
     "data": {
      "text/plain": [
       "count                                  4\n",
       "unique                                 4\n",
       "top       Support:Disabler:Nuker:Jungler\n",
       "freq                                   1\n",
       "Name: roles, dtype: object"
      ]
     },
     "execution_count": 931,
     "metadata": {},
     "output_type": "execute_result"
    }
   ],
   "source": []
  },
  {
   "cell_type": "code",
   "execution_count": 966,
   "metadata": {
    "collapsed": true
   },
   "outputs": [],
   "source": [
    "aa=list()"
   ]
  },
  {
   "cell_type": "code",
   "execution_count": 970,
   "metadata": {},
   "outputs": [
    {
     "ename": "SyntaxError",
     "evalue": "unexpected EOF while parsing (<ipython-input-970-1c61696b1320>, line 1)",
     "output_type": "error",
     "traceback": [
      "\u001b[1;36m  File \u001b[1;32m\"<ipython-input-970-1c61696b1320>\"\u001b[1;36m, line \u001b[1;32m1\u001b[0m\n\u001b[1;33m    tr_hero.roles.apply(lambda i: aa.append(tr_hero.roles[i].split(':'))\u001b[0m\n\u001b[1;37m                                                                        ^\u001b[0m\n\u001b[1;31mSyntaxError\u001b[0m\u001b[1;31m:\u001b[0m unexpected EOF while parsing\n"
     ]
    }
   ],
   "source": [
    "tr_hero.roles.apply(lambda i: aa.append(tr_hero.roles[i].split(':'))"
   ]
  },
  {
   "cell_type": "code",
   "execution_count": 1057,
   "metadata": {},
   "outputs": [
    {
     "ename": "AttributeError",
     "evalue": "'str' object has no attribute 'get_str'",
     "output_type": "error",
     "traceback": [
      "\u001b[1;31m---------------------------------------------------------------------------\u001b[0m",
      "\u001b[1;31mAttributeError\u001b[0m                            Traceback (most recent call last)",
      "\u001b[1;32m<ipython-input-1057-77002c110acd>\u001b[0m in \u001b[0;36m<module>\u001b[1;34m()\u001b[0m\n\u001b[0;32m      1\u001b[0m \u001b[0maa\u001b[0m\u001b[1;33m=\u001b[0m\u001b[0mlist\u001b[0m\u001b[1;33m(\u001b[0m\u001b[1;33m)\u001b[0m\u001b[1;33m\u001b[0m\u001b[0m\n\u001b[0;32m      2\u001b[0m \u001b[1;32mfor\u001b[0m \u001b[0mi\u001b[0m \u001b[1;32min\u001b[0m \u001b[0mrange\u001b[0m\u001b[1;33m(\u001b[0m\u001b[1;36m0\u001b[0m\u001b[1;33m,\u001b[0m\u001b[0mlen\u001b[0m\u001b[1;33m(\u001b[0m\u001b[0mtr_hero\u001b[0m\u001b[1;33m)\u001b[0m\u001b[1;33m)\u001b[0m\u001b[1;33m:\u001b[0m\u001b[1;33m\u001b[0m\u001b[0m\n\u001b[1;32m----> 3\u001b[1;33m     \u001b[0maa\u001b[0m\u001b[1;33m.\u001b[0m\u001b[0mappend\u001b[0m\u001b[1;33m(\u001b[0m\u001b[0mtr_hero\u001b[0m\u001b[1;33m.\u001b[0m\u001b[0mroles\u001b[0m\u001b[1;33m[\u001b[0m\u001b[0mi\u001b[0m\u001b[1;33m]\u001b[0m\u001b[1;33m.\u001b[0m\u001b[0mget_str\u001b[0m\u001b[1;33m(\u001b[0m\u001b[1;34m'Carry'\u001b[0m\u001b[1;33m)\u001b[0m\u001b[1;33m)\u001b[0m\u001b[1;33m\u001b[0m\u001b[0m\n\u001b[0m",
      "\u001b[1;31mAttributeError\u001b[0m: 'str' object has no attribute 'get_str'"
     ]
    }
   ],
   "source": [
    "aa=list()\n",
    "for i in range(0,len(tr_hero)):\n",
    "    aa.append(tr_hero.roles[i].('Carry'))"
   ]
  },
  {
   "cell_type": "code",
   "execution_count": 1101,
   "metadata": {},
   "outputs": [
    {
     "ename": "TypeError",
     "evalue": "cannot concatenate a non-NDFrame object",
     "output_type": "error",
     "traceback": [
      "\u001b[1;31m---------------------------------------------------------------------------\u001b[0m",
      "\u001b[1;31mTypeError\u001b[0m                                 Traceback (most recent call last)",
      "\u001b[1;32m<ipython-input-1101-e24c91ab5f22>\u001b[0m in \u001b[0;36m<module>\u001b[1;34m()\u001b[0m\n\u001b[0;32m      3\u001b[0m         \u001b[0mtr_hero\u001b[0m\u001b[1;33m[\u001b[0m\u001b[1;34m'Carry'\u001b[0m\u001b[1;33m]\u001b[0m\u001b[1;33m.\u001b[0m\u001b[0mappend\u001b[0m\u001b[1;33m(\u001b[0m\u001b[1;36m0\u001b[0m\u001b[1;33m)\u001b[0m                    \u001b[1;31m# 1\u001b[0m\u001b[1;33m\u001b[0m\u001b[0m\n\u001b[0;32m      4\u001b[0m     \u001b[1;32melse\u001b[0m\u001b[1;33m:\u001b[0m\u001b[1;33m\u001b[0m\u001b[0m\n\u001b[1;32m----> 5\u001b[1;33m          \u001b[0mtr_hero\u001b[0m\u001b[1;33m[\u001b[0m\u001b[0mi\u001b[0m\u001b[1;33m,\u001b[0m\u001b[1;34m'Carry'\u001b[0m\u001b[1;33m]\u001b[0m\u001b[1;33m.\u001b[0m\u001b[0mappend\u001b[0m\u001b[1;33m(\u001b[0m\u001b[1;36m1\u001b[0m\u001b[1;33m)\u001b[0m\u001b[1;33m\u001b[0m\u001b[0m\n\u001b[0m\u001b[0;32m      6\u001b[0m     \u001b[1;31m#if 'Disabler' not in tr_hero.roles[i]:           # 2\u001b[0m\u001b[1;33m\u001b[0m\u001b[1;33m\u001b[0m\u001b[0m\n\u001b[0;32m      7\u001b[0m      \u001b[1;31m#   print(\"A\")\u001b[0m\u001b[1;33m\u001b[0m\u001b[1;33m\u001b[0m\u001b[0m\n",
      "\u001b[1;32mC:\\Users\\Mahavir\\Anaconda3\\lib\\site-packages\\pandas\\core\\series.py\u001b[0m in \u001b[0;36mappend\u001b[1;34m(self, to_append, ignore_index, verify_integrity)\u001b[0m\n\u001b[0;32m   1551\u001b[0m             \u001b[0mto_concat\u001b[0m \u001b[1;33m=\u001b[0m \u001b[1;33m[\u001b[0m\u001b[0mself\u001b[0m\u001b[1;33m,\u001b[0m \u001b[0mto_append\u001b[0m\u001b[1;33m]\u001b[0m\u001b[1;33m\u001b[0m\u001b[0m\n\u001b[0;32m   1552\u001b[0m         return concat(to_concat, ignore_index=ignore_index,\n\u001b[1;32m-> 1553\u001b[1;33m                       verify_integrity=verify_integrity)\n\u001b[0m\u001b[0;32m   1554\u001b[0m \u001b[1;33m\u001b[0m\u001b[0m\n\u001b[0;32m   1555\u001b[0m     \u001b[1;32mdef\u001b[0m \u001b[0m_binop\u001b[0m\u001b[1;33m(\u001b[0m\u001b[0mself\u001b[0m\u001b[1;33m,\u001b[0m \u001b[0mother\u001b[0m\u001b[1;33m,\u001b[0m \u001b[0mfunc\u001b[0m\u001b[1;33m,\u001b[0m \u001b[0mlevel\u001b[0m\u001b[1;33m=\u001b[0m\u001b[1;32mNone\u001b[0m\u001b[1;33m,\u001b[0m \u001b[0mfill_value\u001b[0m\u001b[1;33m=\u001b[0m\u001b[1;32mNone\u001b[0m\u001b[1;33m)\u001b[0m\u001b[1;33m:\u001b[0m\u001b[1;33m\u001b[0m\u001b[0m\n",
      "\u001b[1;32mC:\\Users\\Mahavir\\Anaconda3\\lib\\site-packages\\pandas\\core\\reshape\\concat.py\u001b[0m in \u001b[0;36mconcat\u001b[1;34m(objs, axis, join, join_axes, ignore_index, keys, levels, names, verify_integrity, copy)\u001b[0m\n\u001b[0;32m    204\u001b[0m                        \u001b[0mkeys\u001b[0m\u001b[1;33m=\u001b[0m\u001b[0mkeys\u001b[0m\u001b[1;33m,\u001b[0m \u001b[0mlevels\u001b[0m\u001b[1;33m=\u001b[0m\u001b[0mlevels\u001b[0m\u001b[1;33m,\u001b[0m \u001b[0mnames\u001b[0m\u001b[1;33m=\u001b[0m\u001b[0mnames\u001b[0m\u001b[1;33m,\u001b[0m\u001b[1;33m\u001b[0m\u001b[0m\n\u001b[0;32m    205\u001b[0m                        \u001b[0mverify_integrity\u001b[0m\u001b[1;33m=\u001b[0m\u001b[0mverify_integrity\u001b[0m\u001b[1;33m,\u001b[0m\u001b[1;33m\u001b[0m\u001b[0m\n\u001b[1;32m--> 206\u001b[1;33m                        copy=copy)\n\u001b[0m\u001b[0;32m    207\u001b[0m     \u001b[1;32mreturn\u001b[0m \u001b[0mop\u001b[0m\u001b[1;33m.\u001b[0m\u001b[0mget_result\u001b[0m\u001b[1;33m(\u001b[0m\u001b[1;33m)\u001b[0m\u001b[1;33m\u001b[0m\u001b[0m\n\u001b[0;32m    208\u001b[0m \u001b[1;33m\u001b[0m\u001b[0m\n",
      "\u001b[1;32mC:\\Users\\Mahavir\\Anaconda3\\lib\\site-packages\\pandas\\core\\reshape\\concat.py\u001b[0m in \u001b[0;36m__init__\u001b[1;34m(self, objs, axis, join, join_axes, keys, levels, names, ignore_index, verify_integrity, copy)\u001b[0m\n\u001b[0;32m    261\u001b[0m         \u001b[1;32mfor\u001b[0m \u001b[0mobj\u001b[0m \u001b[1;32min\u001b[0m \u001b[0mobjs\u001b[0m\u001b[1;33m:\u001b[0m\u001b[1;33m\u001b[0m\u001b[0m\n\u001b[0;32m    262\u001b[0m             \u001b[1;32mif\u001b[0m \u001b[1;32mnot\u001b[0m \u001b[0misinstance\u001b[0m\u001b[1;33m(\u001b[0m\u001b[0mobj\u001b[0m\u001b[1;33m,\u001b[0m \u001b[0mNDFrame\u001b[0m\u001b[1;33m)\u001b[0m\u001b[1;33m:\u001b[0m\u001b[1;33m\u001b[0m\u001b[0m\n\u001b[1;32m--> 263\u001b[1;33m                 \u001b[1;32mraise\u001b[0m \u001b[0mTypeError\u001b[0m\u001b[1;33m(\u001b[0m\u001b[1;34m\"cannot concatenate a non-NDFrame object\"\u001b[0m\u001b[1;33m)\u001b[0m\u001b[1;33m\u001b[0m\u001b[0m\n\u001b[0m\u001b[0;32m    264\u001b[0m \u001b[1;33m\u001b[0m\u001b[0m\n\u001b[0;32m    265\u001b[0m             \u001b[1;31m# consolidate\u001b[0m\u001b[1;33m\u001b[0m\u001b[1;33m\u001b[0m\u001b[0m\n",
      "\u001b[1;31mTypeError\u001b[0m: cannot concatenate a non-NDFrame object"
     ]
    }
   ],
   "source": [
    "for i in range(0,10):       #'Disabler' 'Durable' 'Escape' 'Initiator' 'Jungler' 'Nuker'  \n",
    "    if 'Carry' not in tr_hero.roles[i]:\n",
    "        tr_hero['Carry'].append(0)                    # 1 \n",
    "    else:\n",
    "         tr_hero.append(1)\n",
    "    #if 'Disabler' not in tr_hero.roles[i]:           # 2\n",
    "     #   print(\"A\") \n",
    "   # else:\n",
    "    #    print(\"B\")\n",
    "#print(\"fine\")"
   ]
  },
  {
   "cell_type": "code",
   "execution_count": 1099,
   "metadata": {},
   "outputs": [
    {
     "data": {
      "text/html": [
       "<div>\n",
       "<style>\n",
       "    .dataframe thead tr:only-child th {\n",
       "        text-align: right;\n",
       "    }\n",
       "\n",
       "    .dataframe thead th {\n",
       "        text-align: left;\n",
       "    }\n",
       "\n",
       "    .dataframe tbody tr th {\n",
       "        vertical-align: top;\n",
       "    }\n",
       "</style>\n",
       "<table border=\"1\" class=\"dataframe\">\n",
       "  <thead>\n",
       "    <tr style=\"text-align: right;\">\n",
       "      <th></th>\n",
       "      <th>hero_id</th>\n",
       "      <th>primary_attr</th>\n",
       "      <th>attack_type</th>\n",
       "      <th>roles</th>\n",
       "      <th>base_health</th>\n",
       "      <th>base_health_regen</th>\n",
       "      <th>base_mana</th>\n",
       "      <th>base_mana_regen</th>\n",
       "      <th>base_armor</th>\n",
       "      <th>base_magic_resistance</th>\n",
       "      <th>...</th>\n",
       "      <th>(0, Carry)</th>\n",
       "      <th>(1, Carry)</th>\n",
       "      <th>(2, Carry)</th>\n",
       "      <th>(3, Carry)</th>\n",
       "      <th>(4, Carry)</th>\n",
       "      <th>(5, Carry)</th>\n",
       "      <th>(6, Carry)</th>\n",
       "      <th>(7, Carry)</th>\n",
       "      <th>(8, Carry)</th>\n",
       "      <th>(9, Carry)</th>\n",
       "    </tr>\n",
       "  </thead>\n",
       "  <tbody>\n",
       "    <tr>\n",
       "      <th>0</th>\n",
       "      <td>1</td>\n",
       "      <td>agi</td>\n",
       "      <td>Melee</td>\n",
       "      <td>Carry:Escape:Nuker</td>\n",
       "      <td>200</td>\n",
       "      <td>1.50</td>\n",
       "      <td>75</td>\n",
       "      <td>0.9</td>\n",
       "      <td>-1.0</td>\n",
       "      <td>25</td>\n",
       "      <td>...</td>\n",
       "      <td>1</td>\n",
       "      <td>0</td>\n",
       "      <td>0</td>\n",
       "      <td>1</td>\n",
       "      <td>0</td>\n",
       "      <td>1</td>\n",
       "      <td>0</td>\n",
       "      <td>1</td>\n",
       "      <td>1</td>\n",
       "      <td>1</td>\n",
       "    </tr>\n",
       "    <tr>\n",
       "      <th>1</th>\n",
       "      <td>2</td>\n",
       "      <td>str</td>\n",
       "      <td>Melee</td>\n",
       "      <td>Initiator:Durable:Disabler:Jungler</td>\n",
       "      <td>200</td>\n",
       "      <td>4.25</td>\n",
       "      <td>75</td>\n",
       "      <td>0.9</td>\n",
       "      <td>-1.0</td>\n",
       "      <td>25</td>\n",
       "      <td>...</td>\n",
       "      <td>1</td>\n",
       "      <td>0</td>\n",
       "      <td>0</td>\n",
       "      <td>1</td>\n",
       "      <td>0</td>\n",
       "      <td>1</td>\n",
       "      <td>0</td>\n",
       "      <td>1</td>\n",
       "      <td>1</td>\n",
       "      <td>1</td>\n",
       "    </tr>\n",
       "    <tr>\n",
       "      <th>2</th>\n",
       "      <td>3</td>\n",
       "      <td>int</td>\n",
       "      <td>Ranged</td>\n",
       "      <td>Support:Disabler:Nuker:Durable</td>\n",
       "      <td>200</td>\n",
       "      <td>1.50</td>\n",
       "      <td>75</td>\n",
       "      <td>0.9</td>\n",
       "      <td>1.0</td>\n",
       "      <td>25</td>\n",
       "      <td>...</td>\n",
       "      <td>1</td>\n",
       "      <td>0</td>\n",
       "      <td>0</td>\n",
       "      <td>1</td>\n",
       "      <td>0</td>\n",
       "      <td>1</td>\n",
       "      <td>0</td>\n",
       "      <td>1</td>\n",
       "      <td>1</td>\n",
       "      <td>1</td>\n",
       "    </tr>\n",
       "    <tr>\n",
       "      <th>3</th>\n",
       "      <td>4</td>\n",
       "      <td>agi</td>\n",
       "      <td>Melee</td>\n",
       "      <td>Carry:Disabler:Jungler:Nuker:Initiator</td>\n",
       "      <td>200</td>\n",
       "      <td>1.50</td>\n",
       "      <td>75</td>\n",
       "      <td>0.9</td>\n",
       "      <td>0.0</td>\n",
       "      <td>25</td>\n",
       "      <td>...</td>\n",
       "      <td>1</td>\n",
       "      <td>0</td>\n",
       "      <td>0</td>\n",
       "      <td>1</td>\n",
       "      <td>0</td>\n",
       "      <td>1</td>\n",
       "      <td>0</td>\n",
       "      <td>1</td>\n",
       "      <td>1</td>\n",
       "      <td>1</td>\n",
       "    </tr>\n",
       "    <tr>\n",
       "      <th>4</th>\n",
       "      <td>5</td>\n",
       "      <td>int</td>\n",
       "      <td>Ranged</td>\n",
       "      <td>Support:Disabler:Nuker:Jungler</td>\n",
       "      <td>200</td>\n",
       "      <td>1.50</td>\n",
       "      <td>75</td>\n",
       "      <td>0.9</td>\n",
       "      <td>-1.0</td>\n",
       "      <td>25</td>\n",
       "      <td>...</td>\n",
       "      <td>1</td>\n",
       "      <td>0</td>\n",
       "      <td>0</td>\n",
       "      <td>1</td>\n",
       "      <td>0</td>\n",
       "      <td>1</td>\n",
       "      <td>0</td>\n",
       "      <td>1</td>\n",
       "      <td>1</td>\n",
       "      <td>1</td>\n",
       "    </tr>\n",
       "  </tbody>\n",
       "</table>\n",
       "<p>5 rows × 43 columns</p>\n",
       "</div>"
      ],
      "text/plain": [
       "   hero_id primary_attr attack_type                                   roles  \\\n",
       "0        1          agi       Melee                      Carry:Escape:Nuker   \n",
       "1        2          str       Melee      Initiator:Durable:Disabler:Jungler   \n",
       "2        3          int      Ranged          Support:Disabler:Nuker:Durable   \n",
       "3        4          agi       Melee  Carry:Disabler:Jungler:Nuker:Initiator   \n",
       "4        5          int      Ranged          Support:Disabler:Nuker:Jungler   \n",
       "\n",
       "   base_health  base_health_regen  base_mana  base_mana_regen  base_armor  \\\n",
       "0          200               1.50         75              0.9        -1.0   \n",
       "1          200               4.25         75              0.9        -1.0   \n",
       "2          200               1.50         75              0.9         1.0   \n",
       "3          200               1.50         75              0.9         0.0   \n",
       "4          200               1.50         75              0.9        -1.0   \n",
       "\n",
       "   base_magic_resistance     ...      (0, Carry)  (1, Carry)  (2, Carry)  \\\n",
       "0                     25     ...               1           0           0   \n",
       "1                     25     ...               1           0           0   \n",
       "2                     25     ...               1           0           0   \n",
       "3                     25     ...               1           0           0   \n",
       "4                     25     ...               1           0           0   \n",
       "\n",
       "   (3, Carry)  (4, Carry)  (5, Carry)  (6, Carry)  (7, Carry)  (8, Carry)  \\\n",
       "0           1           0           1           0           1           1   \n",
       "1           1           0           1           0           1           1   \n",
       "2           1           0           1           0           1           1   \n",
       "3           1           0           1           0           1           1   \n",
       "4           1           0           1           0           1           1   \n",
       "\n",
       "   (9, Carry)  \n",
       "0           1  \n",
       "1           1  \n",
       "2           1  \n",
       "3           1  \n",
       "4           1  \n",
       "\n",
       "[5 rows x 43 columns]"
      ]
     },
     "execution_count": 1099,
     "metadata": {},
     "output_type": "execute_result"
    }
   ],
   "source": [
    "tr_hero.head()"
   ]
  },
  {
   "cell_type": "code",
   "execution_count": 1065,
   "metadata": {
    "collapsed": true
   },
   "outputs": [],
   "source": [
    "for i in range(0,len(tr_hero)):       #'Disabler' 'Durable' 'Escape' 'Initiator' 'Jungler' 'Nuker'  \n",
    "    if 'Carry' not in tr_hero.roles[i]:\n",
    "        tr_hero['Carry']=0                           # 1 \n",
    "    else:\n",
    "        tr_hero['Carry']=1   \n",
    "    if 'Disabler' not in tr_hero.roles[i]:           # 2\n",
    "        tr_hero['Disabler']=0\n",
    "    else:\n",
    "        tr_hero['Disabler']=1   \n",
    "    if 'Durable' not in tr_hero.roles[i]:            # 3\n",
    "        tr_hero['Durable']=0\n",
    "    else:\n",
    "        tr_hero['Durable']=1   \n",
    "    if 'Escape' not in tr_hero.roles[i]:            # 4 \n",
    "        tr_hero['Escape']=0\n",
    "    else:\n",
    "        tr_hero['Escape']=1   \n",
    "    if 'Initiator' not in tr_hero.roles[i]:         # 5  \n",
    "        tr_hero['Initiator']=0\n",
    "    else:\n",
    "        tr_hero['Initiator']=1  \n",
    "    if 'Jungler' not in tr_hero.roles[i]:           # 6 \n",
    "        tr_hero['Jungler']=0\n",
    "    else:\n",
    "        tr_hero['Jungler']=1      \n",
    "    if 'Nuker' not in tr_hero.roles[i]:            # 7\n",
    "        tr_hero['Nuker']=0\n",
    "    else:\n",
    "        tr_hero['Nuker']=1\n",
    "    if 'Pusher' not in tr_hero.roles[i]:            # 8\n",
    "        tr_hero['Pusher']=0\n",
    "    else:\n",
    "        tr_hero['Pusher']=1\n",
    "    if 'Support' not in tr_hero.roles[i]:          # 9 \n",
    "        tr_hero['Support']=0\n",
    "    else:\n",
    "        tr_hero['Support']=1"
   ]
  },
  {
   "cell_type": "code",
   "execution_count": 67,
   "metadata": {},
   "outputs": [
    {
     "data": {
      "text/html": [
       "<div>\n",
       "<style>\n",
       "    .dataframe thead tr:only-child th {\n",
       "        text-align: right;\n",
       "    }\n",
       "\n",
       "    .dataframe thead th {\n",
       "        text-align: left;\n",
       "    }\n",
       "\n",
       "    .dataframe tbody tr th {\n",
       "        vertical-align: top;\n",
       "    }\n",
       "</style>\n",
       "<table border=\"1\" class=\"dataframe\">\n",
       "  <thead>\n",
       "    <tr style=\"text-align: right;\">\n",
       "      <th></th>\n",
       "      <th>hero_id</th>\n",
       "      <th>primary_attr</th>\n",
       "      <th>attack_type</th>\n",
       "      <th>roles</th>\n",
       "      <th>base_health</th>\n",
       "      <th>base_health_regen</th>\n",
       "      <th>base_mana</th>\n",
       "      <th>base_mana_regen</th>\n",
       "      <th>base_armor</th>\n",
       "      <th>base_magic_resistance</th>\n",
       "      <th>...</th>\n",
       "      <th>base_agility</th>\n",
       "      <th>base_intelligence</th>\n",
       "      <th>strength_gain</th>\n",
       "      <th>agility_gain</th>\n",
       "      <th>intelligence_gain</th>\n",
       "      <th>attack_range</th>\n",
       "      <th>projectile_speed</th>\n",
       "      <th>attack_rate</th>\n",
       "      <th>move_speed</th>\n",
       "      <th>turn_rate</th>\n",
       "    </tr>\n",
       "  </thead>\n",
       "  <tbody>\n",
       "    <tr>\n",
       "      <th>0</th>\n",
       "      <td>1</td>\n",
       "      <td>agi</td>\n",
       "      <td>Melee</td>\n",
       "      <td>Carry:Escape:Nuker</td>\n",
       "      <td>200</td>\n",
       "      <td>1.50</td>\n",
       "      <td>75</td>\n",
       "      <td>0.9</td>\n",
       "      <td>-1.0</td>\n",
       "      <td>25</td>\n",
       "      <td>...</td>\n",
       "      <td>22</td>\n",
       "      <td>12</td>\n",
       "      <td>1.3</td>\n",
       "      <td>2.8</td>\n",
       "      <td>1.8</td>\n",
       "      <td>150</td>\n",
       "      <td>0</td>\n",
       "      <td>1.45</td>\n",
       "      <td>310</td>\n",
       "      <td>0.5</td>\n",
       "    </tr>\n",
       "    <tr>\n",
       "      <th>1</th>\n",
       "      <td>2</td>\n",
       "      <td>str</td>\n",
       "      <td>Melee</td>\n",
       "      <td>Initiator:Durable:Disabler:Jungler</td>\n",
       "      <td>200</td>\n",
       "      <td>4.25</td>\n",
       "      <td>75</td>\n",
       "      <td>0.9</td>\n",
       "      <td>-1.0</td>\n",
       "      <td>25</td>\n",
       "      <td>...</td>\n",
       "      <td>20</td>\n",
       "      <td>18</td>\n",
       "      <td>2.8</td>\n",
       "      <td>2.2</td>\n",
       "      <td>1.6</td>\n",
       "      <td>150</td>\n",
       "      <td>900</td>\n",
       "      <td>1.70</td>\n",
       "      <td>290</td>\n",
       "      <td>0.6</td>\n",
       "    </tr>\n",
       "    <tr>\n",
       "      <th>2</th>\n",
       "      <td>3</td>\n",
       "      <td>int</td>\n",
       "      <td>Ranged</td>\n",
       "      <td>Support:Disabler:Nuker:Durable</td>\n",
       "      <td>200</td>\n",
       "      <td>1.50</td>\n",
       "      <td>75</td>\n",
       "      <td>0.9</td>\n",
       "      <td>1.0</td>\n",
       "      <td>25</td>\n",
       "      <td>...</td>\n",
       "      <td>23</td>\n",
       "      <td>23</td>\n",
       "      <td>2.4</td>\n",
       "      <td>2.4</td>\n",
       "      <td>2.4</td>\n",
       "      <td>400</td>\n",
       "      <td>900</td>\n",
       "      <td>1.70</td>\n",
       "      <td>310</td>\n",
       "      <td>0.6</td>\n",
       "    </tr>\n",
       "    <tr>\n",
       "      <th>3</th>\n",
       "      <td>4</td>\n",
       "      <td>agi</td>\n",
       "      <td>Melee</td>\n",
       "      <td>Carry:Disabler:Jungler:Nuker:Initiator</td>\n",
       "      <td>200</td>\n",
       "      <td>1.50</td>\n",
       "      <td>75</td>\n",
       "      <td>0.9</td>\n",
       "      <td>0.0</td>\n",
       "      <td>25</td>\n",
       "      <td>...</td>\n",
       "      <td>24</td>\n",
       "      <td>18</td>\n",
       "      <td>2.7</td>\n",
       "      <td>3.0</td>\n",
       "      <td>1.7</td>\n",
       "      <td>150</td>\n",
       "      <td>900</td>\n",
       "      <td>1.70</td>\n",
       "      <td>285</td>\n",
       "      <td>0.5</td>\n",
       "    </tr>\n",
       "    <tr>\n",
       "      <th>4</th>\n",
       "      <td>5</td>\n",
       "      <td>int</td>\n",
       "      <td>Ranged</td>\n",
       "      <td>Support:Disabler:Nuker:Jungler</td>\n",
       "      <td>200</td>\n",
       "      <td>1.50</td>\n",
       "      <td>75</td>\n",
       "      <td>0.9</td>\n",
       "      <td>-1.0</td>\n",
       "      <td>25</td>\n",
       "      <td>...</td>\n",
       "      <td>16</td>\n",
       "      <td>16</td>\n",
       "      <td>2.0</td>\n",
       "      <td>1.6</td>\n",
       "      <td>2.9</td>\n",
       "      <td>600</td>\n",
       "      <td>900</td>\n",
       "      <td>1.70</td>\n",
       "      <td>275</td>\n",
       "      <td>0.5</td>\n",
       "    </tr>\n",
       "  </tbody>\n",
       "</table>\n",
       "<p>5 rows × 23 columns</p>\n",
       "</div>"
      ],
      "text/plain": [
       "   hero_id primary_attr attack_type                                   roles  \\\n",
       "0        1          agi       Melee                      Carry:Escape:Nuker   \n",
       "1        2          str       Melee      Initiator:Durable:Disabler:Jungler   \n",
       "2        3          int      Ranged          Support:Disabler:Nuker:Durable   \n",
       "3        4          agi       Melee  Carry:Disabler:Jungler:Nuker:Initiator   \n",
       "4        5          int      Ranged          Support:Disabler:Nuker:Jungler   \n",
       "\n",
       "   base_health  base_health_regen  base_mana  base_mana_regen  base_armor  \\\n",
       "0          200               1.50         75              0.9        -1.0   \n",
       "1          200               4.25         75              0.9        -1.0   \n",
       "2          200               1.50         75              0.9         1.0   \n",
       "3          200               1.50         75              0.9         0.0   \n",
       "4          200               1.50         75              0.9        -1.0   \n",
       "\n",
       "   base_magic_resistance    ...      base_agility  base_intelligence  \\\n",
       "0                     25    ...                22                 12   \n",
       "1                     25    ...                20                 18   \n",
       "2                     25    ...                23                 23   \n",
       "3                     25    ...                24                 18   \n",
       "4                     25    ...                16                 16   \n",
       "\n",
       "   strength_gain  agility_gain  intelligence_gain  attack_range  \\\n",
       "0            1.3           2.8                1.8           150   \n",
       "1            2.8           2.2                1.6           150   \n",
       "2            2.4           2.4                2.4           400   \n",
       "3            2.7           3.0                1.7           150   \n",
       "4            2.0           1.6                2.9           600   \n",
       "\n",
       "   projectile_speed  attack_rate  move_speed  turn_rate  \n",
       "0                 0         1.45         310        0.5  \n",
       "1               900         1.70         290        0.6  \n",
       "2               900         1.70         310        0.6  \n",
       "3               900         1.70         285        0.5  \n",
       "4               900         1.70         275        0.5  \n",
       "\n",
       "[5 rows x 23 columns]"
      ]
     },
     "execution_count": 67,
     "metadata": {},
     "output_type": "execute_result"
    }
   ],
   "source": [
    "tr_hero.head()"
   ]
  },
  {
   "cell_type": "code",
   "execution_count": 1063,
   "metadata": {},
   "outputs": [
    {
     "data": {
      "text/plain": [
       "0      0\n",
       "1      0\n",
       "2      0\n",
       "3      0\n",
       "4      0\n",
       "5      0\n",
       "6      0\n",
       "7      0\n",
       "8      0\n",
       "9      0\n",
       "10     0\n",
       "11     0\n",
       "12     0\n",
       "13     0\n",
       "14     0\n",
       "15     0\n",
       "16     0\n",
       "17     0\n",
       "18     0\n",
       "19     0\n",
       "20     0\n",
       "21     0\n",
       "22     0\n",
       "23     0\n",
       "24     0\n",
       "25     0\n",
       "26     0\n",
       "27     0\n",
       "28     0\n",
       "29     0\n",
       "      ..\n",
       "85     0\n",
       "86     0\n",
       "87     0\n",
       "88     0\n",
       "89     0\n",
       "90     0\n",
       "91     0\n",
       "92     0\n",
       "93     0\n",
       "94     0\n",
       "95     0\n",
       "96     0\n",
       "97     0\n",
       "98     0\n",
       "99     0\n",
       "100    0\n",
       "101    0\n",
       "102    0\n",
       "103    0\n",
       "104    0\n",
       "105    0\n",
       "106    0\n",
       "107    0\n",
       "108    0\n",
       "109    0\n",
       "110    0\n",
       "111    0\n",
       "112    0\n",
       "113    0\n",
       "114    0\n",
       "Name: Support, Length: 115, dtype: int64"
      ]
     },
     "execution_count": 1063,
     "metadata": {},
     "output_type": "execute_result"
    }
   ],
   "source": [
    "tr_hero.Support"
   ]
  },
  {
   "cell_type": "code",
   "execution_count": 1054,
   "metadata": {
    "collapsed": true
   },
   "outputs": [],
   "source": [
    "dff.to_csv(\"C:/Users/Mahavir/Desktop/Dota/Roles.csv\")"
   ]
  },
  {
   "cell_type": "code",
   "execution_count": 1055,
   "metadata": {
    "collapsed": true
   },
   "outputs": [],
   "source": [
    "#print(np.sort(aa[0:115]))"
   ]
  },
  {
   "cell_type": "code",
   "execution_count": 1019,
   "metadata": {
    "collapsed": true
   },
   "outputs": [],
   "source": [
    "bb=list()\n",
    "for i in range(0,len(tr_hero)):\n",
    "       bb.append(np.sort(aa[i]))"
   ]
  },
  {
   "cell_type": "code",
   "execution_count": 1007,
   "metadata": {},
   "outputs": [
    {
     "data": {
      "text/plain": [
       "[array(['Carry', 'Escape', 'Nuker'], dtype='<U6'),\n",
       " array(['Disabler', 'Durable', 'Initiator', 'Jungler'], dtype='<U9'),\n",
       " array(['Disabler', 'Durable', 'Nuker', 'Support'], dtype='<U8'),\n",
       " array(['Carry', 'Disabler', 'Initiator', 'Jungler', 'Nuker'], dtype='<U9'),\n",
       " array(['Disabler', 'Jungler', 'Nuker', 'Support'], dtype='<U8'),\n",
       " array(['Carry', 'Disabler', 'Pusher'], dtype='<U8'),\n",
       " array(['Disabler', 'Initiator', 'Nuker', 'Support'], dtype='<U9'),\n",
       " array(['Carry', 'Escape', 'Pusher'], dtype='<U6'),\n",
       " array(['Carry', 'Disabler', 'Escape', 'Nuker', 'Support'], dtype='<U8'),\n",
       " array(['Carry', 'Disabler', 'Durable', 'Escape', 'Nuker'], dtype='<U8'),\n",
       " array(['Carry', 'Nuker'], dtype='<U5'),\n",
       " array(['Carry', 'Escape', 'Nuker', 'Pusher'], dtype='<U6'),\n",
       " array(['Disabler', 'Escape', 'Initiator', 'Nuker'], dtype='<U9'),\n",
       " array(['Disabler', 'Durable', 'Initiator', 'Nuker'], dtype='<U9'),\n",
       " array(['Carry', 'Durable', 'Nuker', 'Pusher'], dtype='<U7'),\n",
       " array(['Disabler', 'Escape', 'Initiator', 'Jungler', 'Nuker'], dtype='<U9'),\n",
       " array(['Carry', 'Disabler', 'Escape', 'Initiator', 'Nuker'], dtype='<U9'),\n",
       " array(['Carry', 'Disabler', 'Durable', 'Initiator', 'Nuker'], dtype='<U9'),\n",
       " array(['Carry', 'Disabler', 'Durable', 'Initiator', 'Nuker', 'Pusher'],\n",
       "       dtype='<U9'),\n",
       " array(['Disabler', 'Escape', 'Initiator', 'Nuker', 'Support'], dtype='<U9'),\n",
       " array(['Carry', 'Disabler', 'Escape', 'Nuker', 'Support'], dtype='<U8'),\n",
       " array(['Nuker'], dtype='<U5'),\n",
       " array(['Carry', 'Disabler', 'Durable', 'Initiator', 'Nuker'], dtype='<U9'),\n",
       " array(['Carry', 'Disabler', 'Nuker', 'Support'], dtype='<U8'),\n",
       " array(['Disabler', 'Initiator', 'Nuker', 'Support'], dtype='<U9'),\n",
       " array(['Disabler', 'Initiator', 'Nuker', 'Pusher', 'Support'], dtype='<U9'),\n",
       " array(['Carry', 'Disabler', 'Durable', 'Escape', 'Initiator'], dtype='<U9'),\n",
       " array(['Disabler', 'Durable', 'Initiator', 'Nuker'], dtype='<U9'),\n",
       " array(['Disabler', 'Nuker', 'Support'], dtype='<U8'),\n",
       " array(['Nuker', 'Support'], dtype='<U7'),\n",
       " array(['Carry', 'Disabler', 'Escape'], dtype='<U8'),\n",
       " array(['Disabler', 'Initiator', 'Jungler', 'Pusher'], dtype='<U9'),\n",
       " array(['Carry', 'Nuker', 'Pusher'], dtype='<U6'),\n",
       " array(['Carry', 'Nuker'], dtype='<U5'),\n",
       " array(['Carry', 'Disabler', 'Durable', 'Nuker'], dtype='<U8'),\n",
       " array(['Disabler', 'Initiator', 'Support'], dtype='<U9'),\n",
       " array(['Disabler', 'Durable', 'Initiator', 'Nuker'], dtype='<U9'),\n",
       " array(['Carry', 'Escape', 'Nuker'], dtype='<U6'),\n",
       " array(['Disabler', 'Initiator', 'Nuker', 'Pusher', 'Support'], dtype='<U9'),\n",
       " array(['Carry', 'Disabler', 'Durable', 'Escape', 'Initiator'], dtype='<U9'),\n",
       " array(['Carry', 'Disabler', 'Durable', 'Initiator', 'Support'],\n",
       "       dtype='<U9'),\n",
       " array(['Carry', 'Disabler', 'Nuker', 'Pusher'], dtype='<U8'),\n",
       " array(['Carry', 'Escape'], dtype='<U6'),\n",
       " array(['Nuker', 'Pusher'], dtype='<U6'),\n",
       " array(['Carry', 'Escape'], dtype='<U6'),\n",
       " array(['Carry', 'Disabler', 'Durable', 'Initiator'], dtype='<U9'),\n",
       " array(['Carry', 'Nuker', 'Pusher'], dtype='<U6'),\n",
       " array(['Carry', 'Disabler', 'Durable', 'Initiator', 'Nuker', 'Pusher'],\n",
       "       dtype='<U9'),\n",
       " array(['Disabler', 'Nuker', 'Support'], dtype='<U8'),\n",
       " array(['Disabler', 'Durable', 'Initiator', 'Nuker'], dtype='<U9'),\n",
       " array(['Carry', 'Disabler', 'Nuker', 'Pusher', 'Support'], dtype='<U8'),\n",
       " array(['Carry', 'Escape', 'Jungler', 'Nuker', 'Pusher'], dtype='<U7'),\n",
       " array(['Carry', 'Disabler', 'Durable', 'Escape', 'Jungler'], dtype='<U8'),\n",
       " array(['Disabler', 'Escape', 'Initiator', 'Jungler'], dtype='<U9'),\n",
       " array(['Carry', 'Escape', 'Pusher'], dtype='<U6'),\n",
       " array(['Durable', 'Nuker', 'Support'], dtype='<U7'),\n",
       " array(['Disabler', 'Durable', 'Jungler', 'Pusher', 'Support'], dtype='<U8'),\n",
       " array(['Carry', 'Durable', 'Initiator'], dtype='<U9'),\n",
       " array(['Carry', 'Disabler', 'Durable', 'Initiator', 'Nuker'], dtype='<U9'),\n",
       " array(['Carry', 'Escape', 'Nuker', 'Pusher'], dtype='<U6'),\n",
       " array(['Escape', 'Nuker'], dtype='<U6'),\n",
       " array(['Carry', 'Escape'], dtype='<U6'),\n",
       " array(['Disabler', 'Nuker', 'Pusher', 'Support'], dtype='<U8'),\n",
       " array(['Disabler', 'Escape', 'Initiator', 'Jungler'], dtype='<U9'),\n",
       " array(['Jungler', 'Pusher', 'Support'], dtype='<U7'),\n",
       " array(['Carry', 'Durable', 'Escape'], dtype='<U7'),\n",
       " array(['Disabler', 'Nuker', 'Support'], dtype='<U8'),\n",
       " array(['Carry', 'Disabler', 'Durable', 'Initiator', 'Nuker'], dtype='<U9'),\n",
       " array(['Carry', 'Disabler', 'Durable', 'Jungler'], dtype='<U8'),\n",
       " array(['Carry', 'Disabler', 'Durable', 'Escape', 'Initiator'], dtype='<U9'),\n",
       " array(['Carry', 'Disabler', 'Nuker'], dtype='<U8'),\n",
       " array(['Carry', 'Disabler', 'Durable', 'Initiator', 'Nuker', 'Support'],\n",
       "       dtype='<U9'),\n",
       " array(['Carry', 'Disabler', 'Escape', 'Nuker', 'Pusher'], dtype='<U8'),\n",
       " array(['Carry', 'Disabler', 'Initiator', 'Nuker', 'Support'], dtype='<U9'),\n",
       " array(['Carry', 'Disabler', 'Nuker'], dtype='<U8'),\n",
       " array(['Carry', 'Durable', 'Escape', 'Jungler', 'Pusher'], dtype='<U7'),\n",
       " array(['Carry', 'Disabler', 'Durable', 'Initiator', 'Nuker'], dtype='<U9'),\n",
       " array(['Disabler', 'Initiator', 'Nuker', 'Support'], dtype='<U9'),\n",
       " array(['Carry', 'Durable', 'Jungler', 'Pusher'], dtype='<U7'),\n",
       " array(['Carry', 'Disabler', 'Durable', 'Initiator', 'Pusher'], dtype='<U9'),\n",
       " array(['Carry', 'Disabler', 'Escape', 'Initiator', 'Nuker', 'Pusher'],\n",
       "       dtype='<U9'),\n",
       " array(['Disabler', 'Durable', 'Escape', 'Initiator', 'Support'],\n",
       "       dtype='<U9'),\n",
       " array(['Disabler', 'Durable', 'Initiator', 'Nuker', 'Support'],\n",
       "       dtype='<U9'),\n",
       " array(['Disabler', 'Durable', 'Nuker', 'Support'], dtype='<U8'),\n",
       " array(['Disabler', 'Nuker', 'Support'], dtype='<U8'),\n",
       " array(['Disabler', 'Initiator', 'Nuker', 'Support'], dtype='<U9'),\n",
       " array(['Disabler', 'Escape', 'Initiator', 'Nuker'], dtype='<U9'),\n",
       " array(['Carry', 'Disabler', 'Escape', 'Initiator', 'Pusher', 'Support'],\n",
       "       dtype='<U9'),\n",
       " array(['Disabler', 'Jungler', 'Nuker', 'Support'], dtype='<U8'),\n",
       " array(['Escape', 'Nuker', 'Support'], dtype='<U7'),\n",
       " array(['Disabler', 'Durable', 'Nuker', 'Pusher', 'Support'], dtype='<U8'),\n",
       " array(['Carry', 'Disabler', 'Escape', 'Nuker'], dtype='<U8'),\n",
       " array(['Carry', 'Disabler', 'Durable'], dtype='<U8'),\n",
       " array(['Carry', 'Disabler', 'Durable', 'Pusher'], dtype='<U8'),\n",
       " array(['Disabler', 'Durable', 'Escape', 'Initiator', 'Nuker'], dtype='<U9'),\n",
       " array(['Disabler', 'Escape', 'Initiator', 'Nuker'], dtype='<U9'),\n",
       " array(['Durable', 'Escape', 'Nuker'], dtype='<U7'),\n",
       " array(['Carry', 'Durable', 'Initiator', 'Nuker'], dtype='<U9'),\n",
       " array(['Disabler', 'Initiator', 'Nuker'], dtype='<U9'),\n",
       " array(['Disabler', 'Nuker', 'Support'], dtype='<U8'),\n",
       " array(['Carry', 'Durable', 'Support'], dtype='<U7'),\n",
       " array(['Disabler', 'Durable', 'Initiator', 'Nuker'], dtype='<U9'),\n",
       " array(['Carry', 'Disabler', 'Durable', 'Initiator', 'Nuker'], dtype='<U9'),\n",
       " array(['Disabler', 'Nuker'], dtype='<U8'),\n",
       " array(['Carry', 'Disabler', 'Escape', 'Initiator', 'Nuker'], dtype='<U9'),\n",
       " array(['Disabler', 'Durable', 'Escape', 'Initiator', 'Nuker'], dtype='<U9'),\n",
       " array(['Disabler', 'Durable', 'Escape', 'Nuker', 'Support'], dtype='<U8'),\n",
       " array(['Carry', 'Nuker', 'Pusher'], dtype='<U6'),\n",
       " array(['Disabler', 'Escape', 'Initiator', 'Nuker', 'Support'], dtype='<U9'),\n",
       " array(['Disabler', 'Escape', 'Nuker', 'Support'], dtype='<U8'),\n",
       " array(['Disabler', 'Nuker', 'Support'], dtype='<U8'),\n",
       " array(['Carry', 'Escape', 'Nuker'], dtype='<U6'),\n",
       " array(['Carry', 'Disabler', 'Escape', 'Initiator'], dtype='<U9'),\n",
       " array(['Disabler', 'Escape', 'Nuker', 'Support'], dtype='<U8'),\n",
       " array(['Carry', 'Disabler', 'Durable', 'Escape', 'Initiator', 'Nuker'],\n",
       "       dtype='<U9')]"
      ]
     },
     "execution_count": 1007,
     "metadata": {},
     "output_type": "execute_result"
    }
   ],
   "source": [
    "bb"
   ]
  },
  {
   "cell_type": "code",
   "execution_count": 989,
   "metadata": {
    "collapsed": true
   },
   "outputs": [],
   "source": [
    "aa.sort()"
   ]
  },
  {
   "cell_type": "code",
   "execution_count": 985,
   "metadata": {},
   "outputs": [
    {
     "data": {
      "text/plain": [
       "115"
      ]
     },
     "execution_count": 985,
     "metadata": {},
     "output_type": "execute_result"
    }
   ],
   "source": [
    "len(aa)"
   ]
  },
  {
   "cell_type": "code",
   "execution_count": 990,
   "metadata": {},
   "outputs": [
    {
     "data": {
      "text/plain": [
       "[['Carry', 'Disabler', 'Durable'],\n",
       " ['Carry', 'Disabler', 'Durable', 'Pusher', 'Initiator'],\n",
       " ['Carry', 'Disabler', 'Initiator', 'Durable', 'Nuker'],\n",
       " ['Carry', 'Disabler', 'Initiator', 'Durable', 'Nuker'],\n",
       " ['Carry', 'Disabler', 'Initiator', 'Durable', 'Nuker'],\n",
       " ['Carry', 'Disabler', 'Initiator', 'Durable', 'Nuker'],\n",
       " ['Carry', 'Disabler', 'Jungler', 'Nuker', 'Initiator'],\n",
       " ['Carry', 'Disabler', 'Pusher'],\n",
       " ['Carry', 'Durable', 'Escape'],\n",
       " ['Carry', 'Durable', 'Initiator'],\n",
       " ['Carry', 'Durable', 'Initiator', 'Disabler'],\n",
       " ['Carry', 'Durable', 'Initiator', 'Disabler', 'Escape'],\n",
       " ['Carry', 'Durable', 'Initiator', 'Nuker'],\n",
       " ['Carry', 'Durable', 'Jungler', 'Escape', 'Disabler'],\n",
       " ['Carry', 'Durable', 'Nuker', 'Pusher'],\n",
       " ['Carry', 'Escape'],\n",
       " ['Carry', 'Escape'],\n",
       " ['Carry', 'Escape'],\n",
       " ['Carry', 'Escape', 'Disabler'],\n",
       " ['Carry', 'Escape', 'Disabler', 'Initiator'],\n",
       " ['Carry', 'Escape', 'Disabler', 'Nuker'],\n",
       " ['Carry', 'Escape', 'Durable', 'Nuker', 'Disabler'],\n",
       " ['Carry', 'Escape', 'Nuker'],\n",
       " ['Carry', 'Escape', 'Nuker'],\n",
       " ['Carry', 'Escape', 'Nuker', 'Disabler', 'Initiator'],\n",
       " ['Carry', 'Escape', 'Nuker', 'Disabler', 'Initiator', 'Pusher'],\n",
       " ['Carry', 'Escape', 'Nuker', 'Initiator', 'Disabler'],\n",
       " ['Carry', 'Escape', 'Pusher'],\n",
       " ['Carry', 'Escape', 'Pusher', 'Nuker'],\n",
       " ['Carry', 'Initiator', 'Disabler', 'Durable', 'Escape'],\n",
       " ['Carry', 'Initiator', 'Disabler', 'Escape', 'Durable'],\n",
       " ['Carry', 'Initiator', 'Durable', 'Disabler', 'Nuker'],\n",
       " ['Carry', 'Initiator', 'Durable', 'Disabler', 'Nuker'],\n",
       " ['Carry', 'Jungler', 'Durable', 'Disabler'],\n",
       " ['Carry', 'Jungler', 'Pusher', 'Escape', 'Nuker'],\n",
       " ['Carry', 'Nuker'],\n",
       " ['Carry', 'Nuker'],\n",
       " ['Carry', 'Nuker', 'Disabler'],\n",
       " ['Carry', 'Nuker', 'Disabler'],\n",
       " ['Carry', 'Nuker', 'Disabler', 'Durable', 'Escape', 'Initiator'],\n",
       " ['Carry', 'Nuker', 'Disabler', 'Escape', 'Pusher'],\n",
       " ['Carry', 'Nuker', 'Durable', 'Disabler'],\n",
       " ['Carry', 'Nuker', 'Escape'],\n",
       " ['Carry', 'Nuker', 'Pusher'],\n",
       " ['Carry', 'Nuker', 'Pusher'],\n",
       " ['Carry', 'Nuker', 'Pusher', 'Initiator', 'Durable', 'Disabler'],\n",
       " ['Carry', 'Pusher', 'Disabler', 'Durable'],\n",
       " ['Carry', 'Pusher', 'Durable', 'Disabler', 'Initiator', 'Nuker'],\n",
       " ['Carry', 'Pusher', 'Escape'],\n",
       " ['Carry', 'Pusher', 'Escape', 'Nuker'],\n",
       " ['Carry', 'Pusher', 'Jungler', 'Durable'],\n",
       " ['Carry', 'Pusher', 'Jungler', 'Durable', 'Escape'],\n",
       " ['Carry', 'Pusher', 'Nuker'],\n",
       " ['Carry', 'Pusher', 'Nuker', 'Disabler'],\n",
       " ['Carry', 'Support', 'Disabler', 'Escape', 'Nuker'],\n",
       " ['Carry', 'Support', 'Disabler', 'Initiator', 'Nuker'],\n",
       " ['Carry', 'Support', 'Durable', 'Disabler', 'Initiator'],\n",
       " ['Carry', 'Support', 'Durable', 'Disabler', 'Initiator', 'Nuker'],\n",
       " ['Carry', 'Support', 'Escape', 'Nuker', 'Disabler'],\n",
       " ['Carry', 'Support', 'Nuker', 'Pusher', 'Disabler'],\n",
       " ['Carry', 'Support', 'Pusher', 'Disabler', 'Initiator', 'Escape'],\n",
       " ['Disabler', 'Initiator', 'Durable', 'Nuker'],\n",
       " ['Disabler', 'Jungler', 'Initiator', 'Pusher'],\n",
       " ['Disabler', 'Nuker', 'Initiator', 'Escape'],\n",
       " ['Durable', 'Initiator', 'Disabler', 'Nuker', 'Escape'],\n",
       " ['Escape', 'Nuker'],\n",
       " ['Initiator', 'Disabler', 'Durable', 'Nuker'],\n",
       " ['Initiator', 'Disabler', 'Durable', 'Nuker'],\n",
       " ['Initiator', 'Disabler', 'Escape', 'Nuker'],\n",
       " ['Initiator', 'Disabler', 'Nuker'],\n",
       " ['Initiator', 'Disabler', 'Nuker', 'Durable'],\n",
       " ['Initiator', 'Disabler', 'Nuker', 'Escape'],\n",
       " ['Initiator', 'Disabler', 'Nuker', 'Escape', 'Jungler'],\n",
       " ['Initiator', 'Durable', 'Disabler', 'Jungler'],\n",
       " ['Initiator', 'Durable', 'Disabler', 'Nuker'],\n",
       " ['Initiator', 'Jungler', 'Disabler', 'Escape'],\n",
       " ['Initiator', 'Jungler', 'Escape', 'Disabler'],\n",
       " ['Nuker'],\n",
       " ['Nuker', 'Disabler'],\n",
       " ['Nuker', 'Durable', 'Escape'],\n",
       " ['Nuker', 'Escape', 'Disabler', 'Initiator', 'Durable'],\n",
       " ['Nuker', 'Pusher'],\n",
       " ['Support', 'Carry', 'Durable'],\n",
       " ['Support', 'Carry', 'Nuker', 'Disabler'],\n",
       " ['Support', 'Disabler', 'Initiator', 'Nuker'],\n",
       " ['Support', 'Disabler', 'Nuker'],\n",
       " ['Support', 'Disabler', 'Nuker'],\n",
       " ['Support', 'Disabler', 'Nuker'],\n",
       " ['Support', 'Disabler', 'Nuker', 'Durable'],\n",
       " ['Support', 'Disabler', 'Nuker', 'Initiator'],\n",
       " ['Support', 'Disabler', 'Nuker', 'Initiator'],\n",
       " ['Support', 'Disabler', 'Nuker', 'Jungler'],\n",
       " ['Support', 'Durable', 'Disabler', 'Nuker'],\n",
       " ['Support', 'Durable', 'Nuker'],\n",
       " ['Support', 'Escape', 'Nuker'],\n",
       " ['Support', 'Initiator', 'Disabler'],\n",
       " ['Support', 'Initiator', 'Disabler', 'Nuker'],\n",
       " ['Support', 'Initiator', 'Disabler', 'Nuker', 'Escape'],\n",
       " ['Support', 'Initiator', 'Durable', 'Disabler', 'Escape'],\n",
       " ['Support', 'Jungler', 'Pusher'],\n",
       " ['Support', 'Jungler', 'Pusher', 'Durable', 'Disabler'],\n",
       " ['Support', 'Nuker'],\n",
       " ['Support', 'Nuker', 'Disabler'],\n",
       " ['Support', 'Nuker', 'Disabler'],\n",
       " ['Support', 'Nuker', 'Disabler'],\n",
       " ['Support', 'Nuker', 'Disabler', 'Durable', 'Escape'],\n",
       " ['Support', 'Nuker', 'Disabler', 'Durable', 'Initiator'],\n",
       " ['Support', 'Nuker', 'Disabler', 'Escape'],\n",
       " ['Support', 'Nuker', 'Disabler', 'Escape'],\n",
       " ['Support', 'Nuker', 'Disabler', 'Jungler'],\n",
       " ['Support', 'Nuker', 'Durable', 'Disabler', 'Pusher'],\n",
       " ['Support', 'Nuker', 'Initiator', 'Escape', 'Disabler'],\n",
       " ['Support', 'Nuker', 'Initiator', 'Pusher', 'Disabler'],\n",
       " ['Support', 'Nuker', 'Pusher', 'Disabler'],\n",
       " ['Support', 'Pusher', 'Disabler', 'Nuker', 'Initiator']]"
      ]
     },
     "execution_count": 990,
     "metadata": {},
     "output_type": "execute_result"
    }
   ],
   "source": [
    "aa"
   ]
  }
 ],
 "metadata": {
  "kernelspec": {
   "display_name": "Python 3",
   "language": "python",
   "name": "python3"
  },
  "language_info": {
   "codemirror_mode": {
    "name": "ipython",
    "version": 3
   },
   "file_extension": ".py",
   "mimetype": "text/x-python",
   "name": "python",
   "nbconvert_exporter": "python",
   "pygments_lexer": "ipython3",
   "version": "3.6.1"
  }
 },
 "nbformat": 4,
 "nbformat_minor": 2
}
